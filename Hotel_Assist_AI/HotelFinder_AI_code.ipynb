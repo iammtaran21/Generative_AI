{
 "cells": [
  {
   "cell_type": "code",
   "execution_count": 3,
   "id": "5dded1e9",
   "metadata": {},
   "outputs": [
    {
     "name": "stdout",
     "output_type": "stream",
     "text": [
      "Collecting openpyxl\n",
      "  Using cached openpyxl-3.1.2-py2.py3-none-any.whl (249 kB)\n",
      "Collecting et-xmlfile (from openpyxl)\n",
      "  Using cached et_xmlfile-1.1.0-py3-none-any.whl (4.7 kB)\n",
      "Installing collected packages: et-xmlfile, openpyxl\n",
      "Successfully installed et-xmlfile-1.1.0 openpyxl-3.1.2\n"
     ]
    }
   ],
   "source": [
    "!pip install openpyxl"
   ]
  },
  {
   "cell_type": "code",
   "execution_count": 193,
   "id": "1163d889",
   "metadata": {
    "scrolled": true
   },
   "outputs": [
    {
     "data": {
      "text/html": [
       "<div>\n",
       "<style scoped>\n",
       "    .dataframe tbody tr th:only-of-type {\n",
       "        vertical-align: middle;\n",
       "    }\n",
       "\n",
       "    .dataframe tbody tr th {\n",
       "        vertical-align: top;\n",
       "    }\n",
       "\n",
       "    .dataframe thead th {\n",
       "        text-align: right;\n",
       "    }\n",
       "</style>\n",
       "<table border=\"1\" class=\"dataframe\">\n",
       "  <thead>\n",
       "    <tr style=\"text-align: right;\">\n",
       "      <th></th>\n",
       "      <th>ID</th>\n",
       "      <th>Hotel name</th>\n",
       "      <th>Price(BAM)</th>\n",
       "      <th>Hotel star rating</th>\n",
       "      <th>Distance</th>\n",
       "      <th>Customer rating</th>\n",
       "      <th>Rooms</th>\n",
       "      <th>Squares</th>\n",
       "      <th>City</th>\n",
       "    </tr>\n",
       "  </thead>\n",
       "  <tbody>\n",
       "    <tr>\n",
       "      <th>0</th>\n",
       "      <td>1</td>\n",
       "      <td>Europe</td>\n",
       "      <td>139</td>\n",
       "      <td>5</td>\n",
       "      <td>350</td>\n",
       "      <td>8.3</td>\n",
       "      <td>1</td>\n",
       "      <td>25</td>\n",
       "      <td>Sarajevo</td>\n",
       "    </tr>\n",
       "    <tr>\n",
       "      <th>1</th>\n",
       "      <td>2</td>\n",
       "      <td>Europe</td>\n",
       "      <td>187</td>\n",
       "      <td>5</td>\n",
       "      <td>350</td>\n",
       "      <td>8.3</td>\n",
       "      <td>2</td>\n",
       "      <td>40</td>\n",
       "      <td>Sarajevo</td>\n",
       "    </tr>\n",
       "    <tr>\n",
       "      <th>2</th>\n",
       "      <td>3</td>\n",
       "      <td>Hills</td>\n",
       "      <td>255</td>\n",
       "      <td>5</td>\n",
       "      <td>10000</td>\n",
       "      <td>8.5</td>\n",
       "      <td>3</td>\n",
       "      <td>42</td>\n",
       "      <td>Sarajevo</td>\n",
       "    </tr>\n",
       "    <tr>\n",
       "      <th>3</th>\n",
       "      <td>4</td>\n",
       "      <td>Hills</td>\n",
       "      <td>141</td>\n",
       "      <td>5</td>\n",
       "      <td>10000</td>\n",
       "      <td>8.5</td>\n",
       "      <td>2</td>\n",
       "      <td>42</td>\n",
       "      <td>Sarajevo</td>\n",
       "    </tr>\n",
       "    <tr>\n",
       "      <th>4</th>\n",
       "      <td>5</td>\n",
       "      <td>Boutique</td>\n",
       "      <td>117</td>\n",
       "      <td>4</td>\n",
       "      <td>450</td>\n",
       "      <td>8.7</td>\n",
       "      <td>1</td>\n",
       "      <td>15</td>\n",
       "      <td>Sarajevo</td>\n",
       "    </tr>\n",
       "  </tbody>\n",
       "</table>\n",
       "</div>"
      ],
      "text/plain": [
       "   ID Hotel name  Price(BAM)  Hotel star rating  Distance  Customer rating  \\\n",
       "0   1     Europe         139                  5       350              8.3   \n",
       "1   2     Europe         187                  5       350              8.3   \n",
       "2   3      Hills         255                  5     10000              8.5   \n",
       "3   4      Hills         141                  5     10000              8.5   \n",
       "4   5   Boutique         117                  4       450              8.7   \n",
       "\n",
       "   Rooms  Squares      City  \n",
       "0      1       25  Sarajevo  \n",
       "1      2       40  Sarajevo  \n",
       "2      3       42  Sarajevo  \n",
       "3      2       42  Sarajevo  \n",
       "4      1       15  Sarajevo  "
      ]
     },
     "execution_count": 193,
     "metadata": {},
     "output_type": "execute_result"
    }
   ],
   "source": [
    "import pandas as pd\n",
    "df = pd.read_excel('hotels.xlsx')\n",
    "df.head()"
   ]
  },
  {
   "cell_type": "code",
   "execution_count": 120,
   "id": "8abd1af6",
   "metadata": {},
   "outputs": [
    {
     "data": {
      "text/plain": [
       "array(['Sarajevo', 'Zagreb', 'Belgrade', 'Ljubljana'], dtype=object)"
      ]
     },
     "execution_count": 120,
     "metadata": {},
     "output_type": "execute_result"
    }
   ],
   "source": [
    "df.City.unique()"
   ]
  },
  {
   "cell_type": "markdown",
   "id": "b688ad71",
   "metadata": {},
   "source": [
    "#### Approach:\n",
    "\n",
    "1. **Conversation and Information Gathering**: The chatbot will utilize language models to understand and generate natural responses. Through a conversational flow, it will ask relevant questions to gather information about the user's requirements.\n",
    "2. **Information Extraction**: Once the essential information is collected, rule-based functions come into play, extracting top 3 laptops that best matches the user's needs.\n",
    "3. **Personalized Recommendation**: Leveraging this extracted information, the chatbot engages in further dialogue with the user, efficiently addressing their queries and aiding them in finding the perfect Hotels for their preferences."
   ]
  },
  {
   "cell_type": "code",
   "execution_count": 76,
   "id": "dc0fa919",
   "metadata": {
    "scrolled": true
   },
   "outputs": [
    {
     "data": {
      "text/plain": [
       "count      120.00000\n",
       "mean      2353.75000\n",
       "std       2437.27326\n",
       "min        150.00000\n",
       "25%        450.00000\n",
       "50%       1550.00000\n",
       "75%       3400.00000\n",
       "max      10000.00000\n",
       "Name: Distance, dtype: float64"
      ]
     },
     "execution_count": 76,
     "metadata": {},
     "output_type": "execute_result"
    }
   ],
   "source": [
    "df.Distance.describe()"
   ]
  },
  {
   "cell_type": "code",
   "execution_count": 14,
   "id": "72b1c40b",
   "metadata": {
    "scrolled": false
   },
   "outputs": [
    {
     "data": {
      "text/plain": [
       "count    120.000000\n",
       "mean       2.000000\n",
       "std        0.916698\n",
       "min        1.000000\n",
       "25%        1.000000\n",
       "50%        2.000000\n",
       "75%        2.250000\n",
       "max        4.000000\n",
       "Name: Rooms, dtype: float64"
      ]
     },
     "execution_count": 14,
     "metadata": {},
     "output_type": "execute_result"
    }
   ],
   "source": [
    "df.Rooms.describe()"
   ]
  },
  {
   "cell_type": "code",
   "execution_count": 6,
   "id": "914d6559",
   "metadata": {},
   "outputs": [
    {
     "data": {
      "text/plain": [
       "array(['Sarajevo', 'Zagreb', 'Belgrade', 'Ljubljana'], dtype=object)"
      ]
     },
     "execution_count": 6,
     "metadata": {},
     "output_type": "execute_result"
    }
   ],
   "source": [
    "df['City'].unique()"
   ]
  },
  {
   "cell_type": "code",
   "execution_count": 5,
   "id": "57089146",
   "metadata": {
    "collapsed": true
   },
   "outputs": [
    {
     "data": {
      "text/plain": [
       "array(['Europe', 'Hills', 'Boutique', 'Radon plaza', 'Holiday inn',\n",
       "       'Grand', 'Hayat', 'Brkic', 'Saraj', 'Old town', 'Ruža',\n",
       "       'Riverside residence', 'Bristol', 'Opal home', 'Hollywood', 'Fala',\n",
       "       'Zagreb', 'Best western', 'Forty two', 'Viena', 'Palace',\n",
       "       'International', 'Garden', 'Esplanade', 'Double tree', 'Dubrovnik',\n",
       "       'Academia', 'Rebro', 'Orient ekspres', 'The loop',\n",
       "       'Public House Hotel\\xa0', 'Envoy Hotel', 'Hilton Belgrade\\xa0',\n",
       "       'Hotel Bohemian Garni - Skadarlija', 'Mama Shelter Belgrade\\xa0',\n",
       "       'Hotel N\\xa0', 'Hotel Rex\\xa0', 'Room 25 Belgrade\\xa0',\n",
       "       'Garni Hotel Apart K\\xa0', 'City Code Exclusive\\xa0',\n",
       "       'Hotel Avalon Garni\\xa0', 'Hyatt', 'Square nine',\n",
       "       'Metropol palace', 'Hotel Majestic', 'Saint Ten Hotel',\n",
       "       'In Hotel ', 'Falkensteiner Hotel', 'Hotel Moskva',\n",
       "       'Tullip Inn Putnik', 'Hotel Union', 'Hotel Elegance',\n",
       "       'Hotel Emonec\\xa0', 'Atelier Hotel\\xa0', 'Adora Hotel',\n",
       "       'Hotel Center Ljubljana\\xa0', 'Hotel Lev',\n",
       "       'Best Western Premier Hotel Slon',\n",
       "       'Radisson Blu Plaza Hotel Ljubljana', 'City Hotel Ljubljana',\n",
       "       'Bit Center Hotel', 'Hotel Vila Katrca', 'intercontinental',\n",
       "       'Hotel Mrak', 'Vander Urbani Resort - Member of Design\\xa0Hotels',\n",
       "       'Four Points by Sheraton Ljubljana Mons ', 'Hotel Nox',\n",
       "       'Grand Hotel Union', 'B&B Hotel Ljubljana Park', 'WUD Hotel',\n",
       "       'uHotel', 'Allegro Hotel', 'M Hotel', 'Austria Trend Hotel'],\n",
       "      dtype=object)"
      ]
     },
     "execution_count": 5,
     "metadata": {},
     "output_type": "execute_result"
    }
   ],
   "source": [
    "df['Hotel name'].unique()"
   ]
  },
  {
   "cell_type": "code",
   "execution_count": 7,
   "id": "4dd68218",
   "metadata": {},
   "outputs": [
    {
     "data": {
      "text/plain": [
       "array([5, 4, 3, 2])"
      ]
     },
     "execution_count": 7,
     "metadata": {},
     "output_type": "execute_result"
    }
   ],
   "source": [
    "df['Hotel star rating'].unique()"
   ]
  },
  {
   "cell_type": "code",
   "execution_count": 10,
   "id": "9661384d",
   "metadata": {},
   "outputs": [
    {
     "data": {
      "text/plain": [
       "count    120.000000\n",
       "mean     153.341667\n",
       "std       79.444235\n",
       "min       39.000000\n",
       "25%       99.500000\n",
       "50%      140.000000\n",
       "75%      180.000000\n",
       "max      474.000000\n",
       "Name: Price(BAM), dtype: float64"
      ]
     },
     "execution_count": 10,
     "metadata": {},
     "output_type": "execute_result"
    }
   ],
   "source": [
    "df['Price(BAM)'].describe()"
   ]
  },
  {
   "cell_type": "markdown",
   "id": "3ce65f1c",
   "metadata": {},
   "source": [
    "### Here we build our AI system"
   ]
  },
  {
   "cell_type": "code",
   "execution_count": 194,
   "id": "f02b4bb1",
   "metadata": {},
   "outputs": [],
   "source": [
    "import os,json,ast\n",
    "import openai"
   ]
  },
  {
   "cell_type": "code",
   "execution_count": 195,
   "id": "bb98089c",
   "metadata": {},
   "outputs": [],
   "source": [
    "folder_path = \"/Users/taransingh/Desktop/Travel_Assist_AI/\"\n",
    "file_path = folder_path + \"openapi_key.txt\"\n",
    "\n",
    "# Read the API key from the file\n",
    "with open(file_path, \"r\") as f:\n",
    "    api_key = f.read().strip()\n",
    "\n",
    "# Set the API key for the openai library\n",
    "openai.api_key = api_key"
   ]
  },
  {
   "cell_type": "code",
   "execution_count": 223,
   "id": "26dc05d3",
   "metadata": {},
   "outputs": [],
   "source": [
    "def initialize_conversation():\n",
    "    \"\"\"\n",
    "    Returns a list [{\"role\": \"system\", \"content\": system_message}]\n",
    "    \"\"\"\n",
    "\n",
    "    delimiter = \"####\"\n",
    "    example_user_req = {'City': 'Sarajevo','Number of Rooms': 1,'Distance from city center':'Low', 'Hotel Star Ratings': '3','Budget in BAM': '60'}\n",
    "\n",
    "    system_message = f\"\"\"\n",
    "    \n",
    "    You are an experienced Hotel guide and your goal is to recommend the best Hotel to a user.\n",
    "    You need to ask relevant questions and understand the user profile and requirements by analysing the user's responses.\n",
    "    You final objective is to fill the values for the different keys ('City','Number of Rooms','Distance from city centre','Hotel Star Ratings','Budget in BAM') in the python dictionary and be confident of the values.\n",
    "    These key value pairs define the user's profile.\n",
    "    The python dictionary looks like this {{'City': 'values','Number of Rooms': values,'Distance from city centre': values,  'Hotel Star Ratings': 'values','Budget in BAM': 'values'}}\n",
    "    The values for key 'City' should be either of 'Sarajevo','Zagreb','Belgrade','Ljubljana'.\n",
    "    The values for key 'Number of Rooms' should be strictly below 5.\n",
    "    The values for key 'Distance from city center' should be either 'Low'or 'High'.\n",
    "    The values for key 'Hotel Star ratings' should be from 2 to 5.\n",
    "    The values currently in the dictionary are only representative values.\n",
    "    \n",
    "    {delimiter}Here are some instructions around the values for the different keys. If you do not follow this, you'll be heavily penalised.\n",
    "    - The value for 'budget' should be a numerical value extracted from the user's response.\n",
    "    - 'City' value needs to be either of 'Sarajevo','Zagreb','Belgrade','Ljubljana'. If the user says any other city, please mention that there are no hotels in that city that we can suggest.\n",
    "    - 'Number of Rooms' value needs to be from 1 to 4. If the user says more than 4 rooms, please mention that there are a maximum of 4 rooms available.\n",
    "    - 'Distance from city center' value needs to be either of either 'low' or 'high'.\n",
    "    - 'Budget' value needs to be greater than or equal to 50 BAM. If the user says less than that, please mention that there are no hotels in that range.\n",
    "    - Do not randomly assign values to any of the keys. The values need to be inferred from the user's response.\n",
    "    {delimiter}\n",
    "    \n",
    "    \n",
    "    To fill the dictionary, you need to have the following chain of thoughts:    \n",
    "    {delimiter} Thought 1: Ask a question to understand the user's profile and requirements. \\n\n",
    "    If their primary requirements for a hotel is unclear. Ask another question to comprehend their needs.\n",
    "    You are trying to fill the values of all the keys ('City','Number of Rooms','Distance from city centre','Hotel Ratings','Budget in BAM') in the python dictionary and be confident of the values.\n",
    "    Identify the keys for which you can fill the values confidently using the understanding. \\n\n",
    "    Remember the instructions around the values for the different keys.\n",
    "    Answer \"Yes\" or \"No\" to indicate if you understand the requirements and have updated the values for the relevant keys. \\n\n",
    "    If yes, proceed to the next step. Otherwise, rephrase the question to capture their profile. \\n{delimiter}\n",
    "    \n",
    "    {delimiter}Thought 2: Now, you are trying to fill the values for the rest of the keys which you couldn't in the previous step.\n",
    "    Remember the instructions around the values for the different keys. Ask questions you might have for all the keys to strengthen your understanding of the user's profile.\n",
    "    Answer \"Yes\" or \"No\" to indicate if you understood all the values for the keys and are confident about the same.\n",
    "    If yes, move to the next Thought. If no, ask question on the keys whose values you are unsure of. \\n\n",
    "    It is a good practice to ask question with a sound logic as opposed to directly citing the key you want to understand value for.{delimiter}\n",
    "    \n",
    "    {delimiter}Thought 3: Check if you have correctly updated the values for the different keys in the python dictionary.\n",
    "    If you are not confident about any of the values, ask clarifying questions. {delimiter}\n",
    "\n",
    "    Follow the above chain of thoughts and only output the final updated python dictionary. \\n\n",
    "    \n",
    "    {delimiter} Here is a sample conversation between the user and assistant:\n",
    "    User: \"Hi, I am on vacation with my family and we are in search of a hotel.\"\n",
    "    Assistant: That's wonderful! Going on vacation with your spouse is a great way to create lasting memories. To help you find the perfect hotel, I'll need a bit more information: Which city are you in currently or planning to visit among the following options: (Sarajevo, Zagreb, Belgrade, Ljubljana)?\"\n",
    "    User: \"I am in Sarajevo.\"\n",
    "    Assistant: \"Great! You're currently in Sarajevo. Do you wish to stay far or close to the city center?\"\n",
    "    User: \"I'd stay nearby the City Center\"\n",
    "    Assistant: \"Thank you for the information. How many rooms do you need for your stay?\"\n",
    "    User: \"We will be staying in 1 room\"\n",
    "    Assistant:\"Could you kindly let me know your budget per night in BAM? This will help me find options that fit within your price range while meeting the specified requirements.\"\n",
    "    User: \"my max budget is 60 BAM\"\n",
    "    Assistant:\"Alright lastly please let me know if you prefer Hotel Star ratings from 2 to 5?\"\n",
    "    User: \"my max budget is 60 BAM\"\n",
    "    Assistant: \"{example_user_req}\"\n",
    "    {delimiter}\n",
    "    {delimiter}\n",
    "    Make sure to provide the cities 'Sarajevo','Zagreb','Belgrade','Ljubljana', in your first question for the user to chose from.\n",
    "    Ask the questions in strict order:\n",
    "    1. City confirmation\n",
    "    2. Far or Nearby City Center confirmation\n",
    "    3. Number of rooms confirmation\n",
    "    4. Budget confirmation\n",
    "    5. Hotel Star Ratings confirmation\n",
    "    \n",
    "    Dont take user input on an empty question , user should be able to answer 1 of the 5 above, in order.\n",
    "    {delimiter}\n",
    "    \n",
    "    \n",
    "    Start with a short welcome message, greet the user well and figure out the preferences in the following messages.\n",
    "    \"\"\"\n",
    "    conversation = [{\"role\": \"system\", \"content\": system_message}]\n",
    "    return conversation"
   ]
  },
  {
   "cell_type": "code",
   "execution_count": 224,
   "id": "f5661b88",
   "metadata": {
    "scrolled": true
   },
   "outputs": [
    {
     "name": "stdout",
     "output_type": "stream",
     "text": [
      "[{'role': 'system', 'content': '\\n    \\n    You are an experienced Hotel guide and your goal is to recommend the best Hotel to a user.\\n    You need to ask relevant questions and understand the user profile and requirements by analysing the user\\'s responses.\\n    You final objective is to fill the values for the different keys (\\'City\\',\\'Number of Rooms\\',\\'Distance from city centre\\',\\'Hotel Star Ratings\\',\\'Budget in BAM\\') in the python dictionary and be confident of the values.\\n    These key value pairs define the user\\'s profile.\\n    The python dictionary looks like this {\\'City\\': \\'values\\',\\'Number of Rooms\\': values,\\'Distance from city centre\\': values,  \\'Hotel Star Ratings\\': \\'values\\',\\'Budget in BAM\\': \\'values\\'}\\n    The values for key \\'City\\' should be either of \\'Sarajevo\\',\\'Zagreb\\',\\'Belgrade\\',\\'Ljubljana\\'.\\n    The values for key \\'Number of Rooms\\' should be strictly below 5.\\n    The values for key \\'Distance from city center\\' should be either \\'Low\\'or \\'High\\'.\\n    The values for key \\'Hotel Star ratings\\' should be from 2 to 5.\\n    The values currently in the dictionary are only representative values.\\n    \\n    ####Here are some instructions around the values for the different keys. If you do not follow this, you\\'ll be heavily penalised.\\n    - The value for \\'budget\\' should be a numerical value extracted from the user\\'s response.\\n    - \\'City\\' value needs to be either of \\'Sarajevo\\',\\'Zagreb\\',\\'Belgrade\\',\\'Ljubljana\\'. If the user says any other city, please mention that there are no hotels in that city that we can suggest.\\n    - \\'Number of Rooms\\' value needs to be from 1 to 4. If the user says more than 4 rooms, please mention that there are a maximum of 4 rooms available.\\n    - \\'Distance from city center\\' value needs to be either of either \\'low\\' or \\'high\\'.\\n    - \\'Budget\\' value needs to be greater than or equal to 50 BAM. If the user says less than that, please mention that there are no hotels in that range.\\n    - Do not randomly assign values to any of the keys. The values need to be inferred from the user\\'s response.\\n    ####\\n    \\n    \\n    To fill the dictionary, you need to have the following chain of thoughts:    \\n    #### Thought 1: Ask a question to understand the user\\'s profile and requirements. \\n\\n    If their primary requirements for a hotel is unclear. Ask another question to comprehend their needs.\\n    You are trying to fill the values of all the keys (\\'City\\',\\'Number of Rooms\\',\\'Distance from city centre\\',\\'Hotel Ratings\\',\\'Budget in BAM\\') in the python dictionary and be confident of the values.\\n    Identify the keys for which you can fill the values confidently using the understanding. \\n\\n    Remember the instructions around the values for the different keys.\\n    Answer \"Yes\" or \"No\" to indicate if you understand the requirements and have updated the values for the relevant keys. \\n\\n    If yes, proceed to the next step. Otherwise, rephrase the question to capture their profile. \\n####\\n    \\n    ####Thought 2: Now, you are trying to fill the values for the rest of the keys which you couldn\\'t in the previous step.\\n    Remember the instructions around the values for the different keys. Ask questions you might have for all the keys to strengthen your understanding of the user\\'s profile.\\n    Answer \"Yes\" or \"No\" to indicate if you understood all the values for the keys and are confident about the same.\\n    If yes, move to the next Thought. If no, ask question on the keys whose values you are unsure of. \\n\\n    It is a good practice to ask question with a sound logic as opposed to directly citing the key you want to understand value for.####\\n    \\n    ####Thought 3: Check if you have correctly updated the values for the different keys in the python dictionary.\\n    If you are not confident about any of the values, ask clarifying questions. ####\\n\\n    Follow the above chain of thoughts and only output the final updated python dictionary. \\n\\n    \\n    #### Here is a sample conversation between the user and assistant:\\n    User: \"Hi, I am on vacation with my family and we are in search of a hotel.\"\\n    Assistant: That\\'s wonderful! Going on vacation with your spouse is a great way to create lasting memories. To help you find the perfect hotel, I\\'ll need a bit more information: Which city are you in currently or planning to visit among the following options: (Sarajevo, Zagreb, Belgrade, Ljubljana)?\"\\n    User: \"I am in Sarajevo.\"\\n    Assistant: \"Great! You\\'re currently in Sarajevo. Do you wish to stay far or close to the city center?\"\\n    User: \"I\\'d stay nearby the City Center\"\\n    Assistant: \"Thank you for the information. How many rooms do you need for your stay?\"\\n    User: \"We will be staying in 1 room\"\\n    Assistant:\"Could you kindly let me know your budget per night in BAM? This will help me find options that fit within your price range while meeting the specified requirements.\"\\n    User: \"my max budget is 60 BAM\"\\n    Assistant:\"Alright lastly please let me know if you prefer Hotel Star ratings from 2 to 5?\"\\n    User: \"my max budget is 60 BAM\"\\n    Assistant: \"{\\'City\\': \\'Sarajevo\\', \\'Number of Rooms\\': 1, \\'Distance from city center\\': \\'Low\\', \\'Hotel Star Ratings\\': \\'3\\', \\'Budget in BAM\\': \\'60\\'}\"\\n    ####\\n    ####\\n    Make sure to provide the cities \\'Sarajevo\\',\\'Zagreb\\',\\'Belgrade\\',\\'Ljubljana\\', in your first question for the user to chose from.\\n    Ask the questions in strict order:\\n    1. City confirmation\\n    2. Far or Nearby City Center confirmation\\n    3. Number of rooms confirmation\\n    4. Budget confirmation\\n    5. Hotel Star Ratings confirmation\\n    \\n    Dont take user input on an empty question , user should be able to answer 1 of the 5 above, in order.\\n    ####\\n    \\n    \\n    Start with a short welcome message, greet the user well and figure out the preferences in the following messages.\\n    '}]\n"
     ]
    }
   ],
   "source": [
    "debug_conversation = initialize_conversation()\n",
    "print(debug_conversation)"
   ]
  },
  {
   "cell_type": "code",
   "execution_count": 225,
   "id": "b09085d6",
   "metadata": {},
   "outputs": [],
   "source": [
    "def get_chat_model_completions(messages):\n",
    "    response = openai.ChatCompletion.create(\n",
    "        model=\"gpt-3.5-turbo\",\n",
    "        messages=messages,\n",
    "        temperature=0, \n",
    "        max_tokens = 1900\n",
    "    )\n",
    "    return response.choices[0].message[\"content\"]"
   ]
  },
  {
   "cell_type": "code",
   "execution_count": 226,
   "id": "d15d995f",
   "metadata": {
    "scrolled": true
   },
   "outputs": [
    {
     "name": "stdout",
     "output_type": "stream",
     "text": [
      "Assistant: \"Hello! Welcome to our hotel recommendation service. How can I assist you today?\"\n"
     ]
    }
   ],
   "source": [
    "debug_introduction = get_chat_model_completions(debug_conversation)\n",
    "print(debug_introduction)"
   ]
  },
  {
   "cell_type": "code",
   "execution_count": 227,
   "id": "2e8211d6",
   "metadata": {},
   "outputs": [],
   "source": [
    "debug_user_input = \"Hi, I am Taran. I am looking for a hotel in Sarajevo.\""
   ]
  },
  {
   "cell_type": "code",
   "execution_count": 228,
   "id": "842d913a",
   "metadata": {},
   "outputs": [
    {
     "name": "stdout",
     "output_type": "stream",
     "text": [
      "That's wonderful, Taran! Sarajevo is a beautiful city. To help you find the perfect hotel, I'll need a bit more information. Do you wish to stay far or close to the city center?\n"
     ]
    }
   ],
   "source": [
    "debug_conversation.append({\"role\": \"user\", \"content\": debug_user_input})\n",
    "debug_response_assistant = get_chat_model_completions(debug_conversation)\n",
    "print(debug_response_assistant)"
   ]
  },
  {
   "cell_type": "code",
   "execution_count": 229,
   "id": "fbd6338d",
   "metadata": {},
   "outputs": [],
   "source": [
    "def moderation_check(user_input):\n",
    "    response = openai.Moderation.create(input=user_input)\n",
    "    moderation_output = response[\"results\"][0]\n",
    "    if moderation_output[\"flagged\"] == True:\n",
    "        return \"Flagged\"\n",
    "    else:\n",
    "        return \"Not Flagged\""
   ]
  },
  {
   "cell_type": "code",
   "execution_count": 203,
   "id": "cf6cdfa7",
   "metadata": {},
   "outputs": [
    {
     "name": "stdout",
     "output_type": "stream",
     "text": [
      "Not Flagged\n"
     ]
    }
   ],
   "source": [
    "debug_moderation = moderation_check(debug_user_input)\n",
    "print(debug_moderation)"
   ]
  },
  {
   "cell_type": "code",
   "execution_count": null,
   "id": "02432eeb",
   "metadata": {},
   "outputs": [],
   "source": []
  },
  {
   "cell_type": "code",
   "execution_count": null,
   "id": "c0e447ec",
   "metadata": {},
   "outputs": [],
   "source": []
  },
  {
   "cell_type": "markdown",
   "id": "29a7874f",
   "metadata": {},
   "source": [
    "- `intent_confirmation_layer()`: This function takes the assistant's response and evaluates if the chatbot has captured the user's profile clearly. Specifically, this checks if the following properties for the user has been captured or not\n",
    "   - City\n",
    "   - Number of Rooms\n",
    "   - Distance from City Center\n",
    "   - Hotel Star Ratings\n",
    "   - Budget"
   ]
  },
  {
   "cell_type": "code",
   "execution_count": 230,
   "id": "adacf2ed",
   "metadata": {},
   "outputs": [],
   "source": [
    "def intent_confirmation_layer(response_assistant):\n",
    "    delimiter = \"####\"\n",
    "    prompt = f\"\"\"\n",
    "    You are a senior evaluator who has an eye for detail.\n",
    "    You are provided an input. You need to evaluate if the input has the following keys: City, Number of Rooms, Distance from city center, Hotel Star Ratings, Budget in BAM\n",
    "    Next you need to evaluate if the keys have the the values filled correctly.\n",
    "    The values for key 'City' should be either 'Sarajevo','Zagreb','Belgrade','Ljubljana'.\n",
    "    The values for key 'Number of Rooms' should be strictly below 5.\n",
    "    The values for key 'Distance from city center should be 'low' or 'high'.\n",
    "    The values for key 'Hotel Star Ratings' should be from 2 to 5.\n",
    "    The value for 'budget' should be a numerical value extracted from the user's response in BAM currency.\n",
    "    Output a string 'Yes' if the input contains the dictionary with the values correctly filled for all keys.\n",
    "    Otherwise out the string 'No'.\n",
    "\n",
    "    Here is the input: {response_assistant}\n",
    "    Only output a one-word string - Yes/No.\n",
    "    \"\"\"\n",
    "\n",
    "\n",
    "    confirmation = openai.Completion.create(\n",
    "                                    model=\"text-davinci-003\",\n",
    "                                    prompt = prompt,\n",
    "                                    temperature=0)\n",
    "\n",
    "\n",
    "    return confirmation[\"choices\"][0][\"text\"]"
   ]
  },
  {
   "cell_type": "code",
   "execution_count": 231,
   "id": "567c8ee5",
   "metadata": {},
   "outputs": [
    {
     "name": "stdout",
     "output_type": "stream",
     "text": [
      "\n",
      "No\n"
     ]
    }
   ],
   "source": [
    "debug_confirmation = intent_confirmation_layer(debug_response_assistant)\n",
    "print(debug_confirmation)"
   ]
  },
  {
   "cell_type": "code",
   "execution_count": null,
   "id": "3f3f56fb",
   "metadata": {},
   "outputs": [],
   "source": []
  },
  {
   "cell_type": "code",
   "execution_count": 232,
   "id": "6c0082fc",
   "metadata": {},
   "outputs": [],
   "source": [
    "debug_response_assistant_n = f\"\"\"\n",
    "\n",
    "Based on the information you have provided, I have updated the values in the dictionary as follows:\n",
    "\n",
    "{{'City': 'Sarajevo','Number of Rooms': 1,'Distance from city centre': 'low',  'Hotel Star Ratings': 3,'Budget in BAM': 90}}\n",
    "\n",
    "Is there anything else I can assist you with?\n",
    "\"\"\"\n",
    "#Note that you are using double curly braces"
   ]
  },
  {
   "cell_type": "code",
   "execution_count": null,
   "id": "6c019262",
   "metadata": {},
   "outputs": [],
   "source": []
  },
  {
   "cell_type": "code",
   "execution_count": 233,
   "id": "2c192aae",
   "metadata": {},
   "outputs": [
    {
     "data": {
      "text/plain": [
       "'\\nYes'"
      ]
     },
     "execution_count": 233,
     "metadata": {},
     "output_type": "execute_result"
    }
   ],
   "source": [
    "intent_confirmation_layer(debug_response_assistant_n)"
   ]
  },
  {
   "cell_type": "code",
   "execution_count": 234,
   "id": "b8f2d37b",
   "metadata": {},
   "outputs": [],
   "source": [
    "def dictionary_present(response):\n",
    "    delimiter = \"####\"\n",
    "    user_req = {'City': 'Sarajevo','Number of Rooms': 1,'Distance from city centre': 'low',  'Hotel Star Ratings': 3,'Budget in BAM': 90}\n",
    "    prompt = f\"\"\"You are a python expert. You are provided an input.\n",
    "            You have to check if there is a python dictionary present in the string.\n",
    "            It will have the following format {user_req}.\n",
    "            Your task is to just extract and return only the python dictionary from the input.\n",
    "            The output should match the format as {user_req}.\n",
    "            The output should contain the exact keys and values as present in the input.\n",
    "\n",
    "            Here are some sample input output pairs for better understanding:\n",
    "            {delimiter}\n",
    "            input: - City: 'Sarajevo'- Number of Rooms: 1 - Distance from city centre: 'low' - Hotel Star Ratings: 3 - Budget in BAM: 90\n",
    "            output: {{'City': 'Sarajevo','Number of Rooms': 1,'Distance from city centre': 'low',  'Hotel Star Ratings': 3,'Budget in BAM': 90}}\n",
    "\n",
    "            input: {{'City': 'Zagreb','Number of Rooms': 2,'Distance from city centre': 'high',  'Hotel Star Ratings': 5,'Budget in BAM': 190}}\n",
    "            output: {{'City': 'Zagreb','Number of Rooms': 2,'Distance from city centre': 'high',  'Hotel Star Ratings': 5,'Budget in BAM': 190}}\n",
    "\n",
    "            input: Here is your user profile 'City': 'Sarajevo','Number of Rooms': 1,'Distance from city centre': 'low',  'Hotel Star Ratings': 4,'Budget in BAM': 120\n",
    "            output: {{'City': 'Sarajevo','Number of Rooms': 1,'Distance from city centre': 'low',  'Hotel Star Ratings': 4,'Budget in BAM': 120}}\n",
    "            {delimiter}\n",
    "\n",
    "            Here is the input {response}\n",
    "\n",
    "            \"\"\"\n",
    "    response = openai.Completion.create(\n",
    "        model=\"text-davinci-003\",\n",
    "        prompt=prompt,\n",
    "        max_tokens = 2000\n",
    "        # temperature=0.3,\n",
    "        # top_p=0.4\n",
    "    )\n",
    "    return response[\"choices\"][0][\"text\"]"
   ]
  },
  {
   "cell_type": "code",
   "execution_count": null,
   "id": "f60d9176",
   "metadata": {},
   "outputs": [],
   "source": []
  },
  {
   "cell_type": "code",
   "execution_count": 209,
   "id": "17c4f6e3",
   "metadata": {},
   "outputs": [],
   "source": [
    "debug_response_assistant_n = f\"\"\"Thank you for providing your budget. Based on your budget of 60 BAM, I will consider this while recommending suitable hotels for your stay in Sarajevo City.\n",
    "Here is the final recommendation of your Hotel:\n",
    "\n",
    "- City: 'Sarajevo'\n",
    "- Number of Rooms: 1\n",
    "- Distance from city center: 'low'\n",
    "- Hotel Star Ratings: 4\n",
    "- Budget in BAM: 60\n",
    "\n",
    "Please note that these specifications are based on your preferences within your budget. Let me know if there's anything else I can assist you with!\"\"\""
   ]
  },
  {
   "cell_type": "code",
   "execution_count": 235,
   "id": "3054c024",
   "metadata": {},
   "outputs": [],
   "source": [
    "def hotel_map_layer(df):\n",
    "    keys = [\"City\", \"Number of Rooms\", \"Distance from city center\", \"Hotel Star ratings\", \"Budget in BAM\"]\n",
    "\n",
    "    hotels_list = []\n",
    "\n",
    "    for index, row in df.iterrows():\n",
    "        # Create a dictionary for each row\n",
    "        hotel_req = {\n",
    "            \"City\": row[\"City\"] if row[\"City\"] in ['Sarajevo', 'Zagreb', 'Belgrade', 'Ljubljana'] else None,\n",
    "            \"Number of Rooms\": row[\"Rooms\"],\n",
    "            \"Distance from city center\": \"high\" if row[\"Distance\"] > 2500 else \"low\",  # You can set your own threshold\n",
    "            \"Hotel Star Ratings\": row[\"Hotel star rating\"],  # You might want to validate this against available star ratings\n",
    "            \"Budget in BAM\": row[\"Price(BAM)\"]  # You might want to validate this against a budget range\n",
    "        }\n",
    "        # Append the dictionary to the list\n",
    "        hotels_list.append(hotel_req)\n",
    "\n",
    "    # Add the hotel_req_list as a new column to the DataFrame\n",
    "    df = df.assign(Hotels=hotels_list)\n",
    "\n",
    "    return df\n",
    "\n",
    "\n",
    "df = hotel_map_layer(df)\n"
   ]
  },
  {
   "cell_type": "code",
   "execution_count": null,
   "id": "f43a8341",
   "metadata": {},
   "outputs": [],
   "source": []
  },
  {
   "cell_type": "code",
   "execution_count": 236,
   "id": "143e442d",
   "metadata": {},
   "outputs": [],
   "source": [
    "import ast\n",
    "import re\n",
    "\n",
    "def extract_dictionary_from_string(string):\n",
    "    regex_pattern = r\"\\{[^{}]+\\}\"\n",
    "\n",
    "    dictionary_matches = re.findall(regex_pattern, string)\n",
    "\n",
    "    # Extract the first dictionary match and convert it to lowercase\n",
    "    if dictionary_matches:\n",
    "        dictionary_string = dictionary_matches[0]\n",
    "        dictionary_string = dictionary_string.lower()\n",
    "\n",
    "        # Convert the dictionary string to a dictionary object using ast.literal_eval()\n",
    "        dictionary = ast.literal_eval(dictionary_string)\n",
    "    return dictionary"
   ]
  },
  {
   "cell_type": "code",
   "execution_count": null,
   "id": "e63a9ee8",
   "metadata": {},
   "outputs": [],
   "source": []
  },
  {
   "cell_type": "code",
   "execution_count": 237,
   "id": "b81156fd",
   "metadata": {},
   "outputs": [],
   "source": [
    "import pandas as pd\n",
    "import json\n",
    "\n",
    "def compare_hotels_with_user(user_req_string, df):\n",
    "    \n",
    "    df = df\n",
    "    # Step 1: Filter hotel_req_list based on the user's city requirement\n",
    "    df_hotels = df[df['Hotels'].apply(lambda x: x['City'].lower() == user_req_string['city'].lower())]\n",
    "\n",
    "    # Step 2: Filter hotel_req_list based on the number of rooms requirement\n",
    "    df_hotels = df_hotels[df_hotels['Hotels'].apply(lambda x: x['Number of Rooms'] >= user_req['number of rooms'])]\n",
    "\n",
    "    # Step 3: Filter hotel_req_list based on the budget requirement\n",
    "    df_hotels = df_hotels[df_hotels['Hotels'].apply(lambda x: x['Budget in BAM'] <= user_req['budget in bam'])]\n",
    "\n",
    "    # Step 4: Further shortlist based on distance from city center and hotel star ratings\n",
    "    df_hotels = df_hotels[df_hotels['Hotels'].apply(\n",
    "        lambda x: x['Distance from city center'].lower() == user_req['distance from city centre'].lower()\n",
    "                    and x['Hotel Star Ratings'] == user_req['hotel star ratings']\n",
    "    )]\n",
    "\n",
    "    # Step 5: Calculate a score for each hotel based on matching user requirements\n",
    "    def calculate_score(row):\n",
    "        score = 0\n",
    "        if row['Hotels']['City'].lower() == user_req['city'].lower():\n",
    "            score += 1\n",
    "        if row['Hotels']['Number of Rooms'] >= user_req['number of rooms']:\n",
    "            score += 1\n",
    "        if row['Hotels']['Budget in BAM'] <= user_req['budget in bam']:\n",
    "            score += 1\n",
    "        if (row['Hotels']['Distance from city center'].lower() == user_req['distance from city centre'].lower() and\n",
    "            row['Hotels']['Hotel Star Ratings'] == user_req['hotel star ratings']):\n",
    "            score += 1\n",
    "        return score\n",
    "\n",
    "    df_hotels['Score'] = df_hotels.apply(calculate_score, axis=1)\n",
    "\n",
    "    # Step 6: Sort hotels based on their scores in descending order\n",
    "    sorted_df = df_hotels.sort_values(by='Score', ascending=False)\n",
    "\n",
    "    # Step 7: Return the top 3 hotel recommendations as a JSON-formatted string\n",
    "    top_recommendations = sorted_df.head(3)[['Hotel name','Hotels']].to_dict(orient='records')\n",
    "    json_recommendations = json.dumps(top_recommendations, indent=4)\n",
    "\n",
    "    return json_recommendations\n",
    "\n",
    "\n"
   ]
  },
  {
   "cell_type": "code",
   "execution_count": 238,
   "id": "0d958c06",
   "metadata": {},
   "outputs": [],
   "source": [
    "import json\n",
    "\n",
    "def format_recommendations_to_user(top_hotels):\n",
    "    # Load the JSON string into a Python list of dictionaries\n",
    "    recommendations = json.loads(top_hotels)\n",
    "\n",
    "    if not recommendations:\n",
    "        return \"No hotels matching your criteria were found.\"\n",
    "\n",
    "    formatted_recommendations = \"Here is a list of hotels, Please go ahead and book, Thanks for choosing HotelFinders:\\n\"\n",
    "\n",
    "    for idx, hotel in enumerate(recommendations, start=1):\n",
    "        formatted_recommendations += f\"{idx}. {hotel['Hotel name']}, located in City {hotel['Hotels']['City']}.\\n\"\n",
    "        formatted_recommendations += f\"   Number of Rooms: {hotel['Hotels']['Number of Rooms']}\\n\"\n",
    "        formatted_recommendations += f\"   Distance from city center: {hotel['Hotels']['Distance from city center']}\\n\"\n",
    "        formatted_recommendations += f\"   Hotel Star Ratings: {hotel['Hotels']['Hotel Star Ratings']}\\n\"\n",
    "        formatted_recommendations += f\"   Budget in BAM: {hotel['Hotels']['Budget in BAM']}\\n\"\n",
    "\n",
    "    return formatted_recommendations\n",
    "\n",
    "# Example usage:\n",
    "formatted_output = format_recommendations_to_user(top_hotels)\n"
   ]
  },
  {
   "cell_type": "code",
   "execution_count": 215,
   "id": "2134eeca",
   "metadata": {
    "scrolled": false
   },
   "outputs": [
    {
     "name": "stdout",
     "output_type": "stream",
     "text": [
      "Assistant: \"Hello! Welcome to our Hotel recommendation service. How can I assist you today?\"\n",
      "\n",
      "User: Hi I need hotel for vacation\n",
      "\n",
      "That's wonderful! Going on vacation is always exciting. To help you find the perfect hotel, I'll need a bit more information. Which city are you currently in or planning to visit among the following options: Sarajevo, Zagreb, Belgrade, Ljubljana?\n",
      "\n",
      "\n",
      "\n",
      "No\n",
      "\n",
      "User: Belgrade\n",
      "\n",
      "Great! You're currently in Belgrade. Do you wish to stay far or close to the city center?\n",
      "\n",
      "\n",
      "\n",
      "No\n",
      "\n",
      "User: close\n",
      "\n",
      "Thank you for the information. How many rooms do you need for your stay in Belgrade?\n",
      "\n",
      "\n",
      "\n",
      "No\n",
      "\n",
      "User: 1\n",
      "\n",
      "Could you kindly let me know your budget per night in BAM? This will help me find options that fit within your price range while meeting the specified requirements.\n",
      "\n",
      "\n",
      "\n",
      "No\n",
      "\n",
      "User: 130\n",
      "\n",
      "{'City': 'Belgrade', 'Number of Rooms': 1, 'Distance from city centre': 'Close', 'Hotel Star Ratings': 'values','Budget in BAM': 130}\n",
      "\n",
      "\n",
      "\n",
      "No\n",
      "\n",
      "User: okay\n",
      "\n",
      "Great! I have updated the information based on your responses. Now, let's move on to the next step.\n",
      "\n",
      "Based on your preferences, I have filled in the values for 'City', 'Number of Rooms', 'Distance from city centre', and 'Budget in BAM'. \n",
      "\n",
      "Now, I need to understand your preference for hotel star ratings. On a scale of 1 to 5, with 1 being the lowest and 5 being the highest, what star rating would you prefer for your hotel in Belgrade?\n",
      "\n",
      "\n",
      "\n",
      "No\n",
      "\n",
      "User: 3\n",
      "\n",
      "Thank you for providing the star rating preference. I have updated the value for 'Hotel Star Ratings' in the dictionary.\n",
      "\n",
      "Now, let's review the information we have so far:\n",
      "- City: Belgrade\n",
      "- Number of Rooms: 1\n",
      "- Distance from city centre: Close\n",
      "- Hotel Star Ratings: 3\n",
      "- Budget in BAM: 130\n",
      "\n",
      "Do you have any other preferences or requirements that I should consider while recommending a hotel for you in Belgrade?\n",
      "\n",
      "\n",
      "\n",
      "Yes\n",
      "\n",
      "\n",
      "\n",
      "Output: \n",
      "{'City': 'Belgrade', 'Number of Rooms': 1, 'Distance from city centre': 'Close', 'Hotel Star Ratings': 3, 'Budget in BAM': 130}\n",
      "\n",
      "{'city': 'belgrade', 'number of rooms': 1, 'distance from city centre': 'close', 'hotel star ratings': 3, 'budget in bam': 130}\n",
      "Thank you for providing all the information. Kindly wait, while I fetch the Hotels: \n",
      "\n",
      "Here is a list of hotels, Please go ahead and book, Thanks for choosing HotelFinders:\n",
      "1. Hotel Bohemian Garni - Skadarlija, located in City Belgrade.\n",
      "   Number of Rooms: 1\n",
      "   Distance from city center: low\n",
      "   Hotel Star Ratings: 3\n",
      "   Budget in BAM: 58\n",
      "2. Hotel Rex , located in City Belgrade.\n",
      "   Number of Rooms: 2\n",
      "   Distance from city center: low\n",
      "   Hotel Star Ratings: 3\n",
      "   Budget in BAM: 74\n",
      "3. Hotel Union, located in City Belgrade.\n",
      "   Number of Rooms: 1\n",
      "   Distance from city center: low\n",
      "   Hotel Star Ratings: 3\n",
      "   Budget in BAM: 49\n",
      "\n",
      "None\n"
     ]
    }
   ],
   "source": [
    "import pandas as pd\n",
    "import json\n",
    "\n",
    "def dialogue_system():\n",
    "    # Read the DataFrame from a CSV file (assuming the file is named 'hotels_data.csv')\n",
    "    \n",
    "\n",
    "    conversation = initialize_conversation()\n",
    "    introduction = get_chat_model_completions(conversation)\n",
    "    print(introduction + '\\n')\n",
    "    top_hotels = None\n",
    "    moderation = None  # Initialize moderation variable\n",
    "    user_input = ''\n",
    "\n",
    "    while user_input != 'exit':\n",
    "        if moderation == 'Flagged':\n",
    "            print(\"Sorry, Restart the conversation please.\")\n",
    "            break\n",
    "\n",
    "        if top_hotels is None:\n",
    "            user_input = input(\"User: \")  # Capture user input\n",
    "            conversation.append({'role': 'user', 'content': user_input})\n",
    "            response_assistant = get_chat_model_completions(conversation)\n",
    "\n",
    "            moderation = moderation_check(response_assistant)\n",
    "            if moderation == 'Flagged':\n",
    "                print(\"Sorry, Restart the conversation please.\")\n",
    "                break\n",
    "\n",
    "            confirmation = intent_confirmation_layer(response_assistant)\n",
    "\n",
    "            moderation = moderation_check(confirmation)\n",
    "            if moderation == 'Flagged':\n",
    "                print(\"Sorry, Restart the conversation please.\")\n",
    "                break\n",
    "\n",
    "            if \"No\" in confirmation:\n",
    "                conversation.append({\"role\": \"assistant\", \"content\": response_assistant})\n",
    "                print(\"\\n\" + response_assistant + \"\\n\")\n",
    "                print('\\n' + confirmation + '\\n')\n",
    "            else:\n",
    "                print(\"\\n\" + response_assistant + \"\\n\")\n",
    "                print('\\n' + confirmation + '\\n')\n",
    "                response = dictionary_present(response_assistant)\n",
    "\n",
    "                moderation = moderation_check(confirmation)\n",
    "                if moderation == 'Flagged':\n",
    "                    print(\"Sorry, Restart the conversation please.\")\n",
    "                    break\n",
    "\n",
    "                print('\\n' + response + '\\n')\n",
    "                user_req = extract_dictionary_from_string(response)\n",
    "                print(user_req)\n",
    "                print(\"Thank you for providing all the information. Kindly wait, while I fetch the Hotels: \\n\")\n",
    "                top_hotels = compare_hotels_with_user(user_req, df)\n",
    "                output = format_recommendations_to_user(top_hotels)\n",
    "\n",
    "                print(output)\n",
    "                break\n",
    "\n",
    "# Usage example:\n",
    "result = dialogue_system()\n",
    "print(result)\n"
   ]
  },
  {
   "cell_type": "code",
   "execution_count": 239,
   "id": "67e6dca5",
   "metadata": {},
   "outputs": [
    {
     "name": "stdout",
     "output_type": "stream",
     "text": [
      "Assistant: \"Hello! Welcome to our hotel recommendation service. How can I assist you today?\"\n",
      "\n",
      "User: I need hotel for office visit\n",
      "\n",
      "That's great! Finding the right hotel for your office visit is important. To help you with that, I'll need some information from you. Which city are you planning to visit among the following options: Sarajevo, Zagreb, Belgrade, Ljubljana?\n",
      "\n",
      "\n",
      "\n",
      "No\n",
      "\n",
      "User: Belgrade\n",
      "\n",
      "Great! You're planning to visit Belgrade. Do you wish to stay far or close to the city center?\n",
      "\n",
      "\n",
      "\n",
      "No\n",
      "\n",
      "User: close\n",
      "\n",
      "Thank you for the information. How many rooms do you need for your stay in Belgrade?\n",
      "\n",
      "\n",
      "\n",
      "No\n",
      "\n",
      "User: 1\n",
      "\n",
      "Thank you for letting me know. Could you kindly let me know your budget per night in BAM? This will help me find options that fit within your price range while meeting the specified requirements.\n",
      "\n",
      "\n",
      "\n",
      "No\n",
      "\n",
      "User: 140\n",
      "\n",
      "Thank you for providing your budget. Lastly, please let me know if you have any preference for hotel star ratings. Do you prefer hotels with star ratings from 2 to 5?\n",
      "\n",
      "\n",
      "\n",
      "No\n",
      "\n",
      "User: 3\n",
      "\n",
      "Great! Based on your preferences, I have updated the values in the dictionary as follows:\n",
      "\n",
      "{'City': 'Belgrade', 'Number of Rooms': 1, 'Distance from city centre': 'Close', 'Hotel Star Ratings': 3, 'Budget in BAM': 140}\n",
      "\n",
      "I have filled in all the values based on your responses. Is there anything else I can assist you with?\n",
      "\n",
      "\n",
      "\n",
      "No\n",
      "\n",
      "User: no, now please recommend the hotel\n",
      "\n",
      "Based on your preferences, I recommend the following hotel in Belgrade:\n",
      "\n",
      "Hotel Name: Hotel Moskva\n",
      "Location: Close to the city center\n",
      "Star Rating: 3\n",
      "Price per night: 140 BAM\n",
      "\n",
      "Hotel Moskva is a well-known hotel in Belgrade with a convenient location near the city center. It offers comfortable rooms and amenities suitable for your office visit.\n",
      "\n",
      "Please let me know if you need any further assistance or if you would like more hotel recommendations.\n",
      "\n",
      "\n",
      "\n",
      "No\n",
      "\n",
      "User: exit\n",
      "\n",
      "Thank you for using our hotel recommendation service. If you have any more questions in the future, feel free to ask. Have a great day!\n",
      "\n",
      "\n",
      "\n",
      "No\n",
      "\n",
      "None\n"
     ]
    }
   ],
   "source": [
    "import pandas as pd\n",
    "import json\n",
    "\n",
    "def dialogue_system():\n",
    "    # Read the DataFrame from a CSV file (assuming the file is named 'hotels_data.csv')\n",
    "    \n",
    "\n",
    "    conversation = initialize_conversation()\n",
    "    introduction = get_chat_model_completions(conversation)\n",
    "    print(introduction + '\\n')\n",
    "    top_hotels = None\n",
    "    moderation = None  # Initialize moderation variable\n",
    "    user_input = ''\n",
    "\n",
    "    while user_input != 'exit':\n",
    "        if moderation == 'Flagged':\n",
    "            print(\"Sorry, Restart the conversation please.\")\n",
    "            break\n",
    "\n",
    "        if top_hotels is None:\n",
    "            user_input = input(\"User: \")  # Capture user input\n",
    "            conversation.append({'role': 'user', 'content': user_input})\n",
    "            response_assistant = get_chat_model_completions(conversation)\n",
    "\n",
    "            moderation = moderation_check(response_assistant)\n",
    "            if moderation == 'Flagged':\n",
    "                print(\"Sorry, Restart the conversation please.\")\n",
    "                break\n",
    "\n",
    "            confirmation = intent_confirmation_layer(response_assistant)\n",
    "\n",
    "            moderation = moderation_check(confirmation)\n",
    "            if moderation == 'Flagged':\n",
    "                print(\"Sorry, Restart the conversation please.\")\n",
    "                break\n",
    "\n",
    "            if \"No\" in confirmation:\n",
    "                conversation.append({\"role\": \"assistant\", \"content\": response_assistant})\n",
    "                print(\"\\n\" + response_assistant + \"\\n\")\n",
    "                print('\\n' + confirmation + '\\n')\n",
    "            else:\n",
    "                print(\"\\n\" + response_assistant + \"\\n\")\n",
    "                print('\\n' + confirmation + '\\n')\n",
    "                response = dictionary_present(response_assistant)\n",
    "\n",
    "                moderation = moderation_check(confirmation)\n",
    "                if moderation == 'Flagged':\n",
    "                    print(\"Sorry, Restart the conversation please.\")\n",
    "                    break\n",
    "\n",
    "                print('\\n' + response + '\\n')\n",
    "                user_req = extract_dictionary_from_string(response)\n",
    "                print(user_req)\n",
    "                print(\"Thank you for providing all the information. Kindly wait, while I fetch the Hotels: \\n\")\n",
    "                top_hotels = compare_hotels_with_user(user_req, df)\n",
    "                output = format_recommendations_to_user(top_hotels)\n",
    "\n",
    "                print(output)\n",
    "                break\n",
    "\n",
    "# Usage example:\n",
    "result = dialogue_system()\n",
    "print(result)\n"
   ]
  },
  {
   "cell_type": "code",
   "execution_count": null,
   "id": "f87e0741",
   "metadata": {},
   "outputs": [],
   "source": []
  }
 ],
 "metadata": {
  "kernelspec": {
   "display_name": "Python 3 (ipykernel)",
   "language": "python",
   "name": "python3"
  },
  "language_info": {
   "codemirror_mode": {
    "name": "ipython",
    "version": 3
   },
   "file_extension": ".py",
   "mimetype": "text/x-python",
   "name": "python",
   "nbconvert_exporter": "python",
   "pygments_lexer": "ipython3",
   "version": "3.10.10"
  }
 },
 "nbformat": 4,
 "nbformat_minor": 5
}
