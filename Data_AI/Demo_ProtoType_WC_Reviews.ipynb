{
  "nbformat": 4,
  "nbformat_minor": 0,
  "metadata": {
    "colab": {
      "provenance": []
    },
    "kernelspec": {
      "name": "python3",
      "display_name": "Python 3"
    },
    "language_info": {
      "name": "python"
    }
  },
  "cells": [
    {
      "cell_type": "markdown",
      "source": [
        "##Q1:\n",
        "Please provide the code to read a csv file into google colab jupyter notebook, the csv file available in a folder of google drive"
      ],
      "metadata": {
        "id": "UTZTNAR33aTs"
      }
    },
    {
      "cell_type": "code",
      "execution_count": null,
      "metadata": {
        "colab": {
          "base_uri": "https://localhost:8080/"
        },
        "id": "D_crTIBymrXW",
        "outputId": "40a6c03d-f78f-4372-ea6e-37256e19fb43"
      },
      "outputs": [
        {
          "output_type": "stream",
          "name": "stdout",
          "text": [
            "Drive already mounted at /content/drive; to attempt to forcibly remount, call drive.mount(\"/content/drive\", force_remount=True).\n"
          ]
        }
      ],
      "source": [
        "from google.colab import drive\n",
        "\n",
        "# This will prompt you to click on a link and authorize access to your Google Drive.\n",
        "drive.mount('/content/drive')\n"
      ]
    },
    {
      "cell_type": "code",
      "source": [
        "# Replace 'folder_name' with the name of the folder containing your CSV file.\n",
        "folder_path = \"/content/drive/MyDrive/PE/Exp/Demo\"\n"
      ],
      "metadata": {
        "id": "O1NQ16goAgyT"
      },
      "execution_count": null,
      "outputs": []
    },
    {
      "cell_type": "code",
      "source": [
        "import pandas as pd\n",
        "\n",
        "# Replace 'file_name.csv' with the name of your CSV file.\n",
        "file_path = f'{folder_path}/InputData.csv'\n",
        "\n",
        "# Read the CSV file into a DataFrame.\n",
        "df = pd.read_csv(file_path)\n",
        "\n",
        "# Now, 'df' contains your data from the CSV file.\n"
      ],
      "metadata": {
        "id": "EkhsIedmAtOn"
      },
      "execution_count": null,
      "outputs": []
    },
    {
      "cell_type": "markdown",
      "source": [
        "##Q2:\n",
        "Please give the code to check the dimensions and summary of the data?\n"
      ],
      "metadata": {
        "id": "0gaGusl0TV2o"
      }
    },
    {
      "cell_type": "code",
      "source": [
        "# Number of rows and columns in the DataFrame\n",
        "num_rows, num_cols = df.shape\n",
        "print(f\"Number of rows: {num_rows}\")\n",
        "print(f\"Number of columns: {num_cols}\")"
      ],
      "metadata": {
        "colab": {
          "base_uri": "https://localhost:8080/"
        },
        "id": "gjRrqeQ6Byea",
        "outputId": "ee624e58-6887-4c35-dfc8-fe8589fd99ac"
      },
      "execution_count": null,
      "outputs": [
        {
          "output_type": "stream",
          "name": "stdout",
          "text": [
            "Number of rows: 15729\n",
            "Number of columns: 10\n"
          ]
        }
      ]
    },
    {
      "cell_type": "code",
      "source": [
        "# Display the first few rows of the DataFrame\n",
        "print(\"Head of the DataFrame:\")\n",
        "print(df.head())\n",
        "\n",
        "# Display the last few rows of the DataFrame\n",
        "print(\"Tail of the DataFrame:\")\n",
        "print(df.tail())\n",
        "\n",
        "# Get a concise summary of the DataFrame, including the data types and memory usage\n",
        "print(\"Summary of the DataFrame:\")\n",
        "print(df.info())\n",
        "\n",
        "# Get descriptive statistics for the numerical columns\n",
        "print(\"Summary statistics:\")\n",
        "print(df.describe())\n"
      ],
      "metadata": {
        "colab": {
          "base_uri": "https://localhost:8080/"
        },
        "id": "PeOFCHprByg_",
        "outputId": "1a8a2470-1329-44f4-f704-87b90424bdae"
      },
      "execution_count": null,
      "outputs": [
        {
          "output_type": "stream",
          "name": "stdout",
          "text": [
            "Head of the DataFrame:\n",
            "   Clothing ID  Age                           Title  \\\n",
            "0          941   46  Beautiful and soft but fragile   \n",
            "1          834   27                     Flattering!   \n",
            "2          833   48                             Meh   \n",
            "3          860   58  Female version of a polo shirt   \n",
            "4          831   38                    Great blouse   \n",
            "\n",
            "                                         Review Text  Rating  Recommended IND  \\\n",
            "0  I bought this sweater in the green and loved i...       4                1   \n",
            "1  Big bust, smallish waist... this top is so cut...       5                1   \n",
            "2  I wanted to love this top. i really did. the c...       3                0   \n",
            "3  I ordered this in white. the material is simil...       3                1   \n",
            "4  In love with this blouse, i first got in ivory...       5                1   \n",
            "\n",
            "   Positive Feedback Count   Division Name Department Name Class Name  \n",
            "0                        0         General            Tops   Sweaters  \n",
            "1                        0  General Petite            Tops    Blouses  \n",
            "2                        1  General Petite            Tops    Blouses  \n",
            "3                        5         General            Tops      Knits  \n",
            "4                        0  General Petite            Tops    Blouses  \n",
            "Tail of the DataFrame:\n",
            "       Clothing ID  Age                                          Title  \\\n",
            "15724         1024   31                                      In love!!   \n",
            "15725         1099   35      Beautiful dress, i wish it came in petite   \n",
            "15726          850   28                                      Beautiful   \n",
            "15727         1086   44  Soft like pj's, professional enough for work!   \n",
            "15728          831   48                         Fabric not comfortable   \n",
            "\n",
            "                                             Review Text  Rating  \\\n",
            "15724  I may wear these every day! i am obsessed. i a...       5   \n",
            "15725  This is a beautiful dress (and my husband agre...       5   \n",
            "15726  This top is lovely; great colors for spring, l...       5   \n",
            "15727  I purchased the grey color, and i love love lo...       5   \n",
            "15728  A pretty blouse but the polyester fabric makes...       3   \n",
            "\n",
            "       Recommended IND  Positive Feedback Count   Division Name  \\\n",
            "15724                1                        1         General   \n",
            "15725                1                       12         General   \n",
            "15726                1                        0         General   \n",
            "15727                1                        8         General   \n",
            "15728                0                        0  General Petite   \n",
            "\n",
            "      Department Name Class Name  \n",
            "15724         Bottoms      Jeans  \n",
            "15725         Dresses    Dresses  \n",
            "15726            Tops    Blouses  \n",
            "15727         Dresses    Dresses  \n",
            "15728            Tops    Blouses  \n",
            "Summary of the DataFrame:\n",
            "<class 'pandas.core.frame.DataFrame'>\n",
            "RangeIndex: 15729 entries, 0 to 15728\n",
            "Data columns (total 10 columns):\n",
            " #   Column                   Non-Null Count  Dtype \n",
            "---  ------                   --------------  ----- \n",
            " 0   Clothing ID              15729 non-null  int64 \n",
            " 1   Age                      15729 non-null  int64 \n",
            " 2   Title                    15729 non-null  object\n",
            " 3   Review Text              15729 non-null  object\n",
            " 4   Rating                   15729 non-null  int64 \n",
            " 5   Recommended IND          15729 non-null  int64 \n",
            " 6   Positive Feedback Count  15729 non-null  int64 \n",
            " 7   Division Name            15729 non-null  object\n",
            " 8   Department Name          15729 non-null  object\n",
            " 9   Class Name               15729 non-null  object\n",
            "dtypes: int64(5), object(5)\n",
            "memory usage: 1.2+ MB\n",
            "None\n",
            "Summary statistics:\n",
            "        Clothing ID           Age        Rating  Recommended IND  \\\n",
            "count  15729.000000  15729.000000  15729.000000     15729.000000   \n",
            "mean     921.019645     43.252845      4.184691         0.818170   \n",
            "std      200.259810     12.217784      1.115485         0.385716   \n",
            "min        1.000000     18.000000      1.000000         0.000000   \n",
            "25%      861.000000     34.000000      4.000000         1.000000   \n",
            "50%      936.000000     41.000000      5.000000         1.000000   \n",
            "75%     1078.000000     52.000000      5.000000         1.000000   \n",
            "max     1205.000000     99.000000      5.000000         1.000000   \n",
            "\n",
            "       Positive Feedback Count  \n",
            "count             15729.000000  \n",
            "mean                  2.672452  \n",
            "std                   5.929394  \n",
            "min                   0.000000  \n",
            "25%                   0.000000  \n",
            "50%                   1.000000  \n",
            "75%                   3.000000  \n",
            "max                 122.000000  \n"
          ]
        }
      ]
    },
    {
      "cell_type": "markdown",
      "source": [
        "##Q3:\n",
        "I do not need the column Clothing ID.  Please drop it."
      ],
      "metadata": {
        "id": "kbY3gFdHThWL"
      }
    },
    {
      "cell_type": "code",
      "source": [
        "columns_to_drop = ['Clothing ID']\n",
        "df.drop(columns_to_drop, axis=1, inplace=True)\n"
      ],
      "metadata": {
        "id": "itrYVdbIByjN"
      },
      "execution_count": null,
      "outputs": []
    },
    {
      "cell_type": "code",
      "source": [
        "print(df.head())"
      ],
      "metadata": {
        "colab": {
          "base_uri": "https://localhost:8080/"
        },
        "id": "k6IQNLN7Byo8",
        "outputId": "4a73ee7b-f0ca-4ad7-a402-3ac179a3a53c"
      },
      "execution_count": null,
      "outputs": [
        {
          "output_type": "stream",
          "name": "stdout",
          "text": [
            "   Age                           Title  \\\n",
            "0   46  Beautiful and soft but fragile   \n",
            "1   27                     Flattering!   \n",
            "2   48                             Meh   \n",
            "3   58  Female version of a polo shirt   \n",
            "4   38                    Great blouse   \n",
            "\n",
            "                                         Review Text  Rating  Recommended IND  \\\n",
            "0  I bought this sweater in the green and loved i...       4                1   \n",
            "1  Big bust, smallish waist... this top is so cut...       5                1   \n",
            "2  I wanted to love this top. i really did. the c...       3                0   \n",
            "3  I ordered this in white. the material is simil...       3                1   \n",
            "4  In love with this blouse, i first got in ivory...       5                1   \n",
            "\n",
            "   Positive Feedback Count   Division Name Department Name Class Name  \n",
            "0                        0         General            Tops   Sweaters  \n",
            "1                        0  General Petite            Tops    Blouses  \n",
            "2                        1  General Petite            Tops    Blouses  \n",
            "3                        5         General            Tops      Knits  \n",
            "4                        0  General Petite            Tops    Blouses  \n"
          ]
        }
      ]
    },
    {
      "cell_type": "markdown",
      "source": [
        "##Q4:\n",
        "Here are the column names :['Age', 'Title', 'Review Text', 'Rating', 'Recommended IND',\n",
        "       'Positive Feedback Count', 'Division Name', 'Department Name',\n",
        "       'Class Name']\n",
        "\n",
        "**There are 3 numeric variables:** 'Age',  'Positive Feedback Count', 'Rating';\n",
        "\n",
        "**3 categorical variables**: 'Division Name', 'Department Name', 'Class Name',\n",
        "\n",
        "**2 Text columns are** 'Title', 'Review Text',\n",
        "\n",
        "Need to develop a model to predict 'Recommended IND' which contains 1's and 0's by applying embeddings on text columns, embeddings on categorical columns, standardization on numeric columns.\n",
        "\n",
        "Please help with the code"
      ],
      "metadata": {
        "id": "zIfU8fQ9UH60"
      }
    },
    {
      "cell_type": "code",
      "source": [
        "import pandas as pd\n",
        "from sklearn.model_selection import train_test_split\n",
        "from sklearn.preprocessing import StandardScaler\n",
        "from sklearn.compose import ColumnTransformer\n",
        "from sklearn.preprocessing import OneHotEncoder\n",
        "import tensorflow as tf\n",
        "from tensorflow.keras.models import Model\n",
        "from tensorflow.keras.layers import Input, Dense, Embedding, Flatten, concatenate\n",
        "from tensorflow.keras.preprocessing.text import Tokenizer\n",
        "from tensorflow.keras.preprocessing.sequence import pad_sequences\n",
        "\n",
        "# Assuming 'df' is your DataFrame containing the data\n",
        "# 'Recommended IND' is the target variable\n",
        "\n",
        "# Step 1: Preprocess the data\n",
        "X = df.drop('Recommended IND', axis=1)\n",
        "y = df['Recommended IND']\n",
        "\n",
        "# Split the data into training and testing sets\n",
        "X_train, X_test, y_train, y_test = train_test_split(X, y, test_size=0.2, random_state=42)\n",
        "\n",
        "# Step 2: Preprocess each type of data separately\n",
        "\n",
        "# Text columns embeddings\n",
        "# Tokenize and pad the text data\n",
        "max_sequence_length = 100  # Set the maximum sequence length for padding\n",
        "\n",
        "# Create a tokenizer and fit it on the combined text columns (Title and Review Text)\n",
        "tokenizer = Tokenizer()\n",
        "tokenizer.fit_on_texts(X_train['Title'] + ' ' + X_train['Review Text'])\n",
        "\n",
        "# Convert text data to sequences\n",
        "X_train_title_seq = tokenizer.texts_to_sequences(X_train['Title'])\n",
        "X_train_review_seq = tokenizer.texts_to_sequences(X_train['Review Text'])\n",
        "X_test_title_seq = tokenizer.texts_to_sequences(X_test['Title'])\n",
        "X_test_review_seq = tokenizer.texts_to_sequences(X_test['Review Text'])\n",
        "\n",
        "# Pad the sequences to have a consistent length\n",
        "X_train_title_padded = pad_sequences(X_train_title_seq, maxlen=max_sequence_length, padding='post', truncating='post')\n",
        "X_train_review_padded = pad_sequences(X_train_review_seq, maxlen=max_sequence_length, padding='post', truncating='post')\n",
        "X_test_title_padded = pad_sequences(X_test_title_seq, maxlen=max_sequence_length, padding='post', truncating='post')\n",
        "X_test_review_padded = pad_sequences(X_test_review_seq, maxlen=max_sequence_length, padding='post', truncating='post')\n",
        "\n",
        "# Categorical columns embeddings\n",
        "# Using OneHotEncoder to convert categorical columns into binary vectors\n",
        "cat_columns = ['Division Name', 'Department Name', 'Class Name']\n",
        "one_hot_encoder = OneHotEncoder(sparse=False, handle_unknown='ignore')\n",
        "X_train_cat_encoded = one_hot_encoder.fit_transform(X_train[cat_columns])\n",
        "X_test_cat_encoded = one_hot_encoder.transform(X_test[cat_columns])\n",
        "\n",
        "# Standardize numeric columns\n",
        "num_columns = ['Age', 'Positive Feedback Count', 'Rating']\n",
        "scaler = StandardScaler()\n",
        "X_train_num_scaled = scaler.fit_transform(X_train[num_columns])\n",
        "X_test_num_scaled = scaler.transform(X_test[num_columns])\n",
        "\n",
        "# Step 3: Combine the processed data\n",
        "embedding_input_dim = X_train_cat_encoded.shape[1]  # Number of categorical columns after one-hot encoding\n",
        "title_input_dim = max_sequence_length  # Number of words in the title sequence\n",
        "review_input_dim = max_sequence_length  # Number of words in the review sequence\n",
        "numeric_input_dim = X_train_num_scaled.shape[1]  # Number of numeric columns\n",
        "\n",
        "# Create input layers for each type of data\n",
        "cat_input = Input(shape=(embedding_input_dim,))\n",
        "title_input = Input(shape=(title_input_dim,))\n",
        "review_input = Input(shape=(review_input_dim,))\n",
        "numeric_input = Input(shape=(numeric_input_dim,))\n",
        "\n",
        "# Categorical columns embeddings\n",
        "cat_embedded = Dense(8, activation='relu')(cat_input)\n",
        "\n",
        "# Text columns embeddings\n",
        "title_embedded = Embedding(input_dim=len(tokenizer.word_index) + 1, output_dim=32, input_length=title_input_dim)(title_input)\n",
        "title_flattened = Flatten()(title_embedded)\n",
        "review_embedded = Embedding(input_dim=len(tokenizer.word_index) + 1, output_dim=32, input_length=review_input_dim)(review_input)\n",
        "review_flattened = Flatten()(review_embedded)\n",
        "\n",
        "# Numeric columns\n",
        "numeric_layer = Dense(32, activation='relu')(numeric_input)\n",
        "\n",
        "# Concatenate all the processed data\n",
        "concatenated = concatenate([cat_embedded, title_flattened, review_flattened, numeric_layer])\n",
        "\n",
        "# Add dense layers for prediction\n",
        "dense_layer = Dense(16, activation='relu')(concatenated)\n",
        "output_layer = Dense(1, activation='sigmoid')(dense_layer)\n",
        "\n",
        "# Create the model\n",
        "model = Model(inputs=[cat_input, title_input, review_input, numeric_input], outputs=output_layer)\n",
        "\n",
        "# Compile the model\n",
        "model.compile(loss='binary_crossentropy', optimizer='adam', metrics=['accuracy'])\n",
        "\n",
        "# Train the model\n",
        "model.fit([X_train_cat_encoded, X_train_title_padded, X_train_review_padded, X_train_num_scaled], y_train,\n",
        "          epochs=10, batch_size=32, validation_split=0.2)\n",
        "\n",
        "# Evaluate the model on the test set\n",
        "loss, accuracy = model.evaluate([X_test_cat_encoded, X_test_title_padded, X_test_review_padded, X_test_num_scaled], y_test)\n",
        "print(f\"Test accuracy: {accuracy}\")\n"
      ],
      "metadata": {
        "colab": {
          "base_uri": "https://localhost:8080/"
        },
        "id": "4BCz1FPeByz7",
        "outputId": "851ae0bb-4e21-451c-8359-5c53b6225bb2"
      },
      "execution_count": null,
      "outputs": [
        {
          "output_type": "stream",
          "name": "stderr",
          "text": [
            "/usr/local/lib/python3.10/dist-packages/sklearn/preprocessing/_encoders.py:868: FutureWarning: `sparse` was renamed to `sparse_output` in version 1.2 and will be removed in 1.4. `sparse_output` is ignored unless you leave `sparse` to its default value.\n",
            "  warnings.warn(\n"
          ]
        },
        {
          "output_type": "stream",
          "name": "stdout",
          "text": [
            "Epoch 1/10\n",
            "315/315 [==============================] - 13s 26ms/step - loss: 0.2592 - accuracy: 0.8898 - val_loss: 0.1878 - val_accuracy: 0.9440\n",
            "Epoch 2/10\n",
            "315/315 [==============================] - 8s 27ms/step - loss: 0.1600 - accuracy: 0.9600 - val_loss: 0.1737 - val_accuracy: 0.9412\n",
            "Epoch 3/10\n",
            "315/315 [==============================] - 6s 20ms/step - loss: 0.1159 - accuracy: 0.9793 - val_loss: 0.1716 - val_accuracy: 0.9368\n",
            "Epoch 4/10\n",
            "315/315 [==============================] - 5s 16ms/step - loss: 0.0868 - accuracy: 0.9890 - val_loss: 0.1847 - val_accuracy: 0.9325\n",
            "Epoch 5/10\n",
            "315/315 [==============================] - 5s 15ms/step - loss: 0.0704 - accuracy: 0.9918 - val_loss: 0.1787 - val_accuracy: 0.9360\n",
            "Epoch 6/10\n",
            "315/315 [==============================] - 4s 13ms/step - loss: 0.0592 - accuracy: 0.9930 - val_loss: 0.1848 - val_accuracy: 0.9344\n",
            "Epoch 7/10\n",
            "315/315 [==============================] - 5s 15ms/step - loss: 0.0506 - accuracy: 0.9940 - val_loss: 0.1738 - val_accuracy: 0.9368\n",
            "Epoch 8/10\n",
            "315/315 [==============================] - 5s 17ms/step - loss: 0.0446 - accuracy: 0.9942 - val_loss: 0.1794 - val_accuracy: 0.9360\n",
            "Epoch 9/10\n",
            "315/315 [==============================] - 4s 13ms/step - loss: 0.0394 - accuracy: 0.9947 - val_loss: 0.1746 - val_accuracy: 0.9348\n",
            "Epoch 10/10\n",
            "315/315 [==============================] - 4s 14ms/step - loss: 0.0349 - accuracy: 0.9953 - val_loss: 0.1829 - val_accuracy: 0.9352\n",
            "99/99 [==============================] - 0s 3ms/step - loss: 0.2068 - accuracy: 0.9253\n",
            "Test accuracy: 0.9253019690513611\n"
          ]
        }
      ]
    },
    {
      "cell_type": "markdown",
      "source": [
        "##Q6:\n",
        "Please save the trained model?"
      ],
      "metadata": {
        "id": "jwbDr01CUkOU"
      }
    },
    {
      "cell_type": "code",
      "source": [
        "from tensorflow.keras.models import save_model\n",
        "\n",
        "# Assuming 'model' is your trained model\n",
        "model_path = '/path/to/trained_model.h5'  # Replace with the desired path to save the model\n",
        "\n",
        "# Save the trained model\n",
        "model.save(model_path)\n",
        "\n",
        "print(\"Trained model is saved.\")\n"
      ],
      "metadata": {
        "id": "vfk_5Qr_UnCH",
        "colab": {
          "base_uri": "https://localhost:8080/"
        },
        "outputId": "2a9a01b5-ae7b-4543-932a-1ced8e3cb931"
      },
      "execution_count": null,
      "outputs": [
        {
          "output_type": "stream",
          "name": "stdout",
          "text": [
            "Trained model is saved.\n"
          ]
        }
      ]
    },
    {
      "cell_type": "markdown",
      "source": [
        "##Q7:\n",
        "\n",
        "I have another data source \"NewData.csv\" with the same columns.  Please give the code to read that data, pre-process, and predict customer recommendations and compare with the actual values available in the same file"
      ],
      "metadata": {
        "id": "5gB_otmKUQO7"
      }
    },
    {
      "cell_type": "code",
      "source": [
        "import pandas as pd\n",
        "import numpy as np\n",
        "from sklearn.preprocessing import StandardScaler\n",
        "from sklearn.preprocessing import OneHotEncoder\n",
        "from tensorflow.keras.preprocessing.text import Tokenizer\n",
        "from tensorflow.keras.preprocessing.sequence import pad_sequences\n",
        "import tensorflow as tf\n",
        "from tensorflow.keras.models import load_model\n",
        "\n",
        "# Assuming 'df' is your original DataFrame containing the training data\n",
        "# 'Recommended IND' is the target variable\n",
        "\n",
        "# Load the new data\n",
        "new_data_path = f'{folder_path}/NewData.csv'  # Replace with the actual path to 'NewData.csv'\n",
        "new_df = pd.read_csv(new_data_path)\n",
        "\n",
        "# Separate the target variable ('Recommended IND') from the new data\n",
        "X_new = new_df.drop('Recommended IND', axis=1)\n",
        "y_new_actual = new_df['Recommended IND']\n",
        "\n",
        "# Preprocess the new data similar to the previous steps\n",
        "\n",
        "# Convert text data to sequences\n",
        "X_new_title_seq = tokenizer.texts_to_sequences(X_new['Title'])\n",
        "X_new_review_seq = tokenizer.texts_to_sequences(X_new['Review Text'])\n",
        "\n",
        "# Pad the sequences to have a consistent length\n",
        "X_new_title_padded = pad_sequences(X_new_title_seq, maxlen=max_sequence_length, padding='post', truncating='post')\n",
        "X_new_review_padded = pad_sequences(X_new_review_seq, maxlen=max_sequence_length, padding='post', truncating='post')\n",
        "\n",
        "# Categorical columns embeddings\n",
        "# Using OneHotEncoder to convert categorical columns into binary vectors\n",
        "cat_columns = ['Division Name', 'Department Name', 'Class Name']\n",
        "X_new_cat_encoded = one_hot_encoder.transform(X_new[cat_columns])\n",
        "\n",
        "# Standardize numeric columns\n",
        "num_columns = ['Age', 'Positive Feedback Count', 'Rating']\n",
        "scaler = StandardScaler()\n",
        "X_new_num_scaled = scaler.fit_transform(X_new[num_columns])\n",
        "\n",
        "# Combine the processed data\n",
        "X_new_final = [X_new_cat_encoded, X_new_title_padded, X_new_review_padded, X_new_num_scaled]\n",
        "\n",
        "# Load the trained model\n",
        "model_path = f'{folder_path}/trained_model.h5'  # Replace with the actual path to the trained model\n",
        "model = load_model(model_path)\n",
        "\n",
        "# Make predictions on the new data\n",
        "y_new_pred = model.predict(X_new_final)\n",
        "\n",
        "# Convert predictions to binary values (0 or 1) based on a threshold (0.5 in this case)\n",
        "y_new_pred_binary = np.round(y_new_pred).astype(int).flatten()\n",
        "\n",
        "# Compare predicted values with actual values\n",
        "comparison_df = pd.DataFrame({'Actual': y_new_actual, 'Predicted': y_new_pred_binary})\n",
        "print(comparison_df)\n"
      ],
      "metadata": {
        "id": "C0Ww-fogHuVX",
        "colab": {
          "base_uri": "https://localhost:8080/"
        },
        "outputId": "8f27eefe-e5dd-444a-f879-bd484cdaa051"
      },
      "execution_count": null,
      "outputs": [
        {
          "output_type": "stream",
          "name": "stdout",
          "text": [
            "123/123 [==============================] - 0s 2ms/step\n",
            "      Actual  Predicted\n",
            "0          1          1\n",
            "1          1          1\n",
            "2          1          0\n",
            "3          1          1\n",
            "4          1          1\n",
            "...      ...        ...\n",
            "3928       1          1\n",
            "3929       1          1\n",
            "3930       0          0\n",
            "3931       1          1\n",
            "3932       1          0\n",
            "\n",
            "[3933 rows x 2 columns]\n"
          ]
        }
      ]
    },
    {
      "cell_type": "markdown",
      "source": [
        "##Q8:\n",
        "Please help with the code to generate table of actual values and predicted values and accuracy measure"
      ],
      "metadata": {
        "id": "Vp6nVemJUw0I"
      }
    },
    {
      "cell_type": "code",
      "source": [
        "import pandas as pd\n",
        "import numpy as np\n",
        "from sklearn.metrics import accuracy_score\n",
        "\n",
        "# Assuming 'y_new_actual' contains the actual target values for the new data\n",
        "# Assuming 'y_new_pred_binary' contains the predicted target values for the new data\n",
        "\n",
        "# Generate a cross table of actual values and predicted values\n",
        "cross_table = pd.crosstab(y_new_actual, y_new_pred_binary, rownames=['Actual'], colnames=['Predicted'])\n",
        "print(\"Cross Table of Actual vs. Predicted:\")\n",
        "print(cross_table)\n",
        "\n",
        "# Calculate accuracy\n",
        "accuracy = accuracy_score(y_new_actual, y_new_pred_binary)\n",
        "print(f\"\\nAccuracy: {accuracy:.2f}\")\n"
      ],
      "metadata": {
        "colab": {
          "base_uri": "https://localhost:8080/"
        },
        "id": "rmryYs9oRvjZ",
        "outputId": "fd4d27e7-895f-490b-dd70-39f5f0e6fa7e"
      },
      "execution_count": null,
      "outputs": [
        {
          "output_type": "stream",
          "name": "stdout",
          "text": [
            "Cross Table of Actual vs. Predicted:\n",
            "Predicted    0     1\n",
            "Actual              \n",
            "0          577   138\n",
            "1          121  3097\n",
            "\n",
            "Accuracy: 0.93\n"
          ]
        }
      ]
    },
    {
      "cell_type": "markdown",
      "source": [
        "##Q9:\n",
        "\n",
        "Help me with a good visualization to compare actual and predicted values"
      ],
      "metadata": {
        "id": "BsHX5foFU-Wf"
      }
    },
    {
      "cell_type": "code",
      "source": [
        "import pandas as pd\n",
        "import numpy as np\n",
        "import seaborn as sns\n",
        "import matplotlib.pyplot as plt\n",
        "from sklearn.metrics import confusion_matrix, accuracy_score\n",
        "\n",
        "# Assuming 'y_new_actual' contains the actual target values for the new data\n",
        "# Assuming 'y_new_pred_binary' contains the predicted target values for the new data\n",
        "\n",
        "# Generate a confusion matrix\n",
        "cm = confusion_matrix(y_new_actual, y_new_pred_binary)\n",
        "\n",
        "# Calculate accuracy\n",
        "accuracy = accuracy_score(y_new_actual, y_new_pred_binary)\n",
        "\n",
        "# Create a heatmap for the confusion matrix\n",
        "plt.figure(figsize=(8, 6))\n",
        "sns.heatmap(cm, annot=True, fmt='d', cmap='Blues', xticklabels=['Predicted 0', 'Predicted 1'], yticklabels=['Actual 0', 'Actual 1'])\n",
        "plt.xlabel('Predicted label')\n",
        "plt.ylabel('True label')\n",
        "plt.title(f'Confusion Matrix\\nAccuracy: {accuracy:.2f}')\n",
        "plt.show()\n"
      ],
      "metadata": {
        "colab": {
          "base_uri": "https://localhost:8080/",
          "height": 585
        },
        "id": "O13UaZ8pSJOR",
        "outputId": "0deb5f28-5e17-4e06-b417-cae026c1e077"
      },
      "execution_count": null,
      "outputs": [
        {
          "output_type": "display_data",
          "data": {
            "text/plain": [
              "<Figure size 800x600 with 2 Axes>"
            ],
            "image/png": "[encoded data removed]"
          },
          "metadata": {}
        }
      ]
    },
    {
      "cell_type": "markdown",
      "source": [
        "##Q10:\n",
        "I do not want cross tab.  I wany counts of 1 and 0's compared between actual and predicted files."
      ],
      "metadata": {
        "id": "IBMRuDmkVF3M"
      }
    },
    {
      "cell_type": "code",
      "source": [
        "import pandas as pd\n",
        "import matplotlib.pyplot as plt\n",
        "\n",
        "# Assuming 'y_new_actual' contains the actual target values for the new data\n",
        "# Assuming 'y_new_pred_binary' contains the predicted target values for the new data\n",
        "\n",
        "# Create a DataFrame with the actual and predicted values\n",
        "df_compare = pd.DataFrame({'Actual': y_new_actual, 'Predicted': y_new_pred_binary})\n",
        "\n",
        "# Count the occurrences of 1's and 0's for actual and predicted values\n",
        "counts_actual = df_compare['Actual'].value_counts()\n",
        "counts_predicted = df_compare['Predicted'].value_counts()\n",
        "\n",
        "# Create side-by-side bar plots\n",
        "plt.figure(figsize=(8, 6))\n",
        "bar_width = 0.4\n",
        "index = counts_actual.index\n",
        "plt.bar(index - bar_width/2, counts_actual.values, bar_width, label='Actual', color='b', alpha=0.7)\n",
        "plt.bar(index + bar_width/2, counts_predicted.values, bar_width, label='Predicted', color='r', alpha=0.7)\n",
        "plt.xticks(index)\n",
        "plt.xlabel('Value')\n",
        "plt.ylabel('Count')\n",
        "plt.title('Actual vs. Predicted Counts')\n",
        "plt.legend()\n",
        "plt.show()\n"
      ],
      "metadata": {
        "colab": {
          "base_uri": "https://localhost:8080/",
          "height": 564
        },
        "id": "FpKO81RLSbB9",
        "outputId": "befe134f-b70d-4b2c-bb1f-0c8c76396853"
      },
      "execution_count": null,
      "outputs": [
        {
          "output_type": "display_data",
          "data": {
            "text/plain": [
              "<Figure size 800x600 with 1 Axes>"
            ],
            "image/png": "[encoded data removed]"
          },
          "metadata": {}
        }
      ]
    }
  ]
}