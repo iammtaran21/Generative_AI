{
 "cells": [
  {
   "cell_type": "code",
   "execution_count": 73,
   "metadata": {
    "id": "8zQIQU2HoMfZ"
   },
   "outputs": [],
   "source": [
    "import pandas as pd\n",
    "import numpy as np\n",
    "import matplotlib.pyplot as plt\n",
    "import seaborn as sns"
   ]
  },
  {
   "cell_type": "code",
   "execution_count": 74,
   "metadata": {
    "colab": {
     "base_uri": "https://localhost:8080/",
     "height": 206
    },
    "id": "c2zPY75zoXWg",
    "outputId": "c44fa770-368e-4408-c45a-787ec4e4f357"
   },
   "outputs": [
    {
     "data": {
      "text/html": [
       "\n",
       "  <div id=\"df-f516c7a7-35cf-4622-8aff-c4b009fb6fef\" class=\"colab-df-container\">\n",
       "    <div>\n",
       "<style scoped>\n",
       "    .dataframe tbody tr th:only-of-type {\n",
       "        vertical-align: middle;\n",
       "    }\n",
       "\n",
       "    .dataframe tbody tr th {\n",
       "        vertical-align: top;\n",
       "    }\n",
       "\n",
       "    .dataframe thead th {\n",
       "        text-align: right;\n",
       "    }\n",
       "</style>\n",
       "<table border=\"1\" class=\"dataframe\">\n",
       "  <thead>\n",
       "    <tr style=\"text-align: right;\">\n",
       "      <th></th>\n",
       "      <th>Review</th>\n",
       "    </tr>\n",
       "  </thead>\n",
       "  <tbody>\n",
       "    <tr>\n",
       "      <th>0</th>\n",
       "      <td>Delivery was faster than a ninja on caffeine. ...</td>\n",
       "    </tr>\n",
       "    <tr>\n",
       "      <th>1</th>\n",
       "      <td>Im pretty sure they had a wall made of recycle...</td>\n",
       "    </tr>\n",
       "    <tr>\n",
       "      <th>2</th>\n",
       "      <td>Dude Im not even mad they were late. Food arri...</td>\n",
       "    </tr>\n",
       "    <tr>\n",
       "      <th>3</th>\n",
       "      <td>Chhole bhature yaar! Sunday indulgence crispy ...</td>\n",
       "    </tr>\n",
       "    <tr>\n",
       "      <th>4</th>\n",
       "      <td>The place had a vibe but I cant quite put my f...</td>\n",
       "    </tr>\n",
       "  </tbody>\n",
       "</table>\n",
       "</div>\n",
       "    <div class=\"colab-df-buttons\">\n",
       "\n",
       "  <div class=\"colab-df-container\">\n",
       "    <button class=\"colab-df-convert\" onclick=\"convertToInteractive('df-f516c7a7-35cf-4622-8aff-c4b009fb6fef')\"\n",
       "            title=\"Convert this dataframe to an interactive table.\"\n",
       "            style=\"display:none;\">\n",
       "\n",
       "  <svg xmlns=\"http://www.w3.org/2000/svg\" height=\"24px\" viewBox=\"0 -960 960 960\">\n",
       "    <path d=\"M120-120v-720h720v720H120Zm60-500h600v-160H180v160Zm220 220h160v-160H400v160Zm0 220h160v-160H400v160ZM180-400h160v-160H180v160Zm440 0h160v-160H620v160ZM180-180h160v-160H180v160Zm440 0h160v-160H620v160Z\"/>\n",
       "  </svg>\n",
       "    </button>\n",
       "\n",
       "  <style>\n",
       "    .colab-df-container {\n",
       "      display:flex;\n",
       "      gap: 12px;\n",
       "    }\n",
       "\n",
       "    .colab-df-convert {\n",
       "      background-color: #E8F0FE;\n",
       "      border: none;\n",
       "      border-radius: 50%;\n",
       "      cursor: pointer;\n",
       "      display: none;\n",
       "      fill: #1967D2;\n",
       "      height: 32px;\n",
       "      padding: 0 0 0 0;\n",
       "      width: 32px;\n",
       "    }\n",
       "\n",
       "    .colab-df-convert:hover {\n",
       "      background-color: #E2EBFA;\n",
       "      box-shadow: 0px 1px 2px rgba(60, 64, 67, 0.3), 0px 1px 3px 1px rgba(60, 64, 67, 0.15);\n",
       "      fill: #174EA6;\n",
       "    }\n",
       "\n",
       "    .colab-df-buttons div {\n",
       "      margin-bottom: 4px;\n",
       "    }\n",
       "\n",
       "    [theme=dark] .colab-df-convert {\n",
       "      background-color: #3B4455;\n",
       "      fill: #D2E3FC;\n",
       "    }\n",
       "\n",
       "    [theme=dark] .colab-df-convert:hover {\n",
       "      background-color: #434B5C;\n",
       "      box-shadow: 0px 1px 3px 1px rgba(0, 0, 0, 0.15);\n",
       "      filter: drop-shadow(0px 1px 2px rgba(0, 0, 0, 0.3));\n",
       "      fill: #FFFFFF;\n",
       "    }\n",
       "  </style>\n",
       "\n",
       "    <script>\n",
       "      const buttonEl =\n",
       "        document.querySelector('#df-f516c7a7-35cf-4622-8aff-c4b009fb6fef button.colab-df-convert');\n",
       "      buttonEl.style.display =\n",
       "        google.colab.kernel.accessAllowed ? 'block' : 'none';\n",
       "\n",
       "      async function convertToInteractive(key) {\n",
       "        const element = document.querySelector('#df-f516c7a7-35cf-4622-8aff-c4b009fb6fef');\n",
       "        const dataTable =\n",
       "          await google.colab.kernel.invokeFunction('convertToInteractive',\n",
       "                                                    [key], {});\n",
       "        if (!dataTable) return;\n",
       "\n",
       "        const docLinkHtml = 'Like what you see? Visit the ' +\n",
       "          '<a target=\"_blank\" href=https://colab.research.google.com/notebooks/data_table.ipynb>data table notebook</a>'\n",
       "          + ' to learn more about interactive tables.';\n",
       "        element.innerHTML = '';\n",
       "        dataTable['output_type'] = 'display_data';\n",
       "        await google.colab.output.renderOutput(dataTable, element);\n",
       "        const docLink = document.createElement('div');\n",
       "        docLink.innerHTML = docLinkHtml;\n",
       "        element.appendChild(docLink);\n",
       "      }\n",
       "    </script>\n",
       "  </div>\n",
       "\n",
       "\n",
       "<div id=\"df-ee72e483-9462-4e8d-84bd-35fdbf922739\">\n",
       "  <button class=\"colab-df-quickchart\" onclick=\"quickchart('df-ee72e483-9462-4e8d-84bd-35fdbf922739')\"\n",
       "            title=\"Suggest charts.\"\n",
       "            style=\"display:none;\">\n",
       "\n",
       "<svg xmlns=\"http://www.w3.org/2000/svg\" height=\"24px\"viewBox=\"0 0 24 24\"\n",
       "     width=\"24px\">\n",
       "    <g>\n",
       "        <path d=\"M19 3H5c-1.1 0-2 .9-2 2v14c0 1.1.9 2 2 2h14c1.1 0 2-.9 2-2V5c0-1.1-.9-2-2-2zM9 17H7v-7h2v7zm4 0h-2V7h2v10zm4 0h-2v-4h2v4z\"/>\n",
       "    </g>\n",
       "</svg>\n",
       "  </button>\n",
       "\n",
       "<style>\n",
       "  .colab-df-quickchart {\n",
       "      --bg-color: #E8F0FE;\n",
       "      --fill-color: #1967D2;\n",
       "      --hover-bg-color: #E2EBFA;\n",
       "      --hover-fill-color: #174EA6;\n",
       "      --disabled-fill-color: #AAA;\n",
       "      --disabled-bg-color: #DDD;\n",
       "  }\n",
       "\n",
       "  [theme=dark] .colab-df-quickchart {\n",
       "      --bg-color: #3B4455;\n",
       "      --fill-color: #D2E3FC;\n",
       "      --hover-bg-color: #434B5C;\n",
       "      --hover-fill-color: #FFFFFF;\n",
       "      --disabled-bg-color: #3B4455;\n",
       "      --disabled-fill-color: #666;\n",
       "  }\n",
       "\n",
       "  .colab-df-quickchart {\n",
       "    background-color: var(--bg-color);\n",
       "    border: none;\n",
       "    border-radius: 50%;\n",
       "    cursor: pointer;\n",
       "    display: none;\n",
       "    fill: var(--fill-color);\n",
       "    height: 32px;\n",
       "    padding: 0;\n",
       "    width: 32px;\n",
       "  }\n",
       "\n",
       "  .colab-df-quickchart:hover {\n",
       "    background-color: var(--hover-bg-color);\n",
       "    box-shadow: 0 1px 2px rgba(60, 64, 67, 0.3), 0 1px 3px 1px rgba(60, 64, 67, 0.15);\n",
       "    fill: var(--button-hover-fill-color);\n",
       "  }\n",
       "\n",
       "  .colab-df-quickchart-complete:disabled,\n",
       "  .colab-df-quickchart-complete:disabled:hover {\n",
       "    background-color: var(--disabled-bg-color);\n",
       "    fill: var(--disabled-fill-color);\n",
       "    box-shadow: none;\n",
       "  }\n",
       "\n",
       "  .colab-df-spinner {\n",
       "    border: 2px solid var(--fill-color);\n",
       "    border-color: transparent;\n",
       "    border-bottom-color: var(--fill-color);\n",
       "    animation:\n",
       "      spin 1s steps(1) infinite;\n",
       "  }\n",
       "\n",
       "  @keyframes spin {\n",
       "    0% {\n",
       "      border-color: transparent;\n",
       "      border-bottom-color: var(--fill-color);\n",
       "      border-left-color: var(--fill-color);\n",
       "    }\n",
       "    20% {\n",
       "      border-color: transparent;\n",
       "      border-left-color: var(--fill-color);\n",
       "      border-top-color: var(--fill-color);\n",
       "    }\n",
       "    30% {\n",
       "      border-color: transparent;\n",
       "      border-left-color: var(--fill-color);\n",
       "      border-top-color: var(--fill-color);\n",
       "      border-right-color: var(--fill-color);\n",
       "    }\n",
       "    40% {\n",
       "      border-color: transparent;\n",
       "      border-right-color: var(--fill-color);\n",
       "      border-top-color: var(--fill-color);\n",
       "    }\n",
       "    60% {\n",
       "      border-color: transparent;\n",
       "      border-right-color: var(--fill-color);\n",
       "    }\n",
       "    80% {\n",
       "      border-color: transparent;\n",
       "      border-right-color: var(--fill-color);\n",
       "      border-bottom-color: var(--fill-color);\n",
       "    }\n",
       "    90% {\n",
       "      border-color: transparent;\n",
       "      border-bottom-color: var(--fill-color);\n",
       "    }\n",
       "  }\n",
       "</style>\n",
       "\n",
       "  <script>\n",
       "    async function quickchart(key) {\n",
       "      const quickchartButtonEl =\n",
       "        document.querySelector('#' + key + ' button');\n",
       "      quickchartButtonEl.disabled = true;  // To prevent multiple clicks.\n",
       "      quickchartButtonEl.classList.add('colab-df-spinner');\n",
       "      try {\n",
       "        const charts = await google.colab.kernel.invokeFunction(\n",
       "            'suggestCharts', [key], {});\n",
       "      } catch (error) {\n",
       "        console.error('Error during call to suggestCharts:', error);\n",
       "      }\n",
       "      quickchartButtonEl.classList.remove('colab-df-spinner');\n",
       "      quickchartButtonEl.classList.add('colab-df-quickchart-complete');\n",
       "    }\n",
       "    (() => {\n",
       "      let quickchartButtonEl =\n",
       "        document.querySelector('#df-ee72e483-9462-4e8d-84bd-35fdbf922739 button');\n",
       "      quickchartButtonEl.style.display =\n",
       "        google.colab.kernel.accessAllowed ? 'block' : 'none';\n",
       "    })();\n",
       "  </script>\n",
       "</div>\n",
       "    </div>\n",
       "  </div>\n"
      ],
      "text/plain": [
       "                                              Review\n",
       "0  Delivery was faster than a ninja on caffeine. ...\n",
       "1  Im pretty sure they had a wall made of recycle...\n",
       "2  Dude Im not even mad they were late. Food arri...\n",
       "3  Chhole bhature yaar! Sunday indulgence crispy ...\n",
       "4  The place had a vibe but I cant quite put my f..."
      ]
     },
     "execution_count": 74,
     "metadata": {},
     "output_type": "execute_result"
    }
   ],
   "source": [
    "data=pd.read_csv(\"/content/Food App Reviews.csv\")\n",
    "data.head()"
   ]
  },
  {
   "cell_type": "markdown",
   "metadata": {
    "id": "67G4RDtco_HS"
   },
   "source": [
    "Converting the Reviews column to a List to be fed into an embedding model, in order to generate embeddings"
   ]
  },
  {
   "cell_type": "code",
   "execution_count": 75,
   "metadata": {
    "colab": {
     "base_uri": "https://localhost:8080/"
    },
    "id": "fnFUFbREodu4",
    "outputId": "cfe6a76e-45fa-4177-80d9-7167a4cbef55"
   },
   "outputs": [
    {
     "data": {
      "text/plain": [
       "['Delivery was faster than a ninja on caffeine. Im ready to chow down!',\n",
       " 'Im pretty sure they had a wall made of recycled cans. Or was it shoes?',\n",
       " 'Dude Im not even mad they were late. Food arrived like a surprise party!',\n",
       " 'Chhole bhature yaar! Sunday indulgence crispy bhature FTW.',\n",
       " 'The place had a vibe but I cant quite put my finger on it. Hipster? Unicorn?',\n",
       " 'Hakka noodles FTW! Desi-Chinese fusion for life.',\n",
       " 'Pasta was alright yaar. More masala couldve made it sing.',\n",
       " 'Im telling you it was like stepping into the future. Or was it the 90s?',\n",
       " 'I was starving but the food came faster than I could say hangry. Good stuff.',\n",
       " 'Burgers are my jam but this one was kinda meh. Needed more zing.']"
      ]
     },
     "execution_count": 75,
     "metadata": {},
     "output_type": "execute_result"
    }
   ],
   "source": [
    "reviews=data['Review'].tolist()\n",
    "reviews[:10]"
   ]
  },
  {
   "cell_type": "markdown",
   "metadata": {
    "id": "4UMtlRItpHL5"
   },
   "source": [
    "Using SentenceTransformers to generate Sentence level Embeddings"
   ]
  },
  {
   "cell_type": "markdown",
   "metadata": {
    "id": "E1tMkDpBpRd_"
   },
   "source": [
    "Specifically, **The Mini_LM-6-v2 Model**"
   ]
  },
  {
   "cell_type": "code",
   "execution_count": 76,
   "metadata": {
    "id": "tvTegwjXo0r0"
   },
   "outputs": [],
   "source": [
    "#!pip install sentence-transformers"
   ]
  },
  {
   "cell_type": "code",
   "execution_count": 1,
   "metadata": {
    "id": "eXaM3BVaphES"
   },
   "outputs": [
    {
     "ename": "ModuleNotFoundError",
     "evalue": "No module named 'sentence_transformers'",
     "output_type": "error",
     "traceback": [
      "\u001b[0;31m---------------------------------------------------------------------------\u001b[0m",
      "\u001b[0;31mModuleNotFoundError\u001b[0m                       Traceback (most recent call last)",
      "Cell \u001b[0;32mIn[1], line 1\u001b[0m\n\u001b[0;32m----> 1\u001b[0m \u001b[38;5;28;01mfrom\u001b[39;00m \u001b[38;5;21;01msentence_transformers\u001b[39;00m \u001b[38;5;28;01mimport\u001b[39;00m SentenceTransformer\n",
      "\u001b[0;31mModuleNotFoundError\u001b[0m: No module named 'sentence_transformers'"
     ]
    }
   ],
   "source": [
    "from sentence_transformers import SentenceTransformer"
   ]
  },
  {
   "cell_type": "code",
   "execution_count": 78,
   "metadata": {
    "id": "JazVt5-Ppsg0"
   },
   "outputs": [],
   "source": [
    "model_name= \"all-MiniLM-L6-v2\"\n",
    "model= SentenceTransformer(model_name)"
   ]
  },
  {
   "cell_type": "code",
   "execution_count": 79,
   "metadata": {
    "id": "R660L_Lgp6K-"
   },
   "outputs": [],
   "source": [
    "embeddings=model.encode(reviews)"
   ]
  },
  {
   "cell_type": "code",
   "execution_count": 80,
   "metadata": {
    "colab": {
     "base_uri": "https://localhost:8080/"
    },
    "id": "4d6RQtMJr3KB",
    "outputId": "b2f9bb08-4388-443a-f434-8e863a7ca553"
   },
   "outputs": [
    {
     "data": {
      "text/plain": [
       "array([[-2.16154996e-02, -2.37903744e-02,  1.38450731e-02, ...,\n",
       "        -6.15601949e-02,  1.63017269e-02,  5.54934423e-03],\n",
       "       [-9.73157808e-02,  1.10763572e-01, -1.29521228e-02, ...,\n",
       "        -5.25416918e-02,  1.60634741e-02,  1.04477525e-01],\n",
       "       [ 1.57085378e-02,  1.58678517e-02,  9.41281114e-03, ...,\n",
       "         4.04531844e-02, -1.06743112e-01, -1.16561959e-02],\n",
       "       ...,\n",
       "       [-4.39310782e-02,  7.14947432e-02,  1.28977308e-02, ...,\n",
       "        -9.30987298e-03, -3.51440649e-05, -1.93285439e-02],\n",
       "       [-2.32147090e-02,  5.34278862e-02,  1.94655899e-02, ...,\n",
       "        -5.61597152e-03, -8.23437646e-02,  6.48906380e-02],\n",
       "       [-8.86445940e-02,  6.28960133e-02,  9.51814000e-03, ...,\n",
       "        -2.20437068e-02, -3.48640569e-02,  4.35129628e-02]], dtype=float32)"
      ]
     },
     "execution_count": 80,
     "metadata": {},
     "output_type": "execute_result"
    }
   ],
   "source": [
    "embeddings[:10]"
   ]
  },
  {
   "cell_type": "code",
   "execution_count": 81,
   "metadata": {
    "colab": {
     "base_uri": "https://localhost:8080/"
    },
    "id": "WqSRzOowrLbc",
    "outputId": "ee691243-ef43-46ae-8bda-22cf1f7e2a1c"
   },
   "outputs": [
    {
     "data": {
      "text/plain": [
       "101"
      ]
     },
     "execution_count": 81,
     "metadata": {},
     "output_type": "execute_result"
    }
   ],
   "source": [
    "len(reviews)"
   ]
  },
  {
   "cell_type": "code",
   "execution_count": 82,
   "metadata": {
    "colab": {
     "base_uri": "https://localhost:8080/"
    },
    "id": "qOusq0-Dqk8G",
    "outputId": "c73910c2-33db-47c3-e2c5-e4e7885cf851"
   },
   "outputs": [
    {
     "data": {
      "text/plain": [
       "(101, 384)"
      ]
     },
     "execution_count": 82,
     "metadata": {},
     "output_type": "execute_result"
    }
   ],
   "source": [
    "embeddings.shape"
   ]
  },
  {
   "cell_type": "markdown",
   "metadata": {
    "id": "PIAD1nC3rUqH"
   },
   "source": [
    "Visualization of embeddings through Dimensionality Reduction"
   ]
  },
  {
   "cell_type": "markdown",
   "metadata": {
    "id": "enMikHznreKI"
   },
   "source": [
    "Specifically using UMAP for dimensionality reduction"
   ]
  },
  {
   "cell_type": "code",
   "execution_count": 83,
   "metadata": {
    "id": "4AjKh8q2qszQ"
   },
   "outputs": [],
   "source": [
    "#!pip install umap-learn"
   ]
  },
  {
   "cell_type": "code",
   "execution_count": 84,
   "metadata": {
    "id": "zZ60Pi6crb_E"
   },
   "outputs": [],
   "source": [
    "from umap import UMAP"
   ]
  },
  {
   "cell_type": "code",
   "execution_count": 85,
   "metadata": {
    "id": "z_iFFslOroXV"
   },
   "outputs": [],
   "source": [
    "embeddings=model.encode(reviews,convert_to_tensor=True)"
   ]
  },
  {
   "cell_type": "code",
   "execution_count": 86,
   "metadata": {
    "colab": {
     "base_uri": "https://localhost:8080/"
    },
    "id": "rrXrfl3_r0NB",
    "outputId": "0305e357-3a87-4fa8-81d5-09347d229ab3"
   },
   "outputs": [
    {
     "data": {
      "text/plain": [
       "tensor([[-2.1615e-02, -2.3790e-02,  1.3845e-02,  ..., -6.1560e-02,\n",
       "          1.6302e-02,  5.5493e-03],\n",
       "        [-9.7316e-02,  1.1076e-01, -1.2952e-02,  ..., -5.2542e-02,\n",
       "          1.6063e-02,  1.0448e-01],\n",
       "        [ 1.5709e-02,  1.5868e-02,  9.4128e-03,  ...,  4.0453e-02,\n",
       "         -1.0674e-01, -1.1656e-02],\n",
       "        ...,\n",
       "        [-4.3931e-02,  7.1495e-02,  1.2898e-02,  ..., -9.3099e-03,\n",
       "         -3.5144e-05, -1.9329e-02],\n",
       "        [-2.3215e-02,  5.3428e-02,  1.9466e-02,  ..., -5.6160e-03,\n",
       "         -8.2344e-02,  6.4891e-02],\n",
       "        [-8.8645e-02,  6.2896e-02,  9.5181e-03,  ..., -2.2044e-02,\n",
       "         -3.4864e-02,  4.3513e-02]])"
      ]
     },
     "execution_count": 86,
     "metadata": {},
     "output_type": "execute_result"
    }
   ],
   "source": [
    "embeddings[:10]"
   ]
  },
  {
   "cell_type": "code",
   "execution_count": 87,
   "metadata": {
    "id": "p3Dze4slr_Dv"
   },
   "outputs": [],
   "source": [
    "reducer=UMAP(n_components=2,metric='cosine')\n",
    "embeddings_2d=reducer.fit_transform(embeddings)"
   ]
  },
  {
   "cell_type": "code",
   "execution_count": 88,
   "metadata": {
    "colab": {
     "base_uri": "https://localhost:8080/"
    },
    "id": "mvNVdl15s7lX",
    "outputId": "18bc81a3-9103-4539-9614-aefb4d574571"
   },
   "outputs": [
    {
     "data": {
      "text/plain": [
       "array([[-1.2296668,  5.96315  ],\n",
       "       [ 2.9289095,  4.8882065],\n",
       "       [-0.5125711,  5.113647 ],\n",
       "       [-3.8718374,  1.1592731],\n",
       "       [ 3.8227122,  4.7644   ],\n",
       "       [-4.9514503,  2.0816233],\n",
       "       [-5.026261 ,  2.8995798],\n",
       "       [ 3.9552565,  5.3712525],\n",
       "       [-1.2046111,  4.8669305],\n",
       "       [-2.4032495,  3.444207 ]], dtype=float32)"
      ]
     },
     "execution_count": 88,
     "metadata": {},
     "output_type": "execute_result"
    }
   ],
   "source": [
    "embeddings_2d[:10]"
   ]
  },
  {
   "cell_type": "code",
   "execution_count": 89,
   "metadata": {
    "colab": {
     "base_uri": "https://localhost:8080/",
     "height": 452
    },
    "id": "CG6_Z9yWtEWh",
    "outputId": "2c0d6e7f-774a-4f20-c68b-fb15ab27855f"
   },
   "outputs": [
    {
     "data": {
      "image/png": "[encoded data removed]",
      "text/plain": [
       "<Figure size 640x480 with 1 Axes>"
      ]
     },
     "metadata": {},
     "output_type": "display_data"
    }
   ],
   "source": [
    "plt.scatter(embeddings_2d[:,0],embeddings_2d[:,1],marker='o')\n",
    "plt.title('Food App Review Embeddings')\n",
    "plt.show()"
   ]
  },
  {
   "cell_type": "markdown",
   "metadata": {
    "id": "-zbFPf5ntb07"
   },
   "source": [
    "Cluster and Visualise the Embeddings with Plotly for a better understanding"
   ]
  },
  {
   "cell_type": "code",
   "execution_count": 90,
   "metadata": {
    "id": "qMn9kRyZtVQg"
   },
   "outputs": [],
   "source": [
    "from sklearn.cluster import KMeans"
   ]
  },
  {
   "cell_type": "code",
   "execution_count": 91,
   "metadata": {
    "colab": {
     "base_uri": "https://localhost:8080/"
    },
    "id": "L5GIWDE-tm7P",
    "outputId": "9dc12f6b-7a88-40d9-f0d4-a2f06b71326b"
   },
   "outputs": [
    {
     "name": "stderr",
     "output_type": "stream",
     "text": [
      "/usr/local/lib/python3.10/dist-packages/sklearn/cluster/_kmeans.py:870: FutureWarning:\n",
      "\n",
      "The default value of `n_init` will change from 10 to 'auto' in 1.4. Set the value of `n_init` explicitly to suppress the warning\n",
      "\n"
     ]
    }
   ],
   "source": [
    "num_clusters=3\n",
    "kmeans=KMeans(n_clusters=num_clusters)\n",
    "cluster_labels=kmeans.fit_predict(embeddings_2d)"
   ]
  },
  {
   "cell_type": "code",
   "execution_count": 92,
   "metadata": {
    "id": "4C1c5tNOuAm9"
   },
   "outputs": [],
   "source": [
    "data['cluster_label']=cluster_labels"
   ]
  },
  {
   "cell_type": "code",
   "execution_count": 93,
   "metadata": {
    "colab": {
     "base_uri": "https://localhost:8080/",
     "height": 206
    },
    "id": "_qKOcDH6uEHi",
    "outputId": "8ac96a81-93e7-4d28-e10c-d1b35429673a"
   },
   "outputs": [
    {
     "data": {
      "text/html": [
       "\n",
       "  <div id=\"df-f773974a-18d2-4b2e-815c-c0c12abe5fb2\" class=\"colab-df-container\">\n",
       "    <div>\n",
       "<style scoped>\n",
       "    .dataframe tbody tr th:only-of-type {\n",
       "        vertical-align: middle;\n",
       "    }\n",
       "\n",
       "    .dataframe tbody tr th {\n",
       "        vertical-align: top;\n",
       "    }\n",
       "\n",
       "    .dataframe thead th {\n",
       "        text-align: right;\n",
       "    }\n",
       "</style>\n",
       "<table border=\"1\" class=\"dataframe\">\n",
       "  <thead>\n",
       "    <tr style=\"text-align: right;\">\n",
       "      <th></th>\n",
       "      <th>Review</th>\n",
       "      <th>cluster_label</th>\n",
       "    </tr>\n",
       "  </thead>\n",
       "  <tbody>\n",
       "    <tr>\n",
       "      <th>0</th>\n",
       "      <td>Delivery was faster than a ninja on caffeine. ...</td>\n",
       "      <td>2</td>\n",
       "    </tr>\n",
       "    <tr>\n",
       "      <th>1</th>\n",
       "      <td>Im pretty sure they had a wall made of recycle...</td>\n",
       "      <td>0</td>\n",
       "    </tr>\n",
       "    <tr>\n",
       "      <th>2</th>\n",
       "      <td>Dude Im not even mad they were late. Food arri...</td>\n",
       "      <td>2</td>\n",
       "    </tr>\n",
       "    <tr>\n",
       "      <th>3</th>\n",
       "      <td>Chhole bhature yaar! Sunday indulgence crispy ...</td>\n",
       "      <td>1</td>\n",
       "    </tr>\n",
       "    <tr>\n",
       "      <th>4</th>\n",
       "      <td>The place had a vibe but I cant quite put my f...</td>\n",
       "      <td>0</td>\n",
       "    </tr>\n",
       "  </tbody>\n",
       "</table>\n",
       "</div>\n",
       "    <div class=\"colab-df-buttons\">\n",
       "\n",
       "  <div class=\"colab-df-container\">\n",
       "    <button class=\"colab-df-convert\" onclick=\"convertToInteractive('df-f773974a-18d2-4b2e-815c-c0c12abe5fb2')\"\n",
       "            title=\"Convert this dataframe to an interactive table.\"\n",
       "            style=\"display:none;\">\n",
       "\n",
       "  <svg xmlns=\"http://www.w3.org/2000/svg\" height=\"24px\" viewBox=\"0 -960 960 960\">\n",
       "    <path d=\"M120-120v-720h720v720H120Zm60-500h600v-160H180v160Zm220 220h160v-160H400v160Zm0 220h160v-160H400v160ZM180-400h160v-160H180v160Zm440 0h160v-160H620v160ZM180-180h160v-160H180v160Zm440 0h160v-160H620v160Z\"/>\n",
       "  </svg>\n",
       "    </button>\n",
       "\n",
       "  <style>\n",
       "    .colab-df-container {\n",
       "      display:flex;\n",
       "      gap: 12px;\n",
       "    }\n",
       "\n",
       "    .colab-df-convert {\n",
       "      background-color: #E8F0FE;\n",
       "      border: none;\n",
       "      border-radius: 50%;\n",
       "      cursor: pointer;\n",
       "      display: none;\n",
       "      fill: #1967D2;\n",
       "      height: 32px;\n",
       "      padding: 0 0 0 0;\n",
       "      width: 32px;\n",
       "    }\n",
       "\n",
       "    .colab-df-convert:hover {\n",
       "      background-color: #E2EBFA;\n",
       "      box-shadow: 0px 1px 2px rgba(60, 64, 67, 0.3), 0px 1px 3px 1px rgba(60, 64, 67, 0.15);\n",
       "      fill: #174EA6;\n",
       "    }\n",
       "\n",
       "    .colab-df-buttons div {\n",
       "      margin-bottom: 4px;\n",
       "    }\n",
       "\n",
       "    [theme=dark] .colab-df-convert {\n",
       "      background-color: #3B4455;\n",
       "      fill: #D2E3FC;\n",
       "    }\n",
       "\n",
       "    [theme=dark] .colab-df-convert:hover {\n",
       "      background-color: #434B5C;\n",
       "      box-shadow: 0px 1px 3px 1px rgba(0, 0, 0, 0.15);\n",
       "      filter: drop-shadow(0px 1px 2px rgba(0, 0, 0, 0.3));\n",
       "      fill: #FFFFFF;\n",
       "    }\n",
       "  </style>\n",
       "\n",
       "    <script>\n",
       "      const buttonEl =\n",
       "        document.querySelector('#df-f773974a-18d2-4b2e-815c-c0c12abe5fb2 button.colab-df-convert');\n",
       "      buttonEl.style.display =\n",
       "        google.colab.kernel.accessAllowed ? 'block' : 'none';\n",
       "\n",
       "      async function convertToInteractive(key) {\n",
       "        const element = document.querySelector('#df-f773974a-18d2-4b2e-815c-c0c12abe5fb2');\n",
       "        const dataTable =\n",
       "          await google.colab.kernel.invokeFunction('convertToInteractive',\n",
       "                                                    [key], {});\n",
       "        if (!dataTable) return;\n",
       "\n",
       "        const docLinkHtml = 'Like what you see? Visit the ' +\n",
       "          '<a target=\"_blank\" href=https://colab.research.google.com/notebooks/data_table.ipynb>data table notebook</a>'\n",
       "          + ' to learn more about interactive tables.';\n",
       "        element.innerHTML = '';\n",
       "        dataTable['output_type'] = 'display_data';\n",
       "        await google.colab.output.renderOutput(dataTable, element);\n",
       "        const docLink = document.createElement('div');\n",
       "        docLink.innerHTML = docLinkHtml;\n",
       "        element.appendChild(docLink);\n",
       "      }\n",
       "    </script>\n",
       "  </div>\n",
       "\n",
       "\n",
       "<div id=\"df-6e09bddc-8693-4308-baa8-db27d542905e\">\n",
       "  <button class=\"colab-df-quickchart\" onclick=\"quickchart('df-6e09bddc-8693-4308-baa8-db27d542905e')\"\n",
       "            title=\"Suggest charts.\"\n",
       "            style=\"display:none;\">\n",
       "\n",
       "<svg xmlns=\"http://www.w3.org/2000/svg\" height=\"24px\"viewBox=\"0 0 24 24\"\n",
       "     width=\"24px\">\n",
       "    <g>\n",
       "        <path d=\"M19 3H5c-1.1 0-2 .9-2 2v14c0 1.1.9 2 2 2h14c1.1 0 2-.9 2-2V5c0-1.1-.9-2-2-2zM9 17H7v-7h2v7zm4 0h-2V7h2v10zm4 0h-2v-4h2v4z\"/>\n",
       "    </g>\n",
       "</svg>\n",
       "  </button>\n",
       "\n",
       "<style>\n",
       "  .colab-df-quickchart {\n",
       "      --bg-color: #E8F0FE;\n",
       "      --fill-color: #1967D2;\n",
       "      --hover-bg-color: #E2EBFA;\n",
       "      --hover-fill-color: #174EA6;\n",
       "      --disabled-fill-color: #AAA;\n",
       "      --disabled-bg-color: #DDD;\n",
       "  }\n",
       "\n",
       "  [theme=dark] .colab-df-quickchart {\n",
       "      --bg-color: #3B4455;\n",
       "      --fill-color: #D2E3FC;\n",
       "      --hover-bg-color: #434B5C;\n",
       "      --hover-fill-color: #FFFFFF;\n",
       "      --disabled-bg-color: #3B4455;\n",
       "      --disabled-fill-color: #666;\n",
       "  }\n",
       "\n",
       "  .colab-df-quickchart {\n",
       "    background-color: var(--bg-color);\n",
       "    border: none;\n",
       "    border-radius: 50%;\n",
       "    cursor: pointer;\n",
       "    display: none;\n",
       "    fill: var(--fill-color);\n",
       "    height: 32px;\n",
       "    padding: 0;\n",
       "    width: 32px;\n",
       "  }\n",
       "\n",
       "  .colab-df-quickchart:hover {\n",
       "    background-color: var(--hover-bg-color);\n",
       "    box-shadow: 0 1px 2px rgba(60, 64, 67, 0.3), 0 1px 3px 1px rgba(60, 64, 67, 0.15);\n",
       "    fill: var(--button-hover-fill-color);\n",
       "  }\n",
       "\n",
       "  .colab-df-quickchart-complete:disabled,\n",
       "  .colab-df-quickchart-complete:disabled:hover {\n",
       "    background-color: var(--disabled-bg-color);\n",
       "    fill: var(--disabled-fill-color);\n",
       "    box-shadow: none;\n",
       "  }\n",
       "\n",
       "  .colab-df-spinner {\n",
       "    border: 2px solid var(--fill-color);\n",
       "    border-color: transparent;\n",
       "    border-bottom-color: var(--fill-color);\n",
       "    animation:\n",
       "      spin 1s steps(1) infinite;\n",
       "  }\n",
       "\n",
       "  @keyframes spin {\n",
       "    0% {\n",
       "      border-color: transparent;\n",
       "      border-bottom-color: var(--fill-color);\n",
       "      border-left-color: var(--fill-color);\n",
       "    }\n",
       "    20% {\n",
       "      border-color: transparent;\n",
       "      border-left-color: var(--fill-color);\n",
       "      border-top-color: var(--fill-color);\n",
       "    }\n",
       "    30% {\n",
       "      border-color: transparent;\n",
       "      border-left-color: var(--fill-color);\n",
       "      border-top-color: var(--fill-color);\n",
       "      border-right-color: var(--fill-color);\n",
       "    }\n",
       "    40% {\n",
       "      border-color: transparent;\n",
       "      border-right-color: var(--fill-color);\n",
       "      border-top-color: var(--fill-color);\n",
       "    }\n",
       "    60% {\n",
       "      border-color: transparent;\n",
       "      border-right-color: var(--fill-color);\n",
       "    }\n",
       "    80% {\n",
       "      border-color: transparent;\n",
       "      border-right-color: var(--fill-color);\n",
       "      border-bottom-color: var(--fill-color);\n",
       "    }\n",
       "    90% {\n",
       "      border-color: transparent;\n",
       "      border-bottom-color: var(--fill-color);\n",
       "    }\n",
       "  }\n",
       "</style>\n",
       "\n",
       "  <script>\n",
       "    async function quickchart(key) {\n",
       "      const quickchartButtonEl =\n",
       "        document.querySelector('#' + key + ' button');\n",
       "      quickchartButtonEl.disabled = true;  // To prevent multiple clicks.\n",
       "      quickchartButtonEl.classList.add('colab-df-spinner');\n",
       "      try {\n",
       "        const charts = await google.colab.kernel.invokeFunction(\n",
       "            'suggestCharts', [key], {});\n",
       "      } catch (error) {\n",
       "        console.error('Error during call to suggestCharts:', error);\n",
       "      }\n",
       "      quickchartButtonEl.classList.remove('colab-df-spinner');\n",
       "      quickchartButtonEl.classList.add('colab-df-quickchart-complete');\n",
       "    }\n",
       "    (() => {\n",
       "      let quickchartButtonEl =\n",
       "        document.querySelector('#df-6e09bddc-8693-4308-baa8-db27d542905e button');\n",
       "      quickchartButtonEl.style.display =\n",
       "        google.colab.kernel.accessAllowed ? 'block' : 'none';\n",
       "    })();\n",
       "  </script>\n",
       "</div>\n",
       "    </div>\n",
       "  </div>\n"
      ],
      "text/plain": [
       "                                              Review  cluster_label\n",
       "0  Delivery was faster than a ninja on caffeine. ...              2\n",
       "1  Im pretty sure they had a wall made of recycle...              0\n",
       "2  Dude Im not even mad they were late. Food arri...              2\n",
       "3  Chhole bhature yaar! Sunday indulgence crispy ...              1\n",
       "4  The place had a vibe but I cant quite put my f...              0"
      ]
     },
     "execution_count": 93,
     "metadata": {},
     "output_type": "execute_result"
    }
   ],
   "source": [
    "data.head()"
   ]
  },
  {
   "cell_type": "code",
   "execution_count": 94,
   "metadata": {
    "id": "wxF59CxZuFHo"
   },
   "outputs": [],
   "source": [
    "#!pip install plotly"
   ]
  },
  {
   "cell_type": "code",
   "execution_count": 95,
   "metadata": {
    "colab": {
     "base_uri": "https://localhost:8080/",
     "height": 637
    },
    "id": "EFLeyHB1uNGF",
    "outputId": "0e5398da-479f-41ec-def7-77930f00c6ba"
   },
   "outputs": [
    {
     "data": {
      "text/html": [
       "<html>\n",
       "<head><meta charset=\"utf-8\" /></head>\n",
       "<body>\n",
       "    <div>            <script src=\"https://cdnjs.cloudflare.com/ajax/libs/mathjax/2.7.5/MathJax.js?config=TeX-AMS-MML_SVG\"></script><script type=\"text/javascript\">if (window.MathJax && window.MathJax.Hub && window.MathJax.Hub.Config) {window.MathJax.Hub.Config({SVG: {font: \"STIX-Web\"}});}</script>                <script type=\"text/javascript\">window.PlotlyConfig = {MathJaxConfig: 'local'};</script>\n",
       "        <script charset=\"utf-8\" src=\"https://cdn.plot.ly/plotly-2.24.1.min.js\"></script>                <div id=\"4e69723c-4efe-4ba3-881a-07cb2a8f55df\" class=\"plotly-graph-div\" style=\"height:600px; width:800px;\"></div>            <script type=\"text/javascript\">                                    window.PLOTLYENV=window.PLOTLYENV || {};                                    if (document.getElementById(\"4e69723c-4efe-4ba3-881a-07cb2a8f55df\")) {                    Plotly.newPlot(                        \"4e69723c-4efe-4ba3-881a-07cb2a8f55df\",                        [{\"hovertemplate\":\"\\u003cb\\u003e%{hovertext}\\u003c\\u002fb\\u003e\\u003cbr\\u003e\\u003cbr\\u003ex=%{x}\\u003cbr\\u003ey=%{y}\\u003cbr\\u003eCluster=%{marker.color}\\u003cextra\\u003e\\u003c\\u002fextra\\u003e\",\"hovertext\":[\"Delivery was faster than a ninja on caffeine. Im ready to chow down!\",\"Im pretty sure they had a wall made of recycled cans. Or was it shoes?\",\"Dude Im not even mad they were late. Food arrived like a surprise party!\",\"Chhole bhature yaar! Sunday indulgence crispy bhature FTW.\",\"The place had a vibe but I cant quite put my finger on it. Hipster? Unicorn?\",\"Hakka noodles FTW! Desi-Chinese fusion for life.\",\"Pasta was alright yaar. More masala couldve made it sing.\",\"Im telling you it was like stepping into the future. Or was it the 90s?\",\"I was starving but the food came faster than I could say hangry. Good stuff.\",\"Burgers are my jam but this one was kinda meh. Needed more zing.\",\"Sushi was like a flavor adventure. Mini party in my mouth.\",\"Dude there was like this mural on the wall. It was a cat no wait a panda?\",\"Got the delivery. Ate some. Not bad.\",\"Delivery was like chillin in slow-mo. Ive aged at least a year waiting.\",\"cheesy nirvana bro. Cheese everywhere happy tummy.\",\"Yo they delivered my grub so fast I barely had time to blink. Legendary speed!\",\"Greek salad? Healthy vibes but missing that masala.\",\"Chole kulche vibes dude. Spicy chickpeas fluffy kulche \\u2013 love it.\",\"I walked in and thought This is it this is the place. But what it was no clue.\",\"Im convinced they use teleportation for deliveries. Thats some next-level speed.\",\"Pani puri for life man! Tangy spicy street food love.\",\"Samosas were like little pockets of happiness. Spicy and crispy da best.\",\"I stepped in and was hit by a wall of like smells. Could be food could be candles.\",\"Food took so long I had time to write a novel about my hunger. Not amused.\",\"Delivery guy came. Food happened. Average.\",\"Okay there was like this fountain thingy. Was it water? Im not sure man.\",\"Pizza was meh dude. Missing that desi twist ya know?\",\"Burgers are life but this one was a bit blah. Needed more oomph.\",\"I saw like a disco ball? But it wasnt a disco place. Or maybe it was? Huh.\",\"Samosas were like little packets of joy. Crunchy spicy awesome.\",\"So like the place was you know kinda nice? There were like lights and stuff.\",\"Ugh the samosas I got were meh. So dry and bland yaar.\",\"Meaty and dreamy.\",\"BBQ ribs? Finger-lickin good bruh. Sauce everywhere!\",\"Food arrived fashionably late but at least Im full now. Late-night munchies sorted.\",\"Paneer dosa? Desi breakfast goals achieved bruh.\",\"Mac n cheese dude! Ultimate comfort food vibes.\",\"Dude that butter chicken was like BOOM! My mouth is still partying.\",\"Pav bhaji vibes yaar. Tangy spicy Mumbai street food bliss.\",\"Biryani was a flavor explosion bruh. Spices doing a happy dance.\",\"Biryani was a flavor bomb bro. Spices going wild taste buds dancing.\",\"Paneer tikka masala was lit bro! Creamy spicy yaaas.\",\"Kaju katli fam! Diwali mode: on. Sweet nutty divine.\",\"Delivery happened. I ate. Nothing special.\",\"Alright it was dimly lit like a vampire hangout. But like in a cool way.\",\"Ordered some grub. Ate it all. Alright.\",\"I think they tried to be fancy? There were chandeliers and stuff maybe even gold.\",\"Avo toast? Overrated AF. Just smashed avo on bread like really?\",\"The ambiance was like woah eclectic. I spotted like three different wallpapers.\",\"Samosas fam! Spicy crunchy ultimate comfort food.\",\"Received the order. Had a bite. So-so.\",\"Paneer tikka rolls? Fast food love desi style. Tummy happy.\",\"Biryani was a spice parade yaar. Spices were dancing in my mouth.\",\"Pasta was okay bro. Needed more masala Italian-style desi.\",\"Kadai paneer? Spices level: awesome. Paneer power!\",\"Paneer tikka rolls? Fast food dreams coming true dude.\",\"Tacos were meh ya know? Needed more spice and awesomeness.\",\"There were like waiters in bowties? Or were they clowns? My memorys blurry.\",\"Yo this place was like a whole aesthetic like an art gallery for food or whatever.\",\"Food got here just in time to save me from becoming a hangry monster. Phew!\",\"Didn't get it on time. Very cold food.\",\"Pizza finally got here. Took longer than a sloth running a marathon. Not cool.\",\"Food arrived. I ate. It was okay.\",\"Pasta was okay fam. Needed more masala for desi twist.\",\"So the lighting was like mood lighting but also like regular lighting. Ambiguous.\",\"Sushi was an interesting ride. Sushi samosas anyone?\",\"Biryani was legit da bomb! Spices were like hello flavor town.\",\"Pasta was aight dude. Needed more masala for desi charm.\",\"Ate a snack while waiting for the delivery. And another. And another. You get it.\",\"Ordered then binged a whole show and still no food. Whats the point though?\",\"Pizza was good man. More cheese wouldve been epic though.\",\"I think the delivery person went sightseeing before dropping off my order. So slow.\",\"Pav bhaji was like a party in my mouth. Spicy tangy perfection.\",\"Okay picture this: plants everywhere. Or were they just fake? Hard to say man.\",\"Philly cheesesteak? Cheesy coma bro. Napped like a boss.\",\"Got my order. Ate. Generic stuff.\",\"Okay so they said 30 minutes but I couldve baked a cake in that time. Seriously?\",\"Their delivery game is on point. Food got here quicker than I can say hangry.\",\"I ordered then took a nap and boom foods here. Not sure if thats good or bad.\",\"Pav bhaji was like a flavor explosion dude. Street food awesomeness.\",\"Panipuri was quite horrible. I threw up an hour later.\",\"I was expecting a food coma by now but nope still waiting. Not cool guys.\",\"I felt like I was in a movie you know? Like a rom-com but with more chairs.\",\"Chicken tikka rolls? Fast food heaven right in my mouth.\",\"Ugh they made me wait so long that I aged like 10 years. Food better be worth it.\",\"The vada pav was like feels all over my mouth.\",\"Ramen vibes man. Slurping noodles like a boss college days all over.\",\"Pav bhaji vibes man. Spicy tangy street food at home.\",\"Waiting for the delivery was like watching paint dry. The food better be divine.\",\"Paneer tikka rolls? Desi fast food love every bite a party.\",\"I went in and like felt vibes man. The vibes were like totally vibing.\",\"The delivery was like supersonic fast. I was impressed and my tummys happy.\",\"Biryani game strong fam! Inhaled it faster than my WiFi.\",\"I blinked and the food magically appeared. Not really but they were fast yo!\",\"Dude the joint had like music but I cant remember if it was like jazz or EDM.\",\"Biryani was the flavor hero yaar. Spices were popping party in my mouth.\",\"Food arrived. I had a taste. Pretty standard.\",\"Food was delivered. I ate. Cant complain.\",\"Bao buns? Fluffy clouds of yum. Im in bao heaven.\",\"Ugh it was so cozy you wouldnt believe. I mean they had chairs and tables.\",\"Ordered food. Ate it. Meh.\"],\"legendgroup\":\"\",\"marker\":{\"color\":[2,0,2,1,0,1,1,0,2,1,1,0,2,2,1,2,1,1,0,2,1,1,2,2,2,0,1,2,0,1,0,1,2,1,2,1,1,1,1,1,1,1,1,2,0,2,0,1,0,1,2,1,1,1,1,1,1,0,0,2,2,2,2,1,0,1,1,1,2,2,1,2,1,0,1,2,2,2,2,1,1,2,0,1,2,1,1,1,2,1,0,2,1,2,0,1,2,2,1,0,2],\"coloraxis\":\"coloraxis\",\"symbol\":\"circle\",\"size\":8},\"mode\":\"markers\",\"name\":\"\",\"orientation\":\"v\",\"showlegend\":false,\"x\":[-1.229666829109192,2.9289095401763916,-0.5125710964202881,-3.8718373775482178,3.8227121829986572,-4.951450347900391,-5.026260852813721,3.955256462097168,-1.20461106300354,-2.403249502182007,-2.946869134902954,3.207304000854492,-0.9434295296669006,-1.4413385391235352,-3.245624303817749,-1.2809325456619263,-4.695948600769043,-4.101158142089844,3.685168743133545,-1.78715980052948,-4.453459739685059,-3.494950294494629,0.1457662582397461,-0.803348958492279,-0.5000261068344116,3.1201305389404297,-2.839167356491089,-2.2207562923431396,3.9480512142181396,-3.3254501819610596,3.3770604133605957,-3.4825551509857178,-1.5893445014953613,-3.850245714187622,-0.8635888695716858,-5.052548885345459,-3.1263673305511475,-3.6049153804779053,-3.9289793968200684,-2.7110049724578857,-2.605400323867798,-5.1328582763671875,-4.334786415100098,-0.8561820983886719,3.466773509979248,-0.7192984223365784,3.0476043224334717,-3.3231351375579834,3.367649793624878,-3.730788469314575,-0.7140315175056458,-4.9465227127075195,-2.677313804626465,-5.147843360900879,-4.976288795471191,-5.339798927307129,-2.831967353820801,3.470348596572876,3.586897611618042,-1.4128155708312988,-1.0037020444869995,-2.191826105117798,-0.3148839473724365,-4.970022201538086,3.1593616008758545,-3.175011157989502,-2.4560813903808594,-4.842656135559082,-0.9027359485626221,-0.3044087290763855,-2.7211782932281494,-1.6750876903533936,-3.589541435241699,2.9030604362487793,-3.0087873935699463,-0.5691113471984863,-0.6923880577087402,-1.5683801174163818,-1.129927396774292,-3.380373239517212,-4.719017028808594,-0.9419699907302856,4.213620185852051,-4.6985039710998535,-0.6427327394485474,-3.366999387741089,-4.300821781158447,-3.916078805923462,-1.5272409915924072,-5.06752872467041,3.8839375972747803,-1.612404465675354,-2.381255626678467,-0.2255896031856537,3.770411491394043,-2.8863892555236816,-0.15097664296627045,-0.6478566527366638,-4.582808494567871,3.4283158779144287,-0.3127851188182831],\"xaxis\":\"x\",\"y\":[5.9631500244140625,4.888206481933594,5.113646984100342,1.1592731475830078,4.764400005340576,2.0816233158111572,2.8995797634124756,5.371252536773682,4.8669304847717285,3.444206953048706,1.216586947441101,4.3774566650390625,6.247304916381836,6.163674831390381,3.0925452709198,6.35902214050293,2.939934492111206,1.516078233718872,4.616951942443848,6.249281883239746,1.174749493598938,1.7691363096237183,5.282959938049316,5.025041580200195,5.9703593254089355,4.342164516448975,3.763608694076538,3.791377305984497,4.98266077041626,1.8627647161483765,4.992753505706787,1.9315963983535767,4.501501560211182,2.5039312839508057,5.4020891189575195,1.5349011421203613,3.1841185092926025,2.641777515411377,1.1964681148529053,0.8709548115730286,0.5930672287940979,1.4688869714736938,0.961893618106842,5.941590309143066,5.038068771362305,6.4576826095581055,5.310529708862305,2.259403705596924,4.6453728675842285,1.9664199352264404,6.487387657165527,1.5529228448867798,0.7618781328201294,2.7041687965393066,1.045105218887329,1.6340373754501343,2.1277801990509033,5.476468563079834,4.6891889572143555,4.761353492736816,5.2342329025268555,4.353567600250244,6.1380934715271,2.865278959274292,5.027486324310303,1.6531875133514404,0.725326418876648,3.007638931274414,6.1731109619140625,5.536850929260254,3.7908530235290527,6.307228088378906,1.0018701553344727,4.69228982925415,3.378376007080078,6.5637526512146,4.95026969909668,5.349643707275391,5.498272895812988,0.980922520160675,1.2227874994277954,5.629886627197266,5.208476543426514,1.8983584642410278,5.2779130935668945,0.898652970790863,2.257911205291748,1.5351777076721191,5.713420867919922,1.7340264320373535,5.006491184234619,5.940988540649414,0.631654679775238,4.927453994750977,5.373983860015869,0.5932292342185974,5.77411413192749,5.904941082000732,2.0215704441070557,5.475255489349365,6.357379913330078],\"yaxis\":\"y\",\"type\":\"scatter\"}],                        {\"template\":{\"data\":{\"histogram2dcontour\":[{\"type\":\"histogram2dcontour\",\"colorbar\":{\"outlinewidth\":0,\"ticks\":\"\"},\"colorscale\":[[0.0,\"#0d0887\"],[0.1111111111111111,\"#46039f\"],[0.2222222222222222,\"#7201a8\"],[0.3333333333333333,\"#9c179e\"],[0.4444444444444444,\"#bd3786\"],[0.5555555555555556,\"#d8576b\"],[0.6666666666666666,\"#ed7953\"],[0.7777777777777778,\"#fb9f3a\"],[0.8888888888888888,\"#fdca26\"],[1.0,\"#f0f921\"]]}],\"choropleth\":[{\"type\":\"choropleth\",\"colorbar\":{\"outlinewidth\":0,\"ticks\":\"\"}}],\"histogram2d\":[{\"type\":\"histogram2d\",\"colorbar\":{\"outlinewidth\":0,\"ticks\":\"\"},\"colorscale\":[[0.0,\"#0d0887\"],[0.1111111111111111,\"#46039f\"],[0.2222222222222222,\"#7201a8\"],[0.3333333333333333,\"#9c179e\"],[0.4444444444444444,\"#bd3786\"],[0.5555555555555556,\"#d8576b\"],[0.6666666666666666,\"#ed7953\"],[0.7777777777777778,\"#fb9f3a\"],[0.8888888888888888,\"#fdca26\"],[1.0,\"#f0f921\"]]}],\"heatmap\":[{\"type\":\"heatmap\",\"colorbar\":{\"outlinewidth\":0,\"ticks\":\"\"},\"colorscale\":[[0.0,\"#0d0887\"],[0.1111111111111111,\"#46039f\"],[0.2222222222222222,\"#7201a8\"],[0.3333333333333333,\"#9c179e\"],[0.4444444444444444,\"#bd3786\"],[0.5555555555555556,\"#d8576b\"],[0.6666666666666666,\"#ed7953\"],[0.7777777777777778,\"#fb9f3a\"],[0.8888888888888888,\"#fdca26\"],[1.0,\"#f0f921\"]]}],\"heatmapgl\":[{\"type\":\"heatmapgl\",\"colorbar\":{\"outlinewidth\":0,\"ticks\":\"\"},\"colorscale\":[[0.0,\"#0d0887\"],[0.1111111111111111,\"#46039f\"],[0.2222222222222222,\"#7201a8\"],[0.3333333333333333,\"#9c179e\"],[0.4444444444444444,\"#bd3786\"],[0.5555555555555556,\"#d8576b\"],[0.6666666666666666,\"#ed7953\"],[0.7777777777777778,\"#fb9f3a\"],[0.8888888888888888,\"#fdca26\"],[1.0,\"#f0f921\"]]}],\"contourcarpet\":[{\"type\":\"contourcarpet\",\"colorbar\":{\"outlinewidth\":0,\"ticks\":\"\"}}],\"contour\":[{\"type\":\"contour\",\"colorbar\":{\"outlinewidth\":0,\"ticks\":\"\"},\"colorscale\":[[0.0,\"#0d0887\"],[0.1111111111111111,\"#46039f\"],[0.2222222222222222,\"#7201a8\"],[0.3333333333333333,\"#9c179e\"],[0.4444444444444444,\"#bd3786\"],[0.5555555555555556,\"#d8576b\"],[0.6666666666666666,\"#ed7953\"],[0.7777777777777778,\"#fb9f3a\"],[0.8888888888888888,\"#fdca26\"],[1.0,\"#f0f921\"]]}],\"surface\":[{\"type\":\"surface\",\"colorbar\":{\"outlinewidth\":0,\"ticks\":\"\"},\"colorscale\":[[0.0,\"#0d0887\"],[0.1111111111111111,\"#46039f\"],[0.2222222222222222,\"#7201a8\"],[0.3333333333333333,\"#9c179e\"],[0.4444444444444444,\"#bd3786\"],[0.5555555555555556,\"#d8576b\"],[0.6666666666666666,\"#ed7953\"],[0.7777777777777778,\"#fb9f3a\"],[0.8888888888888888,\"#fdca26\"],[1.0,\"#f0f921\"]]}],\"mesh3d\":[{\"type\":\"mesh3d\",\"colorbar\":{\"outlinewidth\":0,\"ticks\":\"\"}}],\"scatter\":[{\"fillpattern\":{\"fillmode\":\"overlay\",\"size\":10,\"solidity\":0.2},\"type\":\"scatter\"}],\"parcoords\":[{\"type\":\"parcoords\",\"line\":{\"colorbar\":{\"outlinewidth\":0,\"ticks\":\"\"}}}],\"scatterpolargl\":[{\"type\":\"scatterpolargl\",\"marker\":{\"colorbar\":{\"outlinewidth\":0,\"ticks\":\"\"}}}],\"bar\":[{\"error_x\":{\"color\":\"#2a3f5f\"},\"error_y\":{\"color\":\"#2a3f5f\"},\"marker\":{\"line\":{\"color\":\"#E5ECF6\",\"width\":0.5},\"pattern\":{\"fillmode\":\"overlay\",\"size\":10,\"solidity\":0.2}},\"type\":\"bar\"}],\"scattergeo\":[{\"type\":\"scattergeo\",\"marker\":{\"colorbar\":{\"outlinewidth\":0,\"ticks\":\"\"}}}],\"scatterpolar\":[{\"type\":\"scatterpolar\",\"marker\":{\"colorbar\":{\"outlinewidth\":0,\"ticks\":\"\"}}}],\"histogram\":[{\"marker\":{\"pattern\":{\"fillmode\":\"overlay\",\"size\":10,\"solidity\":0.2}},\"type\":\"histogram\"}],\"scattergl\":[{\"type\":\"scattergl\",\"marker\":{\"colorbar\":{\"outlinewidth\":0,\"ticks\":\"\"}}}],\"scatter3d\":[{\"type\":\"scatter3d\",\"line\":{\"colorbar\":{\"outlinewidth\":0,\"ticks\":\"\"}},\"marker\":{\"colorbar\":{\"outlinewidth\":0,\"ticks\":\"\"}}}],\"scattermapbox\":[{\"type\":\"scattermapbox\",\"marker\":{\"colorbar\":{\"outlinewidth\":0,\"ticks\":\"\"}}}],\"scatterternary\":[{\"type\":\"scatterternary\",\"marker\":{\"colorbar\":{\"outlinewidth\":0,\"ticks\":\"\"}}}],\"scattercarpet\":[{\"type\":\"scattercarpet\",\"marker\":{\"colorbar\":{\"outlinewidth\":0,\"ticks\":\"\"}}}],\"carpet\":[{\"aaxis\":{\"endlinecolor\":\"#2a3f5f\",\"gridcolor\":\"white\",\"linecolor\":\"white\",\"minorgridcolor\":\"white\",\"startlinecolor\":\"#2a3f5f\"},\"baxis\":{\"endlinecolor\":\"#2a3f5f\",\"gridcolor\":\"white\",\"linecolor\":\"white\",\"minorgridcolor\":\"white\",\"startlinecolor\":\"#2a3f5f\"},\"type\":\"carpet\"}],\"table\":[{\"cells\":{\"fill\":{\"color\":\"#EBF0F8\"},\"line\":{\"color\":\"white\"}},\"header\":{\"fill\":{\"color\":\"#C8D4E3\"},\"line\":{\"color\":\"white\"}},\"type\":\"table\"}],\"barpolar\":[{\"marker\":{\"line\":{\"color\":\"#E5ECF6\",\"width\":0.5},\"pattern\":{\"fillmode\":\"overlay\",\"size\":10,\"solidity\":0.2}},\"type\":\"barpolar\"}],\"pie\":[{\"automargin\":true,\"type\":\"pie\"}]},\"layout\":{\"autotypenumbers\":\"strict\",\"colorway\":[\"#636efa\",\"#EF553B\",\"#00cc96\",\"#ab63fa\",\"#FFA15A\",\"#19d3f3\",\"#FF6692\",\"#B6E880\",\"#FF97FF\",\"#FECB52\"],\"font\":{\"color\":\"#2a3f5f\"},\"hovermode\":\"closest\",\"hoverlabel\":{\"align\":\"left\"},\"paper_bgcolor\":\"white\",\"plot_bgcolor\":\"#E5ECF6\",\"polar\":{\"bgcolor\":\"#E5ECF6\",\"angularaxis\":{\"gridcolor\":\"white\",\"linecolor\":\"white\",\"ticks\":\"\"},\"radialaxis\":{\"gridcolor\":\"white\",\"linecolor\":\"white\",\"ticks\":\"\"}},\"ternary\":{\"bgcolor\":\"#E5ECF6\",\"aaxis\":{\"gridcolor\":\"white\",\"linecolor\":\"white\",\"ticks\":\"\"},\"baxis\":{\"gridcolor\":\"white\",\"linecolor\":\"white\",\"ticks\":\"\"},\"caxis\":{\"gridcolor\":\"white\",\"linecolor\":\"white\",\"ticks\":\"\"}},\"coloraxis\":{\"colorbar\":{\"outlinewidth\":0,\"ticks\":\"\"}},\"colorscale\":{\"sequential\":[[0.0,\"#0d0887\"],[0.1111111111111111,\"#46039f\"],[0.2222222222222222,\"#7201a8\"],[0.3333333333333333,\"#9c179e\"],[0.4444444444444444,\"#bd3786\"],[0.5555555555555556,\"#d8576b\"],[0.6666666666666666,\"#ed7953\"],[0.7777777777777778,\"#fb9f3a\"],[0.8888888888888888,\"#fdca26\"],[1.0,\"#f0f921\"]],\"sequentialminus\":[[0.0,\"#0d0887\"],[0.1111111111111111,\"#46039f\"],[0.2222222222222222,\"#7201a8\"],[0.3333333333333333,\"#9c179e\"],[0.4444444444444444,\"#bd3786\"],[0.5555555555555556,\"#d8576b\"],[0.6666666666666666,\"#ed7953\"],[0.7777777777777778,\"#fb9f3a\"],[0.8888888888888888,\"#fdca26\"],[1.0,\"#f0f921\"]],\"diverging\":[[0,\"#8e0152\"],[0.1,\"#c51b7d\"],[0.2,\"#de77ae\"],[0.3,\"#f1b6da\"],[0.4,\"#fde0ef\"],[0.5,\"#f7f7f7\"],[0.6,\"#e6f5d0\"],[0.7,\"#b8e186\"],[0.8,\"#7fbc41\"],[0.9,\"#4d9221\"],[1,\"#276419\"]]},\"xaxis\":{\"gridcolor\":\"white\",\"linecolor\":\"white\",\"ticks\":\"\",\"title\":{\"standoff\":15},\"zerolinecolor\":\"white\",\"automargin\":true,\"zerolinewidth\":2},\"yaxis\":{\"gridcolor\":\"white\",\"linecolor\":\"white\",\"ticks\":\"\",\"title\":{\"standoff\":15},\"zerolinecolor\":\"white\",\"automargin\":true,\"zerolinewidth\":2},\"scene\":{\"xaxis\":{\"backgroundcolor\":\"#E5ECF6\",\"gridcolor\":\"white\",\"linecolor\":\"white\",\"showbackground\":true,\"ticks\":\"\",\"zerolinecolor\":\"white\",\"gridwidth\":2},\"yaxis\":{\"backgroundcolor\":\"#E5ECF6\",\"gridcolor\":\"white\",\"linecolor\":\"white\",\"showbackground\":true,\"ticks\":\"\",\"zerolinecolor\":\"white\",\"gridwidth\":2},\"zaxis\":{\"backgroundcolor\":\"#E5ECF6\",\"gridcolor\":\"white\",\"linecolor\":\"white\",\"showbackground\":true,\"ticks\":\"\",\"zerolinecolor\":\"white\",\"gridwidth\":2}},\"shapedefaults\":{\"line\":{\"color\":\"#2a3f5f\"}},\"annotationdefaults\":{\"arrowcolor\":\"#2a3f5f\",\"arrowhead\":0,\"arrowwidth\":1},\"geo\":{\"bgcolor\":\"white\",\"landcolor\":\"#E5ECF6\",\"subunitcolor\":\"white\",\"showland\":true,\"showlakes\":true,\"lakecolor\":\"white\"},\"title\":{\"x\":0.05},\"mapbox\":{\"style\":\"light\"}}},\"xaxis\":{\"anchor\":\"y\",\"domain\":[0.0,1.0],\"title\":{\"text\":\"x\"}},\"yaxis\":{\"anchor\":\"x\",\"domain\":[0.0,1.0],\"title\":{\"text\":\"y\"}},\"coloraxis\":{\"colorbar\":{\"title\":{\"text\":\"Cluster\"}},\"colorscale\":[[0.0,\"#0d0887\"],[0.1111111111111111,\"#46039f\"],[0.2222222222222222,\"#7201a8\"],[0.3333333333333333,\"#9c179e\"],[0.4444444444444444,\"#bd3786\"],[0.5555555555555556,\"#d8576b\"],[0.6666666666666666,\"#ed7953\"],[0.7777777777777778,\"#fb9f3a\"],[0.8888888888888888,\"#fdca26\"],[1.0,\"#f0f921\"]]},\"legend\":{\"tracegroupgap\":0},\"title\":{\"text\":\"Food App Reviews 2D Embeddings\"},\"height\":600,\"width\":800,\"plot_bgcolor\":\"white\"},                        {\"responsive\": true}                    ).then(function(){\n",
       "                            \n",
       "var gd = document.getElementById('4e69723c-4efe-4ba3-881a-07cb2a8f55df');\n",
       "var x = new MutationObserver(function (mutations, observer) {{\n",
       "        var display = window.getComputedStyle(gd).display;\n",
       "        if (!display || display === 'none') {{\n",
       "            console.log([gd, 'removed!']);\n",
       "            Plotly.purge(gd);\n",
       "            observer.disconnect();\n",
       "        }}\n",
       "}});\n",
       "\n",
       "// Listen for the removal of the full notebook cells\n",
       "var notebookContainer = gd.closest('#notebook-container');\n",
       "if (notebookContainer) {{\n",
       "    x.observe(notebookContainer, {childList: true});\n",
       "}}\n",
       "\n",
       "// Listen for the clearing of the current output cell\n",
       "var outputEl = gd.closest('.output');\n",
       "if (outputEl) {{\n",
       "    x.observe(outputEl, {childList: true});\n",
       "}}\n",
       "\n",
       "                        })                };                            </script>        </div>\n",
       "</body>\n",
       "</html>"
      ]
     },
     "metadata": {},
     "output_type": "display_data"
    }
   ],
   "source": [
    "import plotly.express as px\n",
    "\n",
    "# Create a DataFrame for the data\n",
    "cluster_df = pd.DataFrame({\n",
    "    'x': embeddings_2d[:, 0],\n",
    "    'y': embeddings_2d[:, 1],\n",
    "    'label': cluster_labels,\n",
    "    'sentence': data['Review']\n",
    "})\n",
    "\n",
    "# Create an interactive scatter plot using plotly\n",
    "fig = px.scatter(\n",
    "    cluster_df,\n",
    "    x='x', y='y',\n",
    "    color='label',\n",
    "    hover_name='sentence',\n",
    "    title='Food App Reviews 2D Embeddings',\n",
    "    labels={'label': 'Cluster'},\n",
    "    width=800,  # Adjust the width as desired\n",
    "    height=600,  # Adjust the height as desired\n",
    ")\n",
    "\n",
    "fig.update_traces(\n",
    "    marker=dict(size=8)  # Adjust the size value as needed\n",
    ")\n",
    "\n",
    "# Set the background color to black\n",
    "fig.update_layout(\n",
    "    plot_bgcolor='white',\n",
    ")\n",
    "\n",
    "fig.show()"
   ]
  },
  {
   "cell_type": "markdown",
   "metadata": {
    "id": "vivndMm3uo5-"
   },
   "source": [
    "3D Embeddings"
   ]
  },
  {
   "cell_type": "code",
   "execution_count": 96,
   "metadata": {
    "id": "s-WX6IqpuU1J"
   },
   "outputs": [],
   "source": [
    "# Reduce dimensionality to 3 dimensions with UMAP\n",
    "\n",
    "reducer = UMAP(n_components=3, metric='cosine')\n",
    "embeddings_3d = reducer.fit_transform(embeddings)"
   ]
  },
  {
   "cell_type": "code",
   "execution_count": 97,
   "metadata": {
    "colab": {
     "base_uri": "https://localhost:8080/"
    },
    "id": "nLd04VCIuuQ8",
    "outputId": "6f640239-e0d2-4a57-a8ef-ac43ef047cc7"
   },
   "outputs": [
    {
     "name": "stderr",
     "output_type": "stream",
     "text": [
      "/usr/local/lib/python3.10/dist-packages/sklearn/cluster/_kmeans.py:870: FutureWarning:\n",
      "\n",
      "The default value of `n_init` will change from 10 to 'auto' in 1.4. Set the value of `n_init` explicitly to suppress the warning\n",
      "\n"
     ]
    }
   ],
   "source": [
    "# Apply K-means clustering\n",
    "num_clusters = 3\n",
    "kmeans = KMeans(n_clusters=num_clusters)\n",
    "cluster_labels = kmeans.fit_predict(embeddings)"
   ]
  },
  {
   "cell_type": "code",
   "execution_count": 98,
   "metadata": {
    "id": "0Rr4NDW4uxrb"
   },
   "outputs": [],
   "source": [
    "# Add cluster labels as a new column to the DataFrame\n",
    "data['cluster_label'] = cluster_labels"
   ]
  },
  {
   "cell_type": "code",
   "execution_count": 99,
   "metadata": {
    "colab": {
     "base_uri": "https://localhost:8080/",
     "height": 363
    },
    "id": "4wFlGYOXuzPh",
    "outputId": "0797c47b-0a7b-4fd3-9e01-5a3fdc169b80"
   },
   "outputs": [
    {
     "data": {
      "text/html": [
       "\n",
       "  <div id=\"df-8a0ccbb7-c7b7-4eb7-a9c6-55bc7a2727a9\" class=\"colab-df-container\">\n",
       "    <div>\n",
       "<style scoped>\n",
       "    .dataframe tbody tr th:only-of-type {\n",
       "        vertical-align: middle;\n",
       "    }\n",
       "\n",
       "    .dataframe tbody tr th {\n",
       "        vertical-align: top;\n",
       "    }\n",
       "\n",
       "    .dataframe thead th {\n",
       "        text-align: right;\n",
       "    }\n",
       "</style>\n",
       "<table border=\"1\" class=\"dataframe\">\n",
       "  <thead>\n",
       "    <tr style=\"text-align: right;\">\n",
       "      <th></th>\n",
       "      <th>Review</th>\n",
       "      <th>cluster_label</th>\n",
       "    </tr>\n",
       "  </thead>\n",
       "  <tbody>\n",
       "    <tr>\n",
       "      <th>0</th>\n",
       "      <td>Delivery was faster than a ninja on caffeine. ...</td>\n",
       "      <td>1</td>\n",
       "    </tr>\n",
       "    <tr>\n",
       "      <th>1</th>\n",
       "      <td>Im pretty sure they had a wall made of recycle...</td>\n",
       "      <td>0</td>\n",
       "    </tr>\n",
       "    <tr>\n",
       "      <th>2</th>\n",
       "      <td>Dude Im not even mad they were late. Food arri...</td>\n",
       "      <td>1</td>\n",
       "    </tr>\n",
       "    <tr>\n",
       "      <th>3</th>\n",
       "      <td>Chhole bhature yaar! Sunday indulgence crispy ...</td>\n",
       "      <td>2</td>\n",
       "    </tr>\n",
       "    <tr>\n",
       "      <th>4</th>\n",
       "      <td>The place had a vibe but I cant quite put my f...</td>\n",
       "      <td>0</td>\n",
       "    </tr>\n",
       "    <tr>\n",
       "      <th>5</th>\n",
       "      <td>Hakka noodles FTW! Desi-Chinese fusion for life.</td>\n",
       "      <td>2</td>\n",
       "    </tr>\n",
       "    <tr>\n",
       "      <th>6</th>\n",
       "      <td>Pasta was alright yaar. More masala couldve ma...</td>\n",
       "      <td>2</td>\n",
       "    </tr>\n",
       "    <tr>\n",
       "      <th>7</th>\n",
       "      <td>Im telling you it was like stepping into the f...</td>\n",
       "      <td>0</td>\n",
       "    </tr>\n",
       "    <tr>\n",
       "      <th>8</th>\n",
       "      <td>I was starving but the food came faster than I...</td>\n",
       "      <td>1</td>\n",
       "    </tr>\n",
       "    <tr>\n",
       "      <th>9</th>\n",
       "      <td>Burgers are my jam but this one was kinda meh....</td>\n",
       "      <td>1</td>\n",
       "    </tr>\n",
       "  </tbody>\n",
       "</table>\n",
       "</div>\n",
       "    <div class=\"colab-df-buttons\">\n",
       "\n",
       "  <div class=\"colab-df-container\">\n",
       "    <button class=\"colab-df-convert\" onclick=\"convertToInteractive('df-8a0ccbb7-c7b7-4eb7-a9c6-55bc7a2727a9')\"\n",
       "            title=\"Convert this dataframe to an interactive table.\"\n",
       "            style=\"display:none;\">\n",
       "\n",
       "  <svg xmlns=\"http://www.w3.org/2000/svg\" height=\"24px\" viewBox=\"0 -960 960 960\">\n",
       "    <path d=\"M120-120v-720h720v720H120Zm60-500h600v-160H180v160Zm220 220h160v-160H400v160Zm0 220h160v-160H400v160ZM180-400h160v-160H180v160Zm440 0h160v-160H620v160ZM180-180h160v-160H180v160Zm440 0h160v-160H620v160Z\"/>\n",
       "  </svg>\n",
       "    </button>\n",
       "\n",
       "  <style>\n",
       "    .colab-df-container {\n",
       "      display:flex;\n",
       "      gap: 12px;\n",
       "    }\n",
       "\n",
       "    .colab-df-convert {\n",
       "      background-color: #E8F0FE;\n",
       "      border: none;\n",
       "      border-radius: 50%;\n",
       "      cursor: pointer;\n",
       "      display: none;\n",
       "      fill: #1967D2;\n",
       "      height: 32px;\n",
       "      padding: 0 0 0 0;\n",
       "      width: 32px;\n",
       "    }\n",
       "\n",
       "    .colab-df-convert:hover {\n",
       "      background-color: #E2EBFA;\n",
       "      box-shadow: 0px 1px 2px rgba(60, 64, 67, 0.3), 0px 1px 3px 1px rgba(60, 64, 67, 0.15);\n",
       "      fill: #174EA6;\n",
       "    }\n",
       "\n",
       "    .colab-df-buttons div {\n",
       "      margin-bottom: 4px;\n",
       "    }\n",
       "\n",
       "    [theme=dark] .colab-df-convert {\n",
       "      background-color: #3B4455;\n",
       "      fill: #D2E3FC;\n",
       "    }\n",
       "\n",
       "    [theme=dark] .colab-df-convert:hover {\n",
       "      background-color: #434B5C;\n",
       "      box-shadow: 0px 1px 3px 1px rgba(0, 0, 0, 0.15);\n",
       "      filter: drop-shadow(0px 1px 2px rgba(0, 0, 0, 0.3));\n",
       "      fill: #FFFFFF;\n",
       "    }\n",
       "  </style>\n",
       "\n",
       "    <script>\n",
       "      const buttonEl =\n",
       "        document.querySelector('#df-8a0ccbb7-c7b7-4eb7-a9c6-55bc7a2727a9 button.colab-df-convert');\n",
       "      buttonEl.style.display =\n",
       "        google.colab.kernel.accessAllowed ? 'block' : 'none';\n",
       "\n",
       "      async function convertToInteractive(key) {\n",
       "        const element = document.querySelector('#df-8a0ccbb7-c7b7-4eb7-a9c6-55bc7a2727a9');\n",
       "        const dataTable =\n",
       "          await google.colab.kernel.invokeFunction('convertToInteractive',\n",
       "                                                    [key], {});\n",
       "        if (!dataTable) return;\n",
       "\n",
       "        const docLinkHtml = 'Like what you see? Visit the ' +\n",
       "          '<a target=\"_blank\" href=https://colab.research.google.com/notebooks/data_table.ipynb>data table notebook</a>'\n",
       "          + ' to learn more about interactive tables.';\n",
       "        element.innerHTML = '';\n",
       "        dataTable['output_type'] = 'display_data';\n",
       "        await google.colab.output.renderOutput(dataTable, element);\n",
       "        const docLink = document.createElement('div');\n",
       "        docLink.innerHTML = docLinkHtml;\n",
       "        element.appendChild(docLink);\n",
       "      }\n",
       "    </script>\n",
       "  </div>\n",
       "\n",
       "\n",
       "<div id=\"df-7553e0ad-b50d-41d3-81a4-89c486ae2523\">\n",
       "  <button class=\"colab-df-quickchart\" onclick=\"quickchart('df-7553e0ad-b50d-41d3-81a4-89c486ae2523')\"\n",
       "            title=\"Suggest charts.\"\n",
       "            style=\"display:none;\">\n",
       "\n",
       "<svg xmlns=\"http://www.w3.org/2000/svg\" height=\"24px\"viewBox=\"0 0 24 24\"\n",
       "     width=\"24px\">\n",
       "    <g>\n",
       "        <path d=\"M19 3H5c-1.1 0-2 .9-2 2v14c0 1.1.9 2 2 2h14c1.1 0 2-.9 2-2V5c0-1.1-.9-2-2-2zM9 17H7v-7h2v7zm4 0h-2V7h2v10zm4 0h-2v-4h2v4z\"/>\n",
       "    </g>\n",
       "</svg>\n",
       "  </button>\n",
       "\n",
       "<style>\n",
       "  .colab-df-quickchart {\n",
       "      --bg-color: #E8F0FE;\n",
       "      --fill-color: #1967D2;\n",
       "      --hover-bg-color: #E2EBFA;\n",
       "      --hover-fill-color: #174EA6;\n",
       "      --disabled-fill-color: #AAA;\n",
       "      --disabled-bg-color: #DDD;\n",
       "  }\n",
       "\n",
       "  [theme=dark] .colab-df-quickchart {\n",
       "      --bg-color: #3B4455;\n",
       "      --fill-color: #D2E3FC;\n",
       "      --hover-bg-color: #434B5C;\n",
       "      --hover-fill-color: #FFFFFF;\n",
       "      --disabled-bg-color: #3B4455;\n",
       "      --disabled-fill-color: #666;\n",
       "  }\n",
       "\n",
       "  .colab-df-quickchart {\n",
       "    background-color: var(--bg-color);\n",
       "    border: none;\n",
       "    border-radius: 50%;\n",
       "    cursor: pointer;\n",
       "    display: none;\n",
       "    fill: var(--fill-color);\n",
       "    height: 32px;\n",
       "    padding: 0;\n",
       "    width: 32px;\n",
       "  }\n",
       "\n",
       "  .colab-df-quickchart:hover {\n",
       "    background-color: var(--hover-bg-color);\n",
       "    box-shadow: 0 1px 2px rgba(60, 64, 67, 0.3), 0 1px 3px 1px rgba(60, 64, 67, 0.15);\n",
       "    fill: var(--button-hover-fill-color);\n",
       "  }\n",
       "\n",
       "  .colab-df-quickchart-complete:disabled,\n",
       "  .colab-df-quickchart-complete:disabled:hover {\n",
       "    background-color: var(--disabled-bg-color);\n",
       "    fill: var(--disabled-fill-color);\n",
       "    box-shadow: none;\n",
       "  }\n",
       "\n",
       "  .colab-df-spinner {\n",
       "    border: 2px solid var(--fill-color);\n",
       "    border-color: transparent;\n",
       "    border-bottom-color: var(--fill-color);\n",
       "    animation:\n",
       "      spin 1s steps(1) infinite;\n",
       "  }\n",
       "\n",
       "  @keyframes spin {\n",
       "    0% {\n",
       "      border-color: transparent;\n",
       "      border-bottom-color: var(--fill-color);\n",
       "      border-left-color: var(--fill-color);\n",
       "    }\n",
       "    20% {\n",
       "      border-color: transparent;\n",
       "      border-left-color: var(--fill-color);\n",
       "      border-top-color: var(--fill-color);\n",
       "    }\n",
       "    30% {\n",
       "      border-color: transparent;\n",
       "      border-left-color: var(--fill-color);\n",
       "      border-top-color: var(--fill-color);\n",
       "      border-right-color: var(--fill-color);\n",
       "    }\n",
       "    40% {\n",
       "      border-color: transparent;\n",
       "      border-right-color: var(--fill-color);\n",
       "      border-top-color: var(--fill-color);\n",
       "    }\n",
       "    60% {\n",
       "      border-color: transparent;\n",
       "      border-right-color: var(--fill-color);\n",
       "    }\n",
       "    80% {\n",
       "      border-color: transparent;\n",
       "      border-right-color: var(--fill-color);\n",
       "      border-bottom-color: var(--fill-color);\n",
       "    }\n",
       "    90% {\n",
       "      border-color: transparent;\n",
       "      border-bottom-color: var(--fill-color);\n",
       "    }\n",
       "  }\n",
       "</style>\n",
       "\n",
       "  <script>\n",
       "    async function quickchart(key) {\n",
       "      const quickchartButtonEl =\n",
       "        document.querySelector('#' + key + ' button');\n",
       "      quickchartButtonEl.disabled = true;  // To prevent multiple clicks.\n",
       "      quickchartButtonEl.classList.add('colab-df-spinner');\n",
       "      try {\n",
       "        const charts = await google.colab.kernel.invokeFunction(\n",
       "            'suggestCharts', [key], {});\n",
       "      } catch (error) {\n",
       "        console.error('Error during call to suggestCharts:', error);\n",
       "      }\n",
       "      quickchartButtonEl.classList.remove('colab-df-spinner');\n",
       "      quickchartButtonEl.classList.add('colab-df-quickchart-complete');\n",
       "    }\n",
       "    (() => {\n",
       "      let quickchartButtonEl =\n",
       "        document.querySelector('#df-7553e0ad-b50d-41d3-81a4-89c486ae2523 button');\n",
       "      quickchartButtonEl.style.display =\n",
       "        google.colab.kernel.accessAllowed ? 'block' : 'none';\n",
       "    })();\n",
       "  </script>\n",
       "</div>\n",
       "    </div>\n",
       "  </div>\n"
      ],
      "text/plain": [
       "                                              Review  cluster_label\n",
       "0  Delivery was faster than a ninja on caffeine. ...              1\n",
       "1  Im pretty sure they had a wall made of recycle...              0\n",
       "2  Dude Im not even mad they were late. Food arri...              1\n",
       "3  Chhole bhature yaar! Sunday indulgence crispy ...              2\n",
       "4  The place had a vibe but I cant quite put my f...              0\n",
       "5   Hakka noodles FTW! Desi-Chinese fusion for life.              2\n",
       "6  Pasta was alright yaar. More masala couldve ma...              2\n",
       "7  Im telling you it was like stepping into the f...              0\n",
       "8  I was starving but the food came faster than I...              1\n",
       "9  Burgers are my jam but this one was kinda meh....              1"
      ]
     },
     "execution_count": 99,
     "metadata": {},
     "output_type": "execute_result"
    }
   ],
   "source": [
    "data[:10]"
   ]
  },
  {
   "cell_type": "code",
   "execution_count": 100,
   "metadata": {
    "colab": {
     "base_uri": "https://localhost:8080/",
     "height": 542
    },
    "id": "Z6c10moQu0_r",
    "outputId": "c946e752-bdfd-428d-c9e4-6655bfd82aeb"
   },
   "outputs": [
    {
     "data": {
      "text/html": [
       "<html>\n",
       "<head><meta charset=\"utf-8\" /></head>\n",
       "<body>\n",
       "    <div>            <script src=\"https://cdnjs.cloudflare.com/ajax/libs/mathjax/2.7.5/MathJax.js?config=TeX-AMS-MML_SVG\"></script><script type=\"text/javascript\">if (window.MathJax && window.MathJax.Hub && window.MathJax.Hub.Config) {window.MathJax.Hub.Config({SVG: {font: \"STIX-Web\"}});}</script>                <script type=\"text/javascript\">window.PlotlyConfig = {MathJaxConfig: 'local'};</script>\n",
       "        <script charset=\"utf-8\" src=\"https://cdn.plot.ly/plotly-2.24.1.min.js\"></script>                <div id=\"316668d4-4a33-45b2-8e0e-1d7c5593c43b\" class=\"plotly-graph-div\" style=\"height:525px; width:100%;\"></div>            <script type=\"text/javascript\">                                    window.PLOTLYENV=window.PLOTLYENV || {};                                    if (document.getElementById(\"316668d4-4a33-45b2-8e0e-1d7c5593c43b\")) {                    Plotly.newPlot(                        \"316668d4-4a33-45b2-8e0e-1d7c5593c43b\",                        [{\"hovertemplate\":\"\\u003cb\\u003e%{hovertext}\\u003c\\u002fb\\u003e\\u003cbr\\u003e\\u003cbr\\u003ex=%{x}\\u003cbr\\u003ey=%{y}\\u003cbr\\u003ez=%{z}\\u003cbr\\u003eCluster=%{marker.color}\\u003cextra\\u003e\\u003c\\u002fextra\\u003e\",\"hovertext\":[\"Delivery was faster than a ninja on caffeine. Im ready to chow down!\",\"Im pretty sure they had a wall made of recycled cans. Or was it shoes?\",\"Dude Im not even mad they were late. Food arrived like a surprise party!\",\"Chhole bhature yaar! Sunday indulgence crispy bhature FTW.\",\"The place had a vibe but I cant quite put my finger on it. Hipster? Unicorn?\",\"Hakka noodles FTW! Desi-Chinese fusion for life.\",\"Pasta was alright yaar. More masala couldve made it sing.\",\"Im telling you it was like stepping into the future. Or was it the 90s?\",\"I was starving but the food came faster than I could say hangry. Good stuff.\",\"Burgers are my jam but this one was kinda meh. Needed more zing.\",\"Sushi was like a flavor adventure. Mini party in my mouth.\",\"Dude there was like this mural on the wall. It was a cat no wait a panda?\",\"Got the delivery. Ate some. Not bad.\",\"Delivery was like chillin in slow-mo. Ive aged at least a year waiting.\",\"cheesy nirvana bro. Cheese everywhere happy tummy.\",\"Yo they delivered my grub so fast I barely had time to blink. Legendary speed!\",\"Greek salad? Healthy vibes but missing that masala.\",\"Chole kulche vibes dude. Spicy chickpeas fluffy kulche \\u2013 love it.\",\"I walked in and thought This is it this is the place. But what it was no clue.\",\"Im convinced they use teleportation for deliveries. Thats some next-level speed.\",\"Pani puri for life man! Tangy spicy street food love.\",\"Samosas were like little pockets of happiness. Spicy and crispy da best.\",\"I stepped in and was hit by a wall of like smells. Could be food could be candles.\",\"Food took so long I had time to write a novel about my hunger. Not amused.\",\"Delivery guy came. Food happened. Average.\",\"Okay there was like this fountain thingy. Was it water? Im not sure man.\",\"Pizza was meh dude. Missing that desi twist ya know?\",\"Burgers are life but this one was a bit blah. Needed more oomph.\",\"I saw like a disco ball? But it wasnt a disco place. Or maybe it was? Huh.\",\"Samosas were like little packets of joy. Crunchy spicy awesome.\",\"So like the place was you know kinda nice? There were like lights and stuff.\",\"Ugh the samosas I got were meh. So dry and bland yaar.\",\"Meaty and dreamy.\",\"BBQ ribs? Finger-lickin good bruh. Sauce everywhere!\",\"Food arrived fashionably late but at least Im full now. Late-night munchies sorted.\",\"Paneer dosa? Desi breakfast goals achieved bruh.\",\"Mac n cheese dude! Ultimate comfort food vibes.\",\"Dude that butter chicken was like BOOM! My mouth is still partying.\",\"Pav bhaji vibes yaar. Tangy spicy Mumbai street food bliss.\",\"Biryani was a flavor explosion bruh. Spices doing a happy dance.\",\"Biryani was a flavor bomb bro. Spices going wild taste buds dancing.\",\"Paneer tikka masala was lit bro! Creamy spicy yaaas.\",\"Kaju katli fam! Diwali mode: on. Sweet nutty divine.\",\"Delivery happened. I ate. Nothing special.\",\"Alright it was dimly lit like a vampire hangout. But like in a cool way.\",\"Ordered some grub. Ate it all. Alright.\",\"I think they tried to be fancy? There were chandeliers and stuff maybe even gold.\",\"Avo toast? Overrated AF. Just smashed avo on bread like really?\",\"The ambiance was like woah eclectic. I spotted like three different wallpapers.\",\"Samosas fam! Spicy crunchy ultimate comfort food.\",\"Received the order. Had a bite. So-so.\",\"Paneer tikka rolls? Fast food love desi style. Tummy happy.\",\"Biryani was a spice parade yaar. Spices were dancing in my mouth.\",\"Pasta was okay bro. Needed more masala Italian-style desi.\",\"Kadai paneer? Spices level: awesome. Paneer power!\",\"Paneer tikka rolls? Fast food dreams coming true dude.\",\"Tacos were meh ya know? Needed more spice and awesomeness.\",\"There were like waiters in bowties? Or were they clowns? My memorys blurry.\",\"Yo this place was like a whole aesthetic like an art gallery for food or whatever.\",\"Food got here just in time to save me from becoming a hangry monster. Phew!\",\"Didn't get it on time. Very cold food.\",\"Pizza finally got here. Took longer than a sloth running a marathon. Not cool.\",\"Food arrived. I ate. It was okay.\",\"Pasta was okay fam. Needed more masala for desi twist.\",\"So the lighting was like mood lighting but also like regular lighting. Ambiguous.\",\"Sushi was an interesting ride. Sushi samosas anyone?\",\"Biryani was legit da bomb! Spices were like hello flavor town.\",\"Pasta was aight dude. Needed more masala for desi charm.\",\"Ate a snack while waiting for the delivery. And another. And another. You get it.\",\"Ordered then binged a whole show and still no food. Whats the point though?\",\"Pizza was good man. More cheese wouldve been epic though.\",\"I think the delivery person went sightseeing before dropping off my order. So slow.\",\"Pav bhaji was like a party in my mouth. Spicy tangy perfection.\",\"Okay picture this: plants everywhere. Or were they just fake? Hard to say man.\",\"Philly cheesesteak? Cheesy coma bro. Napped like a boss.\",\"Got my order. Ate. Generic stuff.\",\"Okay so they said 30 minutes but I couldve baked a cake in that time. Seriously?\",\"Their delivery game is on point. Food got here quicker than I can say hangry.\",\"I ordered then took a nap and boom foods here. Not sure if thats good or bad.\",\"Pav bhaji was like a flavor explosion dude. Street food awesomeness.\",\"Panipuri was quite horrible. I threw up an hour later.\",\"I was expecting a food coma by now but nope still waiting. Not cool guys.\",\"I felt like I was in a movie you know? Like a rom-com but with more chairs.\",\"Chicken tikka rolls? Fast food heaven right in my mouth.\",\"Ugh they made me wait so long that I aged like 10 years. Food better be worth it.\",\"The vada pav was like feels all over my mouth.\",\"Ramen vibes man. Slurping noodles like a boss college days all over.\",\"Pav bhaji vibes man. Spicy tangy street food at home.\",\"Waiting for the delivery was like watching paint dry. The food better be divine.\",\"Paneer tikka rolls? Desi fast food love every bite a party.\",\"I went in and like felt vibes man. The vibes were like totally vibing.\",\"The delivery was like supersonic fast. I was impressed and my tummys happy.\",\"Biryani game strong fam! Inhaled it faster than my WiFi.\",\"I blinked and the food magically appeared. Not really but they were fast yo!\",\"Dude the joint had like music but I cant remember if it was like jazz or EDM.\",\"Biryani was the flavor hero yaar. Spices were popping party in my mouth.\",\"Food arrived. I had a taste. Pretty standard.\",\"Food was delivered. I ate. Cant complain.\",\"Bao buns? Fluffy clouds of yum. Im in bao heaven.\",\"Ugh it was so cozy you wouldnt believe. I mean they had chairs and tables.\",\"Ordered food. Ate it. Meh.\"],\"legendgroup\":\"\",\"marker\":{\"color\":[1,0,1,2,0,2,2,0,1,1,2,0,1,1,2,1,2,2,0,1,2,2,0,1,1,0,2,1,0,2,0,2,1,2,1,2,2,2,2,2,2,2,2,1,0,1,0,2,0,2,1,2,2,2,2,2,2,0,0,1,1,1,1,2,0,2,2,2,1,1,1,1,2,0,2,1,1,1,1,2,2,1,0,2,1,2,2,2,1,2,0,1,2,1,0,2,1,1,2,0,1],\"coloraxis\":\"coloraxis\",\"symbol\":\"circle\",\"size\":5},\"mode\":\"markers\",\"name\":\"\",\"scene\":\"scene\",\"showlegend\":false,\"x\":[5.878195762634277,7.463420867919922,6.555730819702148,7.107394695281982,7.728681564331055,7.503497123718262,8.100166320800781,7.995787620544434,6.427307605743408,6.733465671539307,6.691929817199707,7.2306928634643555,6.2354655265808105,5.652776718139648,6.840816497802734,6.169709205627441,7.9004645347595215,7.037508010864258,7.649026870727539,5.835830211639404,7.318325042724609,6.72996187210083,6.970976829528809,6.3864970207214355,6.357620716094971,7.483248233795166,7.481973648071289,6.643022537231445,7.95361328125,6.614058017730713,7.613039016723633,6.904405117034912,6.482667446136475,6.808537006378174,6.359891414642334,7.5626444816589355,6.632046699523926,6.850468635559082,6.825206279754639,6.647027969360352,6.685990810394287,7.243622779846191,7.142663955688477,5.96910285949707,7.829357624053955,6.674655914306641,7.531375408172607,7.0095977783203125,7.238997459411621,7.026506423950195,6.572380065917969,7.505397319793701,6.835017204284668,7.911826133728027,7.480921268463135,7.2135009765625,6.458433151245117,7.717269420623779,7.401056289672852,6.537209510803223,6.265413284301758,7.013548851013184,6.708633899688721,7.947460174560547,7.809485912322998,6.775325775146484,6.885699272155762,8.108856201171875,6.14132022857666,6.790454387664795,7.111705780029297,5.830231666564941,6.517867565155029,7.360441207885742,7.050963401794434,6.835455894470215,6.372708320617676,6.040779113769531,6.445703983306885,6.64154052734375,7.677092552185059,5.96071720123291,7.885778903961182,7.192868232727051,6.5979108810424805,6.402801513671875,6.840849876403809,6.60654878616333,5.771443843841553,7.291845321655273,8.026154518127441,5.6920061111450195,6.760962963104248,6.772383213043213,8.0794038772583,6.6759514808654785,6.766029357910156,6.398318767547607,7.420860290527344,7.711153984069824,6.989248275756836],\"y\":[10.434001922607422,11.53061294555664,9.629568099975586,5.886717796325684,11.317203521728516,6.760653972625732,7.753093719482422,11.051751136779785,10.055438041687012,8.458965301513672,6.0753960609436035,11.870553970336914,10.316554069519043,10.615843772888184,7.54508113861084,10.804752349853516,7.614471435546875,6.258159160614014,11.679347038269043,10.825058937072754,5.9763360023498535,6.611105442047119,10.238964080810547,10.138952255249023,10.102048873901367,11.999313354492188,8.326661109924316,8.822189331054688,11.534615516662598,6.7961273193359375,11.710049629211426,6.532311916351318,9.051101684570312,7.106123447418213,10.087688446044922,6.220547676086426,7.750908851623535,7.374456882476807,5.685940742492676,5.301192283630371,5.1924147605896,6.186402320861816,5.721674919128418,10.046377182006836,11.70492935180664,10.647335052490234,11.446224212646484,6.944955825805664,11.568284034729004,6.65531063079834,10.332987785339355,6.419991970062256,5.406071662902832,7.533872604370117,5.984169960021973,6.448357582092285,7.088620185852051,11.25553035736084,11.458694458007812,9.872403144836426,9.876058578491211,8.99588394165039,10.170957565307617,7.776901721954346,11.727962493896484,6.430246829986572,5.034632682800293,7.8231520652771,10.099376678466797,10.63261890411377,8.44630241394043,10.82931137084961,5.810100078582764,11.950043678283691,7.91248893737793,10.3773775100708,9.871516227722168,10.393270492553711,10.626644134521484,5.653608322143555,5.9890007972717285,9.737133026123047,10.943404197692871,6.722245216369629,10.614544868469238,5.733733177185059,6.7734575271606445,6.087167739868164,10.30846118927002,6.4844207763671875,11.287859916687012,10.373294830322266,5.100683689117432,10.31244945526123,11.215690612792969,5.043095588684082,9.952876091003418,10.400310516357422,6.6394147872924805,11.134833335876465,10.526729583740234],\"z\":[-1.2448054552078247,3.1180474758148193,-0.5378902554512024,-1.154497742652893,3.704638719558716,-1.5539578199386597,-1.1926801204681396,3.661696195602417,0.178411602973938,-0.7659139633178711,-0.09257862716913223,3.6616227626800537,-1.1533863544464111,-1.3502925634384155,-0.6551989316940308,-1.3505271673202515,-1.0033559799194336,-0.9209660887718201,3.6383097171783447,-1.2752211093902588,-1.2413818836212158,-0.36750277876853943,-0.30890822410583496,-0.004954665433615446,-1.0454260110855103,3.8080687522888184,-0.8126229643821716,-0.8423681855201721,3.949326753616333,-0.20816777646541595,3.408947229385376,-0.33700963854789734,-0.14414207637310028,-1.2757865190505981,-0.5556384921073914,-1.8928425312042236,-0.7354928851127625,-0.9482112526893616,-0.9514062404632568,-0.006249504163861275,0.05204077810049057,-1.680145263671875,-1.2085684537887573,-0.9833296537399292,3.8560609817504883,-1.4196196794509888,3.3152201175689697,-0.3341692388057709,3.479741096496582,-0.5591174364089966,-1.26142156124115,-1.7781200408935547,0.1292722076177597,-1.257648229598999,-1.6225560903549194,-1.9238731861114502,-0.29290786385536194,3.2792229652404785,3.5676331520080566,0.07055996358394623,-0.3193213641643524,-0.48280611634254456,-1.0375378131866455,-1.1688227653503418,3.583089828491211,-0.07382000982761383,0.08043307811021805,-1.1209901571273804,-1.296436071395874,-0.648955762386322,-0.535818874835968,-1.2662625312805176,-0.6882563829421997,3.3095102310180664,-0.5365616083145142,-1.317931890487671,-0.46911633014678955,-0.21092914044857025,-0.5985207557678223,-0.7187537550926208,-1.3704818487167358,-0.730312705039978,3.462343215942383,-1.7224241495132446,-0.19789095222949982,-0.5012696981430054,-1.1788232326507568,-1.0598136186599731,-0.7755823135375977,-2.080096483230591,4.038930892944336,-1.0558903217315674,-0.04982567951083183,0.0390532948076725,3.8215413093566895,0.2025083750486374,-0.7676617503166199,-0.8615203499794006,-1.2341877222061157,3.099634885787964,-1.1722660064697266],\"type\":\"scatter3d\"}],                        {\"template\":{\"data\":{\"histogram2dcontour\":[{\"type\":\"histogram2dcontour\",\"colorbar\":{\"outlinewidth\":0,\"ticks\":\"\"},\"colorscale\":[[0.0,\"#0d0887\"],[0.1111111111111111,\"#46039f\"],[0.2222222222222222,\"#7201a8\"],[0.3333333333333333,\"#9c179e\"],[0.4444444444444444,\"#bd3786\"],[0.5555555555555556,\"#d8576b\"],[0.6666666666666666,\"#ed7953\"],[0.7777777777777778,\"#fb9f3a\"],[0.8888888888888888,\"#fdca26\"],[1.0,\"#f0f921\"]]}],\"choropleth\":[{\"type\":\"choropleth\",\"colorbar\":{\"outlinewidth\":0,\"ticks\":\"\"}}],\"histogram2d\":[{\"type\":\"histogram2d\",\"colorbar\":{\"outlinewidth\":0,\"ticks\":\"\"},\"colorscale\":[[0.0,\"#0d0887\"],[0.1111111111111111,\"#46039f\"],[0.2222222222222222,\"#7201a8\"],[0.3333333333333333,\"#9c179e\"],[0.4444444444444444,\"#bd3786\"],[0.5555555555555556,\"#d8576b\"],[0.6666666666666666,\"#ed7953\"],[0.7777777777777778,\"#fb9f3a\"],[0.8888888888888888,\"#fdca26\"],[1.0,\"#f0f921\"]]}],\"heatmap\":[{\"type\":\"heatmap\",\"colorbar\":{\"outlinewidth\":0,\"ticks\":\"\"},\"colorscale\":[[0.0,\"#0d0887\"],[0.1111111111111111,\"#46039f\"],[0.2222222222222222,\"#7201a8\"],[0.3333333333333333,\"#9c179e\"],[0.4444444444444444,\"#bd3786\"],[0.5555555555555556,\"#d8576b\"],[0.6666666666666666,\"#ed7953\"],[0.7777777777777778,\"#fb9f3a\"],[0.8888888888888888,\"#fdca26\"],[1.0,\"#f0f921\"]]}],\"heatmapgl\":[{\"type\":\"heatmapgl\",\"colorbar\":{\"outlinewidth\":0,\"ticks\":\"\"},\"colorscale\":[[0.0,\"#0d0887\"],[0.1111111111111111,\"#46039f\"],[0.2222222222222222,\"#7201a8\"],[0.3333333333333333,\"#9c179e\"],[0.4444444444444444,\"#bd3786\"],[0.5555555555555556,\"#d8576b\"],[0.6666666666666666,\"#ed7953\"],[0.7777777777777778,\"#fb9f3a\"],[0.8888888888888888,\"#fdca26\"],[1.0,\"#f0f921\"]]}],\"contourcarpet\":[{\"type\":\"contourcarpet\",\"colorbar\":{\"outlinewidth\":0,\"ticks\":\"\"}}],\"contour\":[{\"type\":\"contour\",\"colorbar\":{\"outlinewidth\":0,\"ticks\":\"\"},\"colorscale\":[[0.0,\"#0d0887\"],[0.1111111111111111,\"#46039f\"],[0.2222222222222222,\"#7201a8\"],[0.3333333333333333,\"#9c179e\"],[0.4444444444444444,\"#bd3786\"],[0.5555555555555556,\"#d8576b\"],[0.6666666666666666,\"#ed7953\"],[0.7777777777777778,\"#fb9f3a\"],[0.8888888888888888,\"#fdca26\"],[1.0,\"#f0f921\"]]}],\"surface\":[{\"type\":\"surface\",\"colorbar\":{\"outlinewidth\":0,\"ticks\":\"\"},\"colorscale\":[[0.0,\"#0d0887\"],[0.1111111111111111,\"#46039f\"],[0.2222222222222222,\"#7201a8\"],[0.3333333333333333,\"#9c179e\"],[0.4444444444444444,\"#bd3786\"],[0.5555555555555556,\"#d8576b\"],[0.6666666666666666,\"#ed7953\"],[0.7777777777777778,\"#fb9f3a\"],[0.8888888888888888,\"#fdca26\"],[1.0,\"#f0f921\"]]}],\"mesh3d\":[{\"type\":\"mesh3d\",\"colorbar\":{\"outlinewidth\":0,\"ticks\":\"\"}}],\"scatter\":[{\"fillpattern\":{\"fillmode\":\"overlay\",\"size\":10,\"solidity\":0.2},\"type\":\"scatter\"}],\"parcoords\":[{\"type\":\"parcoords\",\"line\":{\"colorbar\":{\"outlinewidth\":0,\"ticks\":\"\"}}}],\"scatterpolargl\":[{\"type\":\"scatterpolargl\",\"marker\":{\"colorbar\":{\"outlinewidth\":0,\"ticks\":\"\"}}}],\"bar\":[{\"error_x\":{\"color\":\"#2a3f5f\"},\"error_y\":{\"color\":\"#2a3f5f\"},\"marker\":{\"line\":{\"color\":\"#E5ECF6\",\"width\":0.5},\"pattern\":{\"fillmode\":\"overlay\",\"size\":10,\"solidity\":0.2}},\"type\":\"bar\"}],\"scattergeo\":[{\"type\":\"scattergeo\",\"marker\":{\"colorbar\":{\"outlinewidth\":0,\"ticks\":\"\"}}}],\"scatterpolar\":[{\"type\":\"scatterpolar\",\"marker\":{\"colorbar\":{\"outlinewidth\":0,\"ticks\":\"\"}}}],\"histogram\":[{\"marker\":{\"pattern\":{\"fillmode\":\"overlay\",\"size\":10,\"solidity\":0.2}},\"type\":\"histogram\"}],\"scattergl\":[{\"type\":\"scattergl\",\"marker\":{\"colorbar\":{\"outlinewidth\":0,\"ticks\":\"\"}}}],\"scatter3d\":[{\"type\":\"scatter3d\",\"line\":{\"colorbar\":{\"outlinewidth\":0,\"ticks\":\"\"}},\"marker\":{\"colorbar\":{\"outlinewidth\":0,\"ticks\":\"\"}}}],\"scattermapbox\":[{\"type\":\"scattermapbox\",\"marker\":{\"colorbar\":{\"outlinewidth\":0,\"ticks\":\"\"}}}],\"scatterternary\":[{\"type\":\"scatterternary\",\"marker\":{\"colorbar\":{\"outlinewidth\":0,\"ticks\":\"\"}}}],\"scattercarpet\":[{\"type\":\"scattercarpet\",\"marker\":{\"colorbar\":{\"outlinewidth\":0,\"ticks\":\"\"}}}],\"carpet\":[{\"aaxis\":{\"endlinecolor\":\"#2a3f5f\",\"gridcolor\":\"white\",\"linecolor\":\"white\",\"minorgridcolor\":\"white\",\"startlinecolor\":\"#2a3f5f\"},\"baxis\":{\"endlinecolor\":\"#2a3f5f\",\"gridcolor\":\"white\",\"linecolor\":\"white\",\"minorgridcolor\":\"white\",\"startlinecolor\":\"#2a3f5f\"},\"type\":\"carpet\"}],\"table\":[{\"cells\":{\"fill\":{\"color\":\"#EBF0F8\"},\"line\":{\"color\":\"white\"}},\"header\":{\"fill\":{\"color\":\"#C8D4E3\"},\"line\":{\"color\":\"white\"}},\"type\":\"table\"}],\"barpolar\":[{\"marker\":{\"line\":{\"color\":\"#E5ECF6\",\"width\":0.5},\"pattern\":{\"fillmode\":\"overlay\",\"size\":10,\"solidity\":0.2}},\"type\":\"barpolar\"}],\"pie\":[{\"automargin\":true,\"type\":\"pie\"}]},\"layout\":{\"autotypenumbers\":\"strict\",\"colorway\":[\"#636efa\",\"#EF553B\",\"#00cc96\",\"#ab63fa\",\"#FFA15A\",\"#19d3f3\",\"#FF6692\",\"#B6E880\",\"#FF97FF\",\"#FECB52\"],\"font\":{\"color\":\"#2a3f5f\"},\"hovermode\":\"closest\",\"hoverlabel\":{\"align\":\"left\"},\"paper_bgcolor\":\"white\",\"plot_bgcolor\":\"#E5ECF6\",\"polar\":{\"bgcolor\":\"#E5ECF6\",\"angularaxis\":{\"gridcolor\":\"white\",\"linecolor\":\"white\",\"ticks\":\"\"},\"radialaxis\":{\"gridcolor\":\"white\",\"linecolor\":\"white\",\"ticks\":\"\"}},\"ternary\":{\"bgcolor\":\"#E5ECF6\",\"aaxis\":{\"gridcolor\":\"white\",\"linecolor\":\"white\",\"ticks\":\"\"},\"baxis\":{\"gridcolor\":\"white\",\"linecolor\":\"white\",\"ticks\":\"\"},\"caxis\":{\"gridcolor\":\"white\",\"linecolor\":\"white\",\"ticks\":\"\"}},\"coloraxis\":{\"colorbar\":{\"outlinewidth\":0,\"ticks\":\"\"}},\"colorscale\":{\"sequential\":[[0.0,\"#0d0887\"],[0.1111111111111111,\"#46039f\"],[0.2222222222222222,\"#7201a8\"],[0.3333333333333333,\"#9c179e\"],[0.4444444444444444,\"#bd3786\"],[0.5555555555555556,\"#d8576b\"],[0.6666666666666666,\"#ed7953\"],[0.7777777777777778,\"#fb9f3a\"],[0.8888888888888888,\"#fdca26\"],[1.0,\"#f0f921\"]],\"sequentialminus\":[[0.0,\"#0d0887\"],[0.1111111111111111,\"#46039f\"],[0.2222222222222222,\"#7201a8\"],[0.3333333333333333,\"#9c179e\"],[0.4444444444444444,\"#bd3786\"],[0.5555555555555556,\"#d8576b\"],[0.6666666666666666,\"#ed7953\"],[0.7777777777777778,\"#fb9f3a\"],[0.8888888888888888,\"#fdca26\"],[1.0,\"#f0f921\"]],\"diverging\":[[0,\"#8e0152\"],[0.1,\"#c51b7d\"],[0.2,\"#de77ae\"],[0.3,\"#f1b6da\"],[0.4,\"#fde0ef\"],[0.5,\"#f7f7f7\"],[0.6,\"#e6f5d0\"],[0.7,\"#b8e186\"],[0.8,\"#7fbc41\"],[0.9,\"#4d9221\"],[1,\"#276419\"]]},\"xaxis\":{\"gridcolor\":\"white\",\"linecolor\":\"white\",\"ticks\":\"\",\"title\":{\"standoff\":15},\"zerolinecolor\":\"white\",\"automargin\":true,\"zerolinewidth\":2},\"yaxis\":{\"gridcolor\":\"white\",\"linecolor\":\"white\",\"ticks\":\"\",\"title\":{\"standoff\":15},\"zerolinecolor\":\"white\",\"automargin\":true,\"zerolinewidth\":2},\"scene\":{\"xaxis\":{\"backgroundcolor\":\"#E5ECF6\",\"gridcolor\":\"white\",\"linecolor\":\"white\",\"showbackground\":true,\"ticks\":\"\",\"zerolinecolor\":\"white\",\"gridwidth\":2},\"yaxis\":{\"backgroundcolor\":\"#E5ECF6\",\"gridcolor\":\"white\",\"linecolor\":\"white\",\"showbackground\":true,\"ticks\":\"\",\"zerolinecolor\":\"white\",\"gridwidth\":2},\"zaxis\":{\"backgroundcolor\":\"#E5ECF6\",\"gridcolor\":\"white\",\"linecolor\":\"white\",\"showbackground\":true,\"ticks\":\"\",\"zerolinecolor\":\"white\",\"gridwidth\":2}},\"shapedefaults\":{\"line\":{\"color\":\"#2a3f5f\"}},\"annotationdefaults\":{\"arrowcolor\":\"#2a3f5f\",\"arrowhead\":0,\"arrowwidth\":1},\"geo\":{\"bgcolor\":\"white\",\"landcolor\":\"#E5ECF6\",\"subunitcolor\":\"white\",\"showland\":true,\"showlakes\":true,\"lakecolor\":\"white\"},\"title\":{\"x\":0.05},\"mapbox\":{\"style\":\"light\"}}},\"scene\":{\"domain\":{\"x\":[0.0,1.0],\"y\":[0.0,1.0]},\"xaxis\":{\"title\":{\"text\":\"x\"}},\"yaxis\":{\"title\":{\"text\":\"y\"}},\"zaxis\":{\"title\":{\"text\":\"z\"}}},\"coloraxis\":{\"colorbar\":{\"title\":{\"text\":\"Cluster\"}},\"colorscale\":[[0.0,\"#0d0887\"],[0.1111111111111111,\"#46039f\"],[0.2222222222222222,\"#7201a8\"],[0.3333333333333333,\"#9c179e\"],[0.4444444444444444,\"#bd3786\"],[0.5555555555555556,\"#d8576b\"],[0.6666666666666666,\"#ed7953\"],[0.7777777777777778,\"#fb9f3a\"],[0.8888888888888888,\"#fdca26\"],[1.0,\"#f0f921\"]]},\"legend\":{\"tracegroupgap\":0},\"title\":{\"text\":\"Food App Reviews 3D Embeddings\"}},                        {\"responsive\": true}                    ).then(function(){\n",
       "                            \n",
       "var gd = document.getElementById('316668d4-4a33-45b2-8e0e-1d7c5593c43b');\n",
       "var x = new MutationObserver(function (mutations, observer) {{\n",
       "        var display = window.getComputedStyle(gd).display;\n",
       "        if (!display || display === 'none') {{\n",
       "            console.log([gd, 'removed!']);\n",
       "            Plotly.purge(gd);\n",
       "            observer.disconnect();\n",
       "        }}\n",
       "}});\n",
       "\n",
       "// Listen for the removal of the full notebook cells\n",
       "var notebookContainer = gd.closest('#notebook-container');\n",
       "if (notebookContainer) {{\n",
       "    x.observe(notebookContainer, {childList: true});\n",
       "}}\n",
       "\n",
       "// Listen for the clearing of the current output cell\n",
       "var outputEl = gd.closest('.output');\n",
       "if (outputEl) {{\n",
       "    x.observe(outputEl, {childList: true});\n",
       "}}\n",
       "\n",
       "                        })                };                            </script>        </div>\n",
       "</body>\n",
       "</html>"
      ]
     },
     "metadata": {},
     "output_type": "display_data"
    }
   ],
   "source": [
    "# Create a DataFrame for the data\n",
    "cluster_df = pd.DataFrame({\n",
    "    'x': embeddings_3d[:, 0],\n",
    "    'y': embeddings_3d[:, 1],\n",
    "    'z': embeddings_3d[:, 2],\n",
    "    'label': cluster_labels,\n",
    "    'sentence': data['Review']\n",
    "})\n",
    "\n",
    "# Create a 3D scatter plot using plotly\n",
    "fig = px.scatter_3d(\n",
    "    cluster_df,\n",
    "    x='x', y='y', z='z',\n",
    "    color='label',\n",
    "    hover_name='sentence',\n",
    "    title='Food App Reviews 3D Embeddings',\n",
    "    labels={'label': 'Cluster'},\n",
    ")\n",
    "\n",
    "fig.update_traces(\n",
    "    marker=dict(size=5)  # Adjust the size value as needed\n",
    ")\n",
    "\n",
    "fig.show()"
   ]
  },
  {
   "cell_type": "code",
   "execution_count": 2,
   "metadata": {},
   "outputs": [
    {
     "name": "stdout",
     "output_type": "stream",
     "text": [
      "YOLO\n"
     ]
    }
   ],
   "source": [
    "print(\"YOLO\")"
   ]
  },
  {
   "cell_type": "code",
   "execution_count": null,
   "metadata": {},
   "outputs": [],
   "source": []
  }
 ],
 "metadata": {
  "colab": {
   "provenance": []
  },
  "kernelspec": {
   "display_name": "Python 3 (ipykernel)",
   "language": "python",
   "name": "python3"
  },
  "language_info": {
   "codemirror_mode": {
    "name": "ipython",
    "version": 3
   },
   "file_extension": ".py",
   "mimetype": "text/x-python",
   "name": "python",
   "nbconvert_exporter": "python",
   "pygments_lexer": "ipython3",
   "version": "3.10.10"
  }
 },
 "nbformat": 4,
 "nbformat_minor": 1
}
